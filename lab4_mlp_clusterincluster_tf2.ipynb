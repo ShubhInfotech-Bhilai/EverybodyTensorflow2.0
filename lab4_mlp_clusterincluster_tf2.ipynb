{
  "nbformat": 4,
  "nbformat_minor": 0,
  "metadata": {
    "colab": {
      "name": "lab4_mlp_clusterincluster_tf2.ipynb",
      "provenance": [],
      "include_colab_link": true
    },
    "kernelspec": {
      "name": "python3",
      "display_name": "Python 3"
    }
  },
  "cells": [
    {
      "cell_type": "markdown",
      "metadata": {
        "id": "view-in-github",
        "colab_type": "text"
      },
      "source": [
        "<a href=\"https://colab.research.google.com/github/jwkanggist/EverybodyTensorflow2.0/blob/master/lab4_mlp_clusterincluster_tf2.ipynb\" target=\"_parent\"><img src=\"https://colab.research.google.com/assets/colab-badge.svg\" alt=\"Open In Colab\"/></a>"
      ]
    },
    {
      "cell_type": "markdown",
      "metadata": {
        "id": "fwhPPKCHibvt",
        "colab_type": "text"
      },
      "source": [
        "#LAB4 Multi-layer perceptron for cluster in cluster data\n",
        "\n",
        "목적: 가장 기본적인 classification 문제 인 cluster-in-cluster data classification을 tf2.0을 가지고 풀어본다"
      ]
    },
    {
      "cell_type": "code",
      "metadata": {
        "id": "8aITYZ6LiYp5",
        "colab_type": "code",
        "colab": {
          "base_uri": "https://localhost:8080/",
          "height": 717
        },
        "outputId": "7cfb55f9-417e-4625-f307-20061624c47c"
      },
      "source": [
        "# preprocessor parts\n",
        "\n",
        "from __future__ import absolute_import, division, print_function, unicode_literals\n",
        "\n",
        "# Install TensorFlow\n",
        "try:\n",
        "  # %tensorflow_version only exists in Colab.\n",
        "  %tensorflow_version 2.x\n",
        "except Exception:\n",
        "  pass\n",
        "\n",
        "import tensorflow as tf\n",
        "import numpy as np\n",
        "import pandas as pd\n",
        "\n",
        "from matplotlib import cm\n",
        "from matplotlib import gridspec\n",
        "import matplotlib.pyplot as plt\n",
        "\n",
        "from datetime import datetime\n",
        "\n",
        "from google.colab import drive\n",
        "# This will prompt for authorization.\n",
        "drive.mount('/content/drive')"
      ],
      "execution_count": 9,
      "outputs": [
        {
          "output_type": "stream",
          "text": [
            "Drive already mounted at /content/drive; to attempt to forcibly remount, call drive.mount(\"/content/drive\", force_remount=True).\n",
            "'자동차 관리'\n",
            " 190625_autodilabel_marco.gslides\n",
            "'제출서류 (1).zip'\n",
            "'스크린샷 2019-10-20 오후 4.50.49.png'\n",
            "'스크린샷 2019-11-12 오후 2.11.09.png'\n",
            "'2020 회사마일스톤.gsheet'\n",
            "'기술회의 5_21.pdf'\n",
            " asset\n",
            "'clustering in khan: 19하반기 로드맵.gdoc'\n",
            "'Colab Notebooks'\n",
            " company\n",
            "'CSD in konkuk'\n",
            " csnlbackup\n",
            " DeepNol\n",
            "'네이버 면접  키워드.gdoc'\n",
            "'아사쿠사에서 재우기가 현주에게.gdoc'\n",
            "'알렉스 요청.gsheet'\n",
            "'성수동 맛집.gsheet'\n",
            " 제주도휴가계획.gsheet\n",
            " jay_uiuc_recommand_letter_19dec.docx\n",
            " jay_uiuc_recommand_letter_19dec.gdoc\n",
            " jejucamp2018_admin\n",
            " job\n",
            " kaa-thres-logic\n",
            " kaa-thres-logic.png\n",
            " knowledge_chunk\n",
            " legacy\n",
            " MoTLAB\n",
            " oliruco\n",
            "'paper summary template.gdoc'\n",
            " phD_thesis\n",
            " platfarm_backup\n",
            " private\n",
            " seminar_materials\n",
            "'구매커피콩리스트 (since June2019).gsheet'\n",
            " soundlly\n",
            "'stocks analysis.gsheet'\n",
            " trips\n",
            " 제출서류.zip\n"
          ],
          "name": "stdout"
        }
      ]
    },
    {
      "cell_type": "code",
      "metadata": {
        "id": "h1iVt3DGi-hU",
        "colab_type": "code",
        "colab": {
          "base_uri": "https://localhost:8080/",
          "height": 336
        },
        "outputId": "b496e7e5-18dd-445e-d3c3-706fb2e9e6fe"
      },
      "source": [
        "xsize  = 2\n",
        "ysize  = 2\n",
        "\n",
        "data = pd.read_csv('/content/drive/My Drive/seminar_materials/TensorFlow Lecture/KIT2020/data/clusterincluster_N5000.csv')\n",
        "data.columns=['xdata1','xdata2','tdata']\n",
        "permutation_index = np.random.permutation(data.index)\n",
        "permutated_data = data.reindex(permutation_index)\n",
        "permutated_data.columns=['xdata1','xdata2','tdata']\n",
        "\n",
        "x_data = np.zeros([permutated_data.xdata1.size,xsize])\n",
        "x_data[:,0] = permutated_data.xdata1.values\n",
        "x_data[:,1] = permutated_data.xdata2.values\n",
        "\n",
        "t_data = np.zeros([permutated_data.tdata.size,ysize])\n",
        "t_data[:,0] = permutated_data.tdata.values\n",
        "t_data[:,1] = np.invert(permutated_data.tdata.values) + 2\n",
        "\n",
        "\n",
        "total_size = permutated_data.xdata1.size\n",
        "training_size = int(np.floor(permutated_data.xdata1.size * 0.8))\n",
        "validation_size = total_size - training_size\n",
        "\n",
        "\n",
        "\n",
        "# data dividing\n",
        "x_train = x_data[0:training_size,:]\n",
        "y_train = t_data[0:training_size,:]\n",
        "\n",
        "x_test = x_data[training_size:-1,:]\n",
        "y_test = t_data[training_size:-1,:]\n",
        "\n",
        "# #data plot\n",
        "hfig1= plt.figure(1,figsize=[5,5])\n",
        "plt.scatter(data.xdata1.values[0:int(data.xdata1.size/2)],\\\n",
        "            data.xdata2.values[0:int(data.xdata1.size/2)], \\\n",
        "            color='b',label='class1')\n",
        "plt.scatter(data.xdata1.values[int(data.xdata1.size/2)+2:-1],\\\n",
        "            data.xdata2.values[int(data.xdata1.size/2)+2:-1], \\\n",
        "            color='r',label='class0')\n",
        "plt.title('Cluster in Cluster data Example')\n",
        "plt.legend()\n",
        "\n",
        "plt.show()"
      ],
      "execution_count": 49,
      "outputs": [
        {
          "output_type": "display_data",
          "data": {
            "image/png": "[encoded data removed]",
            "text/plain": [
              "<Figure size 360x360 with 1 Axes>"
            ]
          },
          "metadata": {
            "tags": []
          }
        }
      ]
    },
    {
      "cell_type": "code",
      "metadata": {
        "id": "Masj0dGLnPdu",
        "colab_type": "code",
        "colab": {}
      },
      "source": [
        "# model building and training setting part\n",
        "\n",
        "# Network Parameters\n",
        "n_hidden_1 = 7 # 1st layer number of neurons\n",
        "n_hidden_2 = 5 # 2nd layer number of neurons\n",
        "num_input = xsize   # two-dimensional input X = [1x2]\n",
        "num_classes = ysize # 2 class\n",
        "\n",
        "model = tf.keras.models.Sequential([\n",
        "  tf.keras.layers.Dense(n_hidden_1, activation='relu'),\n",
        "  tf.keras.layers.Dense(n_hidden_2, activation='relu'),\n",
        "  tf.keras.layers.Dense(num_classes, activation='softmax')\n",
        "])\n",
        "\n",
        "model.compile(optimizer='adam',\n",
        "              loss='categorical_crossentropy',\n",
        "              metrics=['accuracy'])"
      ],
      "execution_count": 0,
      "outputs": []
    },
    {
      "cell_type": "code",
      "metadata": {
        "id": "PZlHSCggnwbt",
        "colab_type": "code",
        "colab": {
          "base_uri": "https://localhost:8080/",
          "height": 1000
        },
        "outputId": "7ee7dc21-e68f-4bfa-fff4-291478991a35"
      },
      "source": [
        "# model training and evaluation part\n",
        "training_epochs = 100\n",
        "batch_size = 128\n",
        "\n",
        "model.fit(x_train, y_train, epochs=training_epochs,batch_size=128)\n",
        "model.evaluate(x_test,  y_test, verbose=2)"
      ],
      "execution_count": 39,
      "outputs": [
        {
          "output_type": "stream",
          "text": [
            "Train on 3996 samples\n",
            "Epoch 1/100\n",
            "3996/3996 [==============================] - 1s 167us/sample - loss: 0.7894 - accuracy: 0.4174\n",
            "Epoch 2/100\n",
            "3996/3996 [==============================] - 0s 13us/sample - loss: 0.7053 - accuracy: 0.3028\n",
            "Epoch 3/100\n",
            "3996/3996 [==============================] - 0s 14us/sample - loss: 0.6538 - accuracy: 0.4695\n",
            "Epoch 4/100\n",
            "3996/3996 [==============================] - 0s 11us/sample - loss: 0.6111 - accuracy: 0.6602\n",
            "Epoch 5/100\n",
            "3996/3996 [==============================] - 0s 12us/sample - loss: 0.5695 - accuracy: 0.7550\n",
            "Epoch 6/100\n",
            "3996/3996 [==============================] - 0s 11us/sample - loss: 0.5258 - accuracy: 0.8338\n",
            "Epoch 7/100\n",
            "3996/3996 [==============================] - 0s 12us/sample - loss: 0.4783 - accuracy: 0.9124\n",
            "Epoch 8/100\n",
            "3996/3996 [==============================] - 0s 13us/sample - loss: 0.4238 - accuracy: 0.9637\n",
            "Epoch 9/100\n",
            "3996/3996 [==============================] - 0s 11us/sample - loss: 0.3577 - accuracy: 0.9907\n",
            "Epoch 10/100\n",
            "3996/3996 [==============================] - 0s 12us/sample - loss: 0.2916 - accuracy: 1.0000\n",
            "Epoch 11/100\n",
            "3996/3996 [==============================] - 0s 12us/sample - loss: 0.2340 - accuracy: 1.0000\n",
            "Epoch 12/100\n",
            "3996/3996 [==============================] - 0s 12us/sample - loss: 0.1862 - accuracy: 1.0000\n",
            "Epoch 13/100\n",
            "3996/3996 [==============================] - 0s 14us/sample - loss: 0.1477 - accuracy: 1.0000\n",
            "Epoch 14/100\n",
            "3996/3996 [==============================] - 0s 12us/sample - loss: 0.1174 - accuracy: 1.0000\n",
            "Epoch 15/100\n",
            "3996/3996 [==============================] - 0s 12us/sample - loss: 0.0939 - accuracy: 1.0000\n",
            "Epoch 16/100\n",
            "3996/3996 [==============================] - 0s 11us/sample - loss: 0.0757 - accuracy: 1.0000\n",
            "Epoch 17/100\n",
            "3996/3996 [==============================] - 0s 11us/sample - loss: 0.0619 - accuracy: 1.0000\n",
            "Epoch 18/100\n",
            "3996/3996 [==============================] - 0s 12us/sample - loss: 0.0512 - accuracy: 1.0000\n",
            "Epoch 19/100\n",
            "3996/3996 [==============================] - 0s 11us/sample - loss: 0.0427 - accuracy: 1.0000\n",
            "Epoch 20/100\n",
            "3996/3996 [==============================] - 0s 12us/sample - loss: 0.0359 - accuracy: 1.0000\n",
            "Epoch 21/100\n",
            "3996/3996 [==============================] - 0s 11us/sample - loss: 0.0305 - accuracy: 1.0000\n",
            "Epoch 22/100\n",
            "3996/3996 [==============================] - 0s 12us/sample - loss: 0.0260 - accuracy: 1.0000\n",
            "Epoch 23/100\n",
            "3996/3996 [==============================] - 0s 11us/sample - loss: 0.0224 - accuracy: 1.0000\n",
            "Epoch 24/100\n",
            "3996/3996 [==============================] - 0s 11us/sample - loss: 0.0195 - accuracy: 1.0000\n",
            "Epoch 25/100\n",
            "3996/3996 [==============================] - 0s 12us/sample - loss: 0.0171 - accuracy: 1.0000\n",
            "Epoch 26/100\n",
            "3996/3996 [==============================] - 0s 11us/sample - loss: 0.0151 - accuracy: 1.0000\n",
            "Epoch 27/100\n",
            "3996/3996 [==============================] - 0s 11us/sample - loss: 0.0134 - accuracy: 1.0000\n",
            "Epoch 28/100\n",
            "3996/3996 [==============================] - 0s 12us/sample - loss: 0.0119 - accuracy: 1.0000\n",
            "Epoch 29/100\n",
            "3996/3996 [==============================] - 0s 11us/sample - loss: 0.0107 - accuracy: 1.0000\n",
            "Epoch 30/100\n",
            "3996/3996 [==============================] - 0s 13us/sample - loss: 0.0097 - accuracy: 1.0000\n",
            "Epoch 31/100\n",
            "3996/3996 [==============================] - 0s 15us/sample - loss: 0.0088 - accuracy: 1.0000\n",
            "Epoch 32/100\n",
            "3996/3996 [==============================] - 0s 12us/sample - loss: 0.0080 - accuracy: 1.0000\n",
            "Epoch 33/100\n",
            "3996/3996 [==============================] - 0s 11us/sample - loss: 0.0073 - accuracy: 1.0000\n",
            "Epoch 34/100\n",
            "3996/3996 [==============================] - 0s 12us/sample - loss: 0.0067 - accuracy: 1.0000\n",
            "Epoch 35/100\n",
            "3996/3996 [==============================] - 0s 11us/sample - loss: 0.0062 - accuracy: 1.0000\n",
            "Epoch 36/100\n",
            "3996/3996 [==============================] - 0s 11us/sample - loss: 0.0057 - accuracy: 1.0000\n",
            "Epoch 37/100\n",
            "3996/3996 [==============================] - 0s 12us/sample - loss: 0.0053 - accuracy: 1.0000\n",
            "Epoch 38/100\n",
            "3996/3996 [==============================] - 0s 13us/sample - loss: 0.0049 - accuracy: 1.0000\n",
            "Epoch 39/100\n",
            "3996/3996 [==============================] - 0s 11us/sample - loss: 0.0045 - accuracy: 1.0000\n",
            "Epoch 40/100\n",
            "3996/3996 [==============================] - 0s 11us/sample - loss: 0.0042 - accuracy: 1.0000\n",
            "Epoch 41/100\n",
            "3996/3996 [==============================] - 0s 10us/sample - loss: 0.0040 - accuracy: 1.0000\n",
            "Epoch 42/100\n",
            "3996/3996 [==============================] - 0s 12us/sample - loss: 0.0037 - accuracy: 1.0000\n",
            "Epoch 43/100\n",
            "3996/3996 [==============================] - 0s 11us/sample - loss: 0.0035 - accuracy: 1.0000\n",
            "Epoch 44/100\n",
            "3996/3996 [==============================] - 0s 12us/sample - loss: 0.0033 - accuracy: 1.0000\n",
            "Epoch 45/100\n",
            "3996/3996 [==============================] - 0s 11us/sample - loss: 0.0031 - accuracy: 1.0000\n",
            "Epoch 46/100\n",
            "3996/3996 [==============================] - 0s 12us/sample - loss: 0.0029 - accuracy: 1.0000\n",
            "Epoch 47/100\n",
            "3996/3996 [==============================] - 0s 11us/sample - loss: 0.0027 - accuracy: 1.0000\n",
            "Epoch 48/100\n",
            "3996/3996 [==============================] - 0s 11us/sample - loss: 0.0026 - accuracy: 1.0000\n",
            "Epoch 49/100\n",
            "3996/3996 [==============================] - 0s 12us/sample - loss: 0.0024 - accuracy: 1.0000\n",
            "Epoch 50/100\n",
            "3996/3996 [==============================] - 0s 13us/sample - loss: 0.0023 - accuracy: 1.0000\n",
            "Epoch 51/100\n",
            "3996/3996 [==============================] - 0s 11us/sample - loss: 0.0022 - accuracy: 1.0000\n",
            "Epoch 52/100\n",
            "3996/3996 [==============================] - 0s 12us/sample - loss: 0.0021 - accuracy: 1.0000\n",
            "Epoch 53/100\n",
            "3996/3996 [==============================] - 0s 13us/sample - loss: 0.0020 - accuracy: 1.0000\n",
            "Epoch 54/100\n",
            "3996/3996 [==============================] - 0s 13us/sample - loss: 0.0019 - accuracy: 1.0000\n",
            "Epoch 55/100\n",
            "3996/3996 [==============================] - 0s 12us/sample - loss: 0.0018 - accuracy: 1.0000\n",
            "Epoch 56/100\n",
            "3996/3996 [==============================] - 0s 12us/sample - loss: 0.0017 - accuracy: 1.0000\n",
            "Epoch 57/100\n",
            "3996/3996 [==============================] - 0s 12us/sample - loss: 0.0016 - accuracy: 1.0000\n",
            "Epoch 58/100\n",
            "3996/3996 [==============================] - 0s 11us/sample - loss: 0.0015 - accuracy: 1.0000\n",
            "Epoch 59/100\n",
            "3996/3996 [==============================] - 0s 13us/sample - loss: 0.0015 - accuracy: 1.0000\n",
            "Epoch 60/100\n",
            "3996/3996 [==============================] - 0s 13us/sample - loss: 0.0014 - accuracy: 1.0000\n",
            "Epoch 61/100\n",
            "3996/3996 [==============================] - 0s 13us/sample - loss: 0.0013 - accuracy: 1.0000\n",
            "Epoch 62/100\n",
            "3996/3996 [==============================] - 0s 12us/sample - loss: 0.0013 - accuracy: 1.0000\n",
            "Epoch 63/100\n",
            "3996/3996 [==============================] - 0s 12us/sample - loss: 0.0012 - accuracy: 1.0000\n",
            "Epoch 64/100\n",
            "3996/3996 [==============================] - 0s 13us/sample - loss: 0.0012 - accuracy: 1.0000\n",
            "Epoch 65/100\n",
            "3996/3996 [==============================] - 0s 12us/sample - loss: 0.0011 - accuracy: 1.0000\n",
            "Epoch 66/100\n",
            "3996/3996 [==============================] - 0s 12us/sample - loss: 0.0011 - accuracy: 1.0000\n",
            "Epoch 67/100\n",
            "3996/3996 [==============================] - 0s 12us/sample - loss: 0.0010 - accuracy: 1.0000\n",
            "Epoch 68/100\n",
            "3996/3996 [==============================] - 0s 12us/sample - loss: 0.0010 - accuracy: 1.0000\n",
            "Epoch 69/100\n",
            "3996/3996 [==============================] - 0s 13us/sample - loss: 9.6621e-04 - accuracy: 1.0000\n",
            "Epoch 70/100\n",
            "3996/3996 [==============================] - 0s 11us/sample - loss: 9.2895e-04 - accuracy: 1.0000\n",
            "Epoch 71/100\n",
            "3996/3996 [==============================] - 0s 13us/sample - loss: 8.9411e-04 - accuracy: 1.0000\n",
            "Epoch 72/100\n",
            "3996/3996 [==============================] - 0s 11us/sample - loss: 8.6132e-04 - accuracy: 1.0000\n",
            "Epoch 73/100\n",
            "3996/3996 [==============================] - 0s 11us/sample - loss: 8.2966e-04 - accuracy: 1.0000\n",
            "Epoch 74/100\n",
            "3996/3996 [==============================] - 0s 13us/sample - loss: 7.9939e-04 - accuracy: 1.0000\n",
            "Epoch 75/100\n",
            "3996/3996 [==============================] - 0s 12us/sample - loss: 7.7101e-04 - accuracy: 1.0000\n",
            "Epoch 76/100\n",
            "3996/3996 [==============================] - 0s 12us/sample - loss: 7.4340e-04 - accuracy: 1.0000\n",
            "Epoch 77/100\n",
            "3996/3996 [==============================] - 0s 12us/sample - loss: 7.1769e-04 - accuracy: 1.0000\n",
            "Epoch 78/100\n",
            "3996/3996 [==============================] - 0s 12us/sample - loss: 6.9267e-04 - accuracy: 1.0000\n",
            "Epoch 79/100\n",
            "3996/3996 [==============================] - 0s 12us/sample - loss: 6.6885e-04 - accuracy: 1.0000\n",
            "Epoch 80/100\n",
            "3996/3996 [==============================] - 0s 12us/sample - loss: 6.4606e-04 - accuracy: 1.0000\n",
            "Epoch 81/100\n",
            "3996/3996 [==============================] - 0s 13us/sample - loss: 6.2453e-04 - accuracy: 1.0000\n",
            "Epoch 82/100\n",
            "3996/3996 [==============================] - 0s 12us/sample - loss: 6.0366e-04 - accuracy: 1.0000\n",
            "Epoch 83/100\n",
            "3996/3996 [==============================] - 0s 12us/sample - loss: 5.8388e-04 - accuracy: 1.0000\n",
            "Epoch 84/100\n",
            "3996/3996 [==============================] - 0s 13us/sample - loss: 5.6459e-04 - accuracy: 1.0000\n",
            "Epoch 85/100\n",
            "3996/3996 [==============================] - 0s 12us/sample - loss: 5.4633e-04 - accuracy: 1.0000\n",
            "Epoch 86/100\n",
            "3996/3996 [==============================] - 0s 10us/sample - loss: 5.2886e-04 - accuracy: 1.0000\n",
            "Epoch 87/100\n",
            "3996/3996 [==============================] - 0s 13us/sample - loss: 5.1225e-04 - accuracy: 1.0000\n",
            "Epoch 88/100\n",
            "3996/3996 [==============================] - 0s 13us/sample - loss: 4.9636e-04 - accuracy: 1.0000\n",
            "Epoch 89/100\n",
            "3996/3996 [==============================] - 0s 13us/sample - loss: 4.8073e-04 - accuracy: 1.0000\n",
            "Epoch 90/100\n",
            "3996/3996 [==============================] - 0s 12us/sample - loss: 4.6615e-04 - accuracy: 1.0000\n",
            "Epoch 91/100\n",
            "3996/3996 [==============================] - 0s 13us/sample - loss: 4.5163e-04 - accuracy: 1.0000\n",
            "Epoch 92/100\n",
            "3996/3996 [==============================] - 0s 11us/sample - loss: 4.3780e-04 - accuracy: 1.0000\n",
            "Epoch 93/100\n",
            "3996/3996 [==============================] - 0s 13us/sample - loss: 4.2479e-04 - accuracy: 1.0000\n",
            "Epoch 94/100\n",
            "3996/3996 [==============================] - 0s 12us/sample - loss: 4.1212e-04 - accuracy: 1.0000\n",
            "Epoch 95/100\n",
            "3996/3996 [==============================] - 0s 12us/sample - loss: 3.9992e-04 - accuracy: 1.0000\n",
            "Epoch 96/100\n",
            "3996/3996 [==============================] - 0s 11us/sample - loss: 3.8829e-04 - accuracy: 1.0000\n",
            "Epoch 97/100\n",
            "3996/3996 [==============================] - 0s 12us/sample - loss: 3.7715e-04 - accuracy: 1.0000\n",
            "Epoch 98/100\n",
            "3996/3996 [==============================] - 0s 12us/sample - loss: 3.6621e-04 - accuracy: 1.0000\n",
            "Epoch 99/100\n",
            "3996/3996 [==============================] - 0s 11us/sample - loss: 3.5581e-04 - accuracy: 1.0000\n",
            "Epoch 100/100\n",
            "3996/3996 [==============================] - 0s 11us/sample - loss: 3.4545e-04 - accuracy: 1.0000\n",
            "998/998 - 0s - loss: 3.2919e-04 - accuracy: 1.0000\n"
          ],
          "name": "stdout"
        },
        {
          "output_type": "execute_result",
          "data": {
            "text/plain": [
              "[0.00032919494558605395, 1.0]"
            ]
          },
          "metadata": {
            "tags": []
          },
          "execution_count": 39
        }
      ]
    },
    {
      "cell_type": "code",
      "metadata": {
        "id": "k5_jKGigqyk2",
        "colab_type": "code",
        "colab": {
          "base_uri": "https://localhost:8080/",
          "height": 353
        },
        "outputId": "449ca269-5623-4527-bc5f-6a408339e87a"
      },
      "source": [
        "# prediction \n",
        "\n",
        "plt.figure(1,figsize=(5,5))\n",
        "test_input = x_test[0,:]\n",
        "test_output = y_test[0,:]\n",
        "pred_y = model.predict(test_input.reshape([1,xsize]))\n",
        "\n",
        "hfig2= plt.figure(2,figsize=[5,5])\n",
        "plt.scatter(data.xdata1.values[0:int(data.xdata1.size/2)],\\\n",
        "            data.xdata2.values[0:int(data.xdata1.size/2)], \\\n",
        "            color='b',label='class1')\n",
        "plt.scatter(data.xdata1.values[int(data.xdata1.size/2)+2:-1],\\\n",
        "            data.xdata2.values[int(data.xdata1.size/2)+2:-1], \\\n",
        "            color='r',label='class0')\n",
        "plt.scatter(test_input[0],test_input[1],color='k',marker='x')\n",
        "plt.title('Cluster in Cluster data test is class%s' % pred_y.argmax())\n",
        "plt.legend()\n",
        "\n",
        "plt.show()\n"
      ],
      "execution_count": 52,
      "outputs": [
        {
          "output_type": "display_data",
          "data": {
            "text/plain": [
              "<Figure size 360x360 with 0 Axes>"
            ]
          },
          "metadata": {
            "tags": []
          }
        },
        {
          "output_type": "display_data",
          "data": {
            "image/png": "[encoded data removed]",
            "text/plain": [
              "<Figure size 360x360 with 1 Axes>"
            ]
          },
          "metadata": {
            "tags": []
          }
        }
      ]
    }
  ]
}