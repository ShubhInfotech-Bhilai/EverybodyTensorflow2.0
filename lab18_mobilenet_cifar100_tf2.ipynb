{
  "nbformat": 4,
  "nbformat_minor": 0,
  "metadata": {
    "colab": {
      "name": "lab18_mobilenet_cifar100_tf2.ipynb",
      "provenance": [],
      "machine_shape": "hm",
      "include_colab_link": true
    },
    "kernelspec": {
      "name": "python3",
      "display_name": "Python 3"
    },
    "accelerator": "GPU"
  },
  "cells": [
    {
      "cell_type": "markdown",
      "metadata": {
        "id": "view-in-github",
        "colab_type": "text"
      },
      "source": [
        "<a href=\"https://colab.research.google.com/github/jwkanggist/EverybodyTensorflow2.0/blob/master/lab18_mobilenet_cifar100_tf2.ipynb\" target=\"_parent\"><img src=\"https://colab.research.google.com/assets/colab-badge.svg\" alt=\"Open In Colab\"/></a>"
      ]
    },
    {
      "cell_type": "markdown",
      "metadata": {
        "id": "aRFuS_UpsuIE",
        "colab_type": "text"
      },
      "source": [
        "#LAB18: Mobilenet for Cifar100\n",
        "\n",
        "Depthwise-separable *convolution을* 구현하여 moblienet을 만들어 보자\n",
        "- Cifar100 datatset을 위한 실험\n"
      ]
    },
    {
      "cell_type": "code",
      "metadata": {
        "id": "7eqAsq9nsp0P",
        "colab_type": "code",
        "colab": {}
      },
      "source": [
        "# preprocessor parts\n",
        "\n",
        "from __future__ import absolute_import, division, print_function, unicode_literals\n",
        "\n",
        "# Install TensorFlow\n",
        "try:\n",
        "  # %tensorflow_version only exists in Colab.\n",
        "  %tensorflow_version 2.x\n",
        "except Exception:\n",
        "  pass\n",
        "\n",
        "import tensorflow as tf\n",
        "from tensorflow.keras.callbacks import TensorBoard\n",
        "\n",
        "import numpy as np\n",
        "import pandas as pd\n",
        "\n",
        "from matplotlib import cm\n",
        "from matplotlib import gridspec\n",
        "import matplotlib.pyplot as plt\n",
        "\n",
        "from datetime import datetime"
      ],
      "execution_count": 0,
      "outputs": []
    },
    {
      "cell_type": "code",
      "metadata": {
        "id": "ES0hIsUdZMRc",
        "colab_type": "code",
        "colab": {}
      },
      "source": [
        "  # for Tensorboard use\n",
        "  LOG_DIR = 'drive/data/tb_logs'\n",
        "\t\n",
        "  !wget https://bin.equinox.io/c/4VmDzA7iaHb/ngrok-stable-linux-amd64.zip\n",
        "  !unzip ngrok-stable-linux-amd64.zip\n",
        "\t\n",
        "  import os\n",
        "  if not os.path.exists(LOG_DIR):\n",
        "    os.makedirs(LOG_DIR)\n",
        "\t  \n",
        "  get_ipython().system_raw(\n",
        "      'tensorboard --logdir {} --host 0.0.0.0 --port 6006 &'\n",
        "      .format(LOG_DIR))\n",
        "\t\n",
        "  get_ipython().system_raw('./ngrok http 6006 &')\n",
        "\t\n",
        "  !curl -s http://localhost:4040/api/tunnels | python3 -c \\\n",
        "      \"import sys, json; print(json.load(sys.stdin)['tunnels'][0]['public_url'])\""
      ],
      "execution_count": 0,
      "outputs": []
    },
    {
      "cell_type": "code",
      "metadata": {
        "id": "FZR5Lp-Xs5OS",
        "colab_type": "code",
        "colab": {}
      },
      "source": [
        "# dataset loading part\n",
        "# 데이터 파이프라인 부분 \n",
        "\n",
        "cifar100 = tf.keras.datasets.cifar100\n",
        "\n",
        "(x_train, y_train), (x_test, y_test) = cifar100.load_data()\n",
        "x_train, x_test = x_train / 255.0, x_test / 255.0\n",
        "\n",
        "print(\"x_train.shape = %s\" % str(x_train.shape))\n",
        "print(\"y_train.shape = %s\" % str(x_train.shape))\n",
        "\n",
        "x_train = x_train.reshape([x_train.shape[0],\n",
        "                           x_train.shape[1],\n",
        "                           x_train.shape[2],3])\n",
        "\n",
        "x_test = x_test.reshape([x_test.shape[0],\n",
        "                           x_test.shape[1],\n",
        "                           x_test.shape[2],3])\n",
        "\n",
        "\n",
        "x_train = np.array(tf.keras.backend.resize_images(x_train, height_factor=2,width_factor=2, data_format='channels_last',interpolation='bilinear'))\n",
        "x_test = np.array(tf.keras.backend.resize_images(x_test, height_factor=2,width_factor=2, data_format='channels_last',interpolation='bilinear'))\n",
        "\n",
        "print(\"x_train.shape = %s\" % str(x_train.shape))\n",
        "print(\"x_test.shape = %s\" % str(x_test.shape))\n",
        "\n",
        "print(\"y_train.shape = %s\" % str(y_train.shape))\n",
        "print(\"y_test.shape = %s\" % str(y_test.shape))\n",
        "\n",
        "input_shape = x_train.shape[1]"
      ],
      "execution_count": 0,
      "outputs": []
    },
    {
      "cell_type": "code",
      "metadata": {
        "id": "SXOTDGtts570",
        "colab_type": "code",
        "colab": {}
      },
      "source": [
        "# Network modules\n",
        "def conv_batchnorm_relu(net_in,filters,kernel_size,strides):\n",
        "  net = tf.keras.layers.Conv2D(filters,kernel_size=(kernel_size,kernel_size),\n",
        "                               strides=(strides,strides),\n",
        "                               padding='same',\n",
        "                               kernel_initializer='he_normal',\n",
        "                               activation=None)(net_in)\n",
        "  net = tf.keras.layers.BatchNormalization()(net)\n",
        "  net = tf.keras.layers.Activation(activation='relu')(net)\n",
        "  return net\n",
        "\n",
        "\n",
        "def convdw_batchnorm_relu(net_in,filters,depth_multiplier,kernel_size,strides):\n",
        "  net = tf.keras.layers.DepthwiseConv2D(kernel_size=(kernel_size,kernel_size),\n",
        "                                        strides=(strides,strides),\n",
        "                                        depth_multiplier=depth_multiplier,\n",
        "                                        padding='same',\n",
        "                                        kernel_initializer='he_normal',\n",
        "                                        activation=None)(net_in)\n",
        "  net = tf.keras.layers.BatchNormalization()(net)\n",
        "  net = conv_batchnorm_relu(net,filters,1,1)\n",
        "\n",
        "  return net\n",
        "\n",
        "\n",
        "depth_multiplier=1\n",
        "# moblienet model\n",
        "net_in = tf.keras.layers.Input(shape=(input_shape,input_shape,3))\n",
        "net = tf.keras.layers.Conv2D(64,kernel_size=(9,9),strides=1,padding='valid', kernel_initializer='he_normal',activation='relu')(net_in)\n",
        "# net = convdw_batchnorm_relu(net,32,3,1)\n",
        "# net = convdw_batchnorm_relu(net,64,3,2)\n",
        "net = convdw_batchnorm_relu(net,128,depth_multiplier,3,1)\n",
        "net = convdw_batchnorm_relu(net,128,depth_multiplier,3,2)\n",
        "net = convdw_batchnorm_relu(net,256,depth_multiplier,3,1)\n",
        "net = convdw_batchnorm_relu(net,256,depth_multiplier,3,2)\n",
        "net = convdw_batchnorm_relu(net,512,depth_multiplier,3,1)\n",
        "net = convdw_batchnorm_relu(net,512,depth_multiplier,3,1)\n",
        "net = convdw_batchnorm_relu(net,512,depth_multiplier,3,1)\n",
        "net = convdw_batchnorm_relu(net,512,depth_multiplier,3,1)\n",
        "net = convdw_batchnorm_relu(net,512,depth_multiplier,3,1)\n",
        "net = convdw_batchnorm_relu(net,512,depth_multiplier,3,2)\n",
        "net = convdw_batchnorm_relu(net,1024,depth_multiplier,3,2)\n",
        "net = tf.keras.layers.GlobalAvgPool2D(data_format='channels_last')(net)\n",
        "net = tf.keras.layers.Dropout(0.4)(net)\n",
        "net = tf.keras.layers.Dense(units=1000,activation='softmax')(net)\n",
        "model = tf.keras.models.Model(inputs=net_in,outputs=net)\n",
        "\n",
        "\n",
        "opt_fn = tf.keras.optimizers.Adam(learning_rate=1e-4,\n",
        "                                beta_1=0.9,\n",
        "                                beta_2=0.999)\n",
        "\n",
        "# 'sparse_categorical_crossentropy' is for integer labels\n",
        "model.compile(optimizer='adam',\n",
        "              loss='sparse_categorical_crossentropy',\n",
        "              metrics=['accuracy'])\n",
        "\n",
        "tensorboard_callback = TensorBoard(log_dir=LOG_DIR, \n",
        "                           histogram_freq=1,\n",
        "                           write_graph=True,\n",
        "                           write_images=True)"
      ],
      "execution_count": 0,
      "outputs": []
    },
    {
      "cell_type": "code",
      "metadata": {
        "id": "9IAXZUvis6Wq",
        "colab_type": "code",
        "colab": {}
      },
      "source": [
        "# model training and evaluation part\n",
        "training_epochs = 20\n",
        "batch_size = 128\n",
        "model.summary()\n",
        "model.fit(x_train, y_train, \n",
        "          epochs=training_epochs,\n",
        "          validation_data=(x_test, y_test),\n",
        "          batch_size=batch_size,\n",
        "          callbacks=[tensorboard_callback])\n",
        "model.evaluate(x_test,  y_test, verbose=2)"
      ],
      "execution_count": 0,
      "outputs": []
    },
    {
      "cell_type": "code",
      "metadata": {
        "id": "4Vr6A5y1t1FY",
        "colab_type": "code",
        "colab": {}
      },
      "source": [
        "# prediction \n",
        "\n",
        "test_input = x_test[300,:,:,:]\n",
        "pred_y = model.predict(test_input.reshape([1,64,64,3]))\n",
        "\n",
        "plt.figure(1)\n",
        "plt.imshow(test_input.reshape([64,64,3]))\n",
        "plt.title(\"input\")\n",
        "print(\"model prediction = %s\"% pred_y.argmax())\n"
      ],
      "execution_count": 0,
      "outputs": []
    }
  ]
}