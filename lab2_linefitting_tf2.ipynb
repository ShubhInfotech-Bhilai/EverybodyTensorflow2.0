{
  "nbformat": 4,
  "nbformat_minor": 0,
  "metadata": {
    "colab": {
      "name": "lab2_linefitting_tf2.ipynb",
      "provenance": [],
      "include_colab_link": true
    },
    "kernelspec": {
      "name": "python3",
      "display_name": "Python 3"
    }
  },
  "cells": [
    {
      "cell_type": "markdown",
      "metadata": {
        "id": "view-in-github",
        "colab_type": "text"
      },
      "source": [
        "<a href=\"https://colab.research.google.com/github/jwkanggist/EverybodyTensorflow2.0/blob/master/lab2_linefitting_tf2.ipynb\" target=\"_parent\"><img src=\"https://colab.research.google.com/assets/colab-badge.svg\" alt=\"Open In Colab\"/></a>"
      ]
    },
    {
      "cell_type": "markdown",
      "metadata": {
        "id": "BdXV_2J_Tprz",
        "colab_type": "text"
      },
      "source": [
        "# LAB2 Line-fitting\n",
        "목적: 가장 기본적인 머신러닝 연습문제인 line fitting 문제를 tf2.0을 가지고 풀어보자!"
      ]
    },
    {
      "cell_type": "code",
      "metadata": {
        "id": "euZerbm6Tnlr",
        "colab_type": "code",
        "colab": {}
      },
      "source": [
        "# preprocessor parts\n",
        "\n",
        "from __future__ import absolute_import, division, print_function, unicode_literals\n",
        "\n",
        "# Install TensorFlow\n",
        "try:\n",
        "  # %tensorflow_version only exists in Colab.\n",
        "  %tensorflow_version 2.x\n",
        "except Exception:\n",
        "  pass\n",
        "\n",
        "import tensorflow as tf\n",
        "import numpy as np\n",
        "\n",
        "from matplotlib import cm\n",
        "from matplotlib import gridspec\n",
        "import matplotlib.pyplot as plt\n",
        "\n",
        "from datetime import datetime\n"
      ],
      "execution_count": 0,
      "outputs": []
    },
    {
      "cell_type": "code",
      "metadata": {
        "id": "6Zfe8zI_UEQ2",
        "colab_type": "code",
        "colab": {}
      },
      "source": [
        "# Data pipeline: generation of data set\n",
        "total_size = 5000\n",
        "training_size = 4000\n",
        "validation_size = 1000\n",
        "xsize = 20\n",
        "\n",
        "x_data = np.zeros([xsize, total_size])\n",
        "a_true = 2\n",
        "b_true = 0.5\n",
        "\n",
        "for i in range(total_size):\n",
        "    x_data[:,i] =  np.linspace(0,10,xsize)\n",
        "\n",
        "noise_var   = 1.0\n",
        "noise       = np.sqrt(noise_var) * np.random.randn(xsize,total_size)\n",
        "y_clean     = a_true * x_data + b_true\n",
        "y_data      = y_clean + noise\n",
        "\n",
        "x_train = x_data[:,0:training_size].transpose()\n",
        "y_train = y_data[:,0:training_size].transpose()\n",
        "\n",
        "x_test = x_data[:,training_size:-1].transpose()\n",
        "y_test = y_data[:,training_size:-1].transpose()"
      ],
      "execution_count": 0,
      "outputs": []
    },
    {
      "cell_type": "code",
      "metadata": {
        "id": "Rwf2hDU-Vafg",
        "colab_type": "code",
        "colab": {}
      },
      "source": [
        "# model building\n",
        "\n",
        "model = tf.keras.models.Sequential([\n",
        "  tf.keras.layers.Dense(xsize, activation='linear'),\n",
        "])\n",
        "\n",
        "model.compile(optimizer='adam',\n",
        "              loss='mse',\n",
        "              metrics=['accuracy'])"
      ],
      "execution_count": 0,
      "outputs": []
    },
    {
      "cell_type": "code",
      "metadata": {
        "id": "Oj_sijQbYGAd",
        "colab_type": "code",
        "colab": {
          "base_uri": "https://localhost:8080/",
          "height": 748
        },
        "outputId": "5584ba92-faf9-4958-a666-8ede305a26f5"
      },
      "source": [
        "# model training and evaluation part\n",
        "training_epochs = 20\n",
        "model.fit(x_train, y_train, epochs=training_epochs)\n",
        "model.evaluate(x_test,  y_test, verbose=2)"
      ],
      "execution_count": 13,
      "outputs": [
        {
          "output_type": "stream",
          "text": [
            "Train on 4000 samples\n",
            "Epoch 1/20\n",
            "4000/4000 [==============================] - 0s 85us/sample - loss: 81.8486 - accuracy: 0.0000e+00\n",
            "Epoch 2/20\n",
            "4000/4000 [==============================] - 0s 42us/sample - loss: 11.8879 - accuracy: 0.0000e+00\n",
            "Epoch 3/20\n",
            "4000/4000 [==============================] - 0s 42us/sample - loss: 1.2676 - accuracy: 0.9520\n",
            "Epoch 4/20\n",
            "4000/4000 [==============================] - 0s 46us/sample - loss: 0.0954 - accuracy: 1.0000\n",
            "Epoch 5/20\n",
            "4000/4000 [==============================] - 0s 44us/sample - loss: 0.0048 - accuracy: 1.0000\n",
            "Epoch 6/20\n",
            "4000/4000 [==============================] - 0s 39us/sample - loss: 1.5576e-04 - accuracy: 1.0000\n",
            "Epoch 7/20\n",
            "4000/4000 [==============================] - 0s 41us/sample - loss: 3.0343e-06 - accuracy: 1.0000\n",
            "Epoch 8/20\n",
            "4000/4000 [==============================] - 0s 39us/sample - loss: 3.4059e-08 - accuracy: 1.0000\n",
            "Epoch 9/20\n",
            "4000/4000 [==============================] - 0s 41us/sample - loss: 2.6046e-10 - accuracy: 1.0000\n",
            "Epoch 10/20\n",
            "4000/4000 [==============================] - 0s 44us/sample - loss: 2.1922e-11 - accuracy: 1.0000\n",
            "Epoch 11/20\n",
            "4000/4000 [==============================] - 0s 42us/sample - loss: 8.5698e-12 - accuracy: 1.0000\n",
            "Epoch 12/20\n",
            "4000/4000 [==============================] - 0s 41us/sample - loss: 5.7710e-12 - accuracy: 1.0000\n",
            "Epoch 13/20\n",
            "4000/4000 [==============================] - 0s 43us/sample - loss: 3.3071e-12 - accuracy: 1.0000\n",
            "Epoch 14/20\n",
            "4000/4000 [==============================] - 0s 41us/sample - loss: 2.2009e-12 - accuracy: 1.0000\n",
            "Epoch 15/20\n",
            "4000/4000 [==============================] - 0s 42us/sample - loss: 1.5413e-12 - accuracy: 1.0000\n",
            "Epoch 16/20\n",
            "4000/4000 [==============================] - 0s 41us/sample - loss: 1.1294e-12 - accuracy: 1.0000\n",
            "Epoch 17/20\n",
            "4000/4000 [==============================] - 0s 41us/sample - loss: 9.8655e-13 - accuracy: 1.0000\n",
            "Epoch 18/20\n",
            "4000/4000 [==============================] - 0s 42us/sample - loss: 9.5094e-13 - accuracy: 1.0000\n",
            "Epoch 19/20\n",
            "4000/4000 [==============================] - 0s 44us/sample - loss: 9.4843e-13 - accuracy: 1.0000\n",
            "Epoch 20/20\n",
            "4000/4000 [==============================] - 0s 41us/sample - loss: 6.0694e-13 - accuracy: 1.0000\n",
            "999/999 - 0s - loss: 5.3636e-13 - accuracy: 1.0000\n"
          ],
          "name": "stdout"
        },
        {
          "output_type": "execute_result",
          "data": {
            "text/plain": [
              "[5.363569662024396e-13, 1.0]"
            ]
          },
          "metadata": {
            "tags": []
          },
          "execution_count": 13
        }
      ]
    },
    {
      "cell_type": "code",
      "metadata": {
        "id": "6hJ8YZpuZ7oi",
        "colab_type": "code",
        "colab": {
          "base_uri": "https://localhost:8080/",
          "height": 638
        },
        "outputId": "eff6739f-afc3-4c2c-bd38-ce9d28e4c5ae"
      },
      "source": [
        "# prediction \n",
        "\n",
        "plt.figure(1,figsize=(10,10))\n",
        "test_input = x_test[0,:]\n",
        "test_output = y_test[0,:]\n",
        "pred_y = model.predict(test_input.reshape([1,20]))\n",
        "plt.plot(test_input,test_output,label='noisy data',color='b',marker='*')\n",
        "plt.plot(test_input, pred_y.reshape([xsize,]),label='prediction',color='r')\n",
        "plt.legend()\n",
        "plt.title('A line fitting example:')\n",
        "plt.xlabel('X data')\n",
        "plt.ylabel('Y data')"
      ],
      "execution_count": 24,
      "outputs": [
        {
          "output_type": "execute_result",
          "data": {
            "text/plain": [
              "Text(0, 0.5, 'Y data')"
            ]
          },
          "metadata": {
            "tags": []
          },
          "execution_count": 24
        },
        {
          "output_type": "display_data",
          "data": {
            "image/png": "[encoded data removed]",
            "text/plain": [
              "<Figure size 720x720 with 1 Axes>"
            ]
          },
          "metadata": {
            "tags": []
          }
        }
      ]
    }
  ]
}