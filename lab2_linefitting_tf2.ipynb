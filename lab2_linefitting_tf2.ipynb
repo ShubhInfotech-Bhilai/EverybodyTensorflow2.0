{
  "nbformat": 4,
  "nbformat_minor": 0,
  "metadata": {
    "colab": {
      "name": "lab2_linefitting_tf2.ipynb",
      "provenance": [],
      "include_colab_link": true
    },
    "kernelspec": {
      "name": "python3",
      "display_name": "Python 3"
    }
  },
  "cells": [
    {
      "cell_type": "markdown",
      "metadata": {
        "id": "view-in-github",
        "colab_type": "text"
      },
      "source": [
        "<a href=\"https://colab.research.google.com/github/jwkanggist/EverybodyTensorflow2.0/blob/master/lab2_linefitting_tf2.ipynb\" target=\"_parent\"><img src=\"https://colab.research.google.com/assets/colab-badge.svg\" alt=\"Open In Colab\"/></a>"
      ]
    },
    {
      "cell_type": "markdown",
      "metadata": {
        "id": "BdXV_2J_Tprz",
        "colab_type": "text"
      },
      "source": [
        "# LAB2 Line-fitting\n",
        "목적: 가장 기본적인 머신러닝 연습문제인 line fitting 문제를 tf2.0을 가지고 풀어보자!"
      ]
    },
    {
      "cell_type": "code",
      "metadata": {
        "id": "euZerbm6Tnlr",
        "colab_type": "code",
        "colab": {}
      },
      "source": [
        "# preprocessor parts\n",
        "\n",
        "from __future__ import absolute_import, division, print_function, unicode_literals\n",
        "\n",
        "# Install TensorFlow\n",
        "try:\n",
        "  # %tensorflow_version only exists in Colab.\n",
        "  %tensorflow_version 2.x\n",
        "except Exception:\n",
        "  pass\n",
        "\n",
        "import tensorflow as tf\n",
        "from tensorflow.keras.callbacks import TensorBoard\n",
        "\n",
        "import numpy as np\n",
        "\n",
        "from matplotlib import cm\n",
        "from matplotlib import gridspec\n",
        "import matplotlib.pyplot as plt\n",
        "\n",
        "from datetime import datetime"
      ],
      "execution_count": 0,
      "outputs": []
    },
    {
      "cell_type": "code",
      "metadata": {
        "id": "GiF-wS3UX8WR",
        "colab_type": "code",
        "colab": {}
      },
      "source": [
        "  # for Tensorboard use\n",
        "  LOG_DIR = 'drive/data/tb_logs'\n",
        "\t\n",
        "  !wget https://bin.equinox.io/c/4VmDzA7iaHb/ngrok-stable-linux-amd64.zip\n",
        "  !unzip ngrok-stable-linux-amd64.zip\n",
        "\t\n",
        "  import os\n",
        "  if not os.path.exists(LOG_DIR):\n",
        "    os.makedirs(LOG_DIR)\n",
        "\t  \n",
        "  get_ipython().system_raw(\n",
        "      'tensorboard --logdir {} --host 0.0.0.0 --port 6006 &'\n",
        "      .format(LOG_DIR))\n",
        "\t\n",
        "  get_ipython().system_raw('./ngrok http 6006 &')\n",
        "\t\n",
        "  !curl -s http://localhost:4040/api/tunnels | python3 -c \\\n",
        "      \"import sys, json; print(json.load(sys.stdin)['tunnels'][0]['public_url'])\""
      ],
      "execution_count": 0,
      "outputs": []
    },
    {
      "cell_type": "code",
      "metadata": {
        "id": "6Zfe8zI_UEQ2",
        "colab_type": "code",
        "colab": {}
      },
      "source": [
        "# Data pipeline: generation of data set\n",
        "total_size = 5000\n",
        "training_size = 4000\n",
        "validation_size = 1000\n",
        "xsize = 20\n",
        "\n",
        "x_data = np.zeros([xsize, total_size])\n",
        "a_true = 2\n",
        "b_true = 0.5\n",
        "\n",
        "for i in range(total_size):\n",
        "    x_data[:,i] =  np.linspace(0,10,xsize)\n",
        "\n",
        "noise_var   = 1.0\n",
        "noise       = np.sqrt(noise_var) * np.random.randn(xsize,total_size)\n",
        "y_clean     = a_true * x_data + b_true\n",
        "y_data      = y_clean + noise\n",
        "\n",
        "x_train = x_data[:,0:training_size].transpose()\n",
        "y_train = y_data[:,0:training_size].transpose()\n",
        "\n",
        "x_test = x_data[:,training_size:-1].transpose()\n",
        "y_test = y_data[:,training_size:-1].transpose()"
      ],
      "execution_count": 0,
      "outputs": []
    },
    {
      "cell_type": "code",
      "metadata": {
        "id": "Rwf2hDU-Vafg",
        "colab_type": "code",
        "colab": {}
      },
      "source": [
        "# model building\n",
        "\n",
        "model = tf.keras.models.Sequential([\n",
        "  tf.keras.layers.Dense(xsize, activation='linear'),\n",
        "])\n",
        "\n",
        "model.compile(optimizer='adam',\n",
        "              loss='mse',\n",
        "              metrics=['accuracy'])\n",
        "\n",
        "tensorboard_callback = TensorBoard(log_dir=LOG_DIR, \n",
        "                           histogram_freq=1,\n",
        "                           write_graph=True,\n",
        "                           write_images=True)"
      ],
      "execution_count": 0,
      "outputs": []
    },
    {
      "cell_type": "code",
      "metadata": {
        "id": "Oj_sijQbYGAd",
        "colab_type": "code",
        "colab": {}
      },
      "source": [
        "# model training and evaluation part\n",
        "training_epochs = 20\n",
        "model.fit(x_train, y_train, \n",
        "          epochs=training_epochs,\n",
        "          validation_data=(x_test, y_test),\n",
        "          batch_size=128,\n",
        "          callbacks=[tensorboard_callback])\n",
        "\n",
        "model.evaluate(x_test,  y_test, verbose=2)"
      ],
      "execution_count": 0,
      "outputs": []
    },
    {
      "cell_type": "code",
      "metadata": {
        "id": "6hJ8YZpuZ7oi",
        "colab_type": "code",
        "colab": {}
      },
      "source": [
        "# prediction \n",
        "\n",
        "plt.figure(1,figsize=(10,10))\n",
        "test_input = x_test[0,:]\n",
        "test_output = y_test[0,:]\n",
        "pred_y = model.predict(test_input.reshape([1,xsize]))\n",
        "plt.plot(test_input,test_output,label='noisy data',color='b',marker='*')\n",
        "plt.plot(test_input, pred_y.reshape([xsize,]),label='prediction',color='r')\n",
        "plt.legend()\n",
        "plt.title('A line fitting example:')\n",
        "plt.xlabel('X data')\n",
        "plt.ylabel('Y data')"
      ],
      "execution_count": 0,
      "outputs": []
    }
  ]
}