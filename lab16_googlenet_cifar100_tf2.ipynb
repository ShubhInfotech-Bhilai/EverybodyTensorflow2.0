{
  "nbformat": 4,
  "nbformat_minor": 0,
  "metadata": {
    "colab": {
      "name": "lab16_googlenet_cifar100_tf2.ipynb",
      "provenance": [],
      "machine_shape": "hm",
      "include_colab_link": true
    },
    "kernelspec": {
      "name": "python3",
      "display_name": "Python 3"
    },
    "accelerator": "GPU"
  },
  "cells": [
    {
      "cell_type": "markdown",
      "metadata": {
        "id": "view-in-github",
        "colab_type": "text"
      },
      "source": [
        "<a href=\"https://colab.research.google.com/github/jwkanggist/EverybodyTensorflow2.0/blob/master/lab16_googlenet_cifar100_tf2.ipynb\" target=\"_parent\"><img src=\"https://colab.research.google.com/assets/colab-badge.svg\" alt=\"Open In Colab\"/></a>"
      ]
    },
    {
      "cell_type": "markdown",
      "metadata": {
        "id": "aRFuS_UpsuIE",
        "colab_type": "text"
      },
      "source": [
        "#LAB16: GoogLenet for imagenet\n",
        "\n",
        "Inception을 구현하여 GoogLenet을 구현해보자 \n",
        "- Cifar100 datatset을 위한 실험\n"
      ]
    },
    {
      "cell_type": "code",
      "metadata": {
        "id": "7eqAsq9nsp0P",
        "colab_type": "code",
        "colab": {}
      },
      "source": [
        "# preprocessor parts\n",
        "\n",
        "from __future__ import absolute_import, division, print_function, unicode_literals\n",
        "\n",
        "# Install TensorFlow\n",
        "try:\n",
        "  # %tensorflow_version only exists in Colab.\n",
        "  %tensorflow_version 2.x\n",
        "except Exception:\n",
        "  pass\n",
        "\n",
        "import tensorflow as tf\n",
        "from tensorflow.keras.callbacks import TensorBoard\n",
        "\n",
        "import numpy as np\n",
        "import pandas as pd\n",
        "import cv2\n",
        "import numpy as np\n",
        "\n",
        "from matplotlib import cm\n",
        "from matplotlib import gridspec\n",
        "import matplotlib.pyplot as plt\n",
        "\n",
        "from datetime import datetime"
      ],
      "execution_count": 0,
      "outputs": []
    },
    {
      "cell_type": "code",
      "metadata": {
        "id": "ES0hIsUdZMRc",
        "colab_type": "code",
        "colab": {}
      },
      "source": [
        "  # for Tensorboard use\n",
        "  LOG_DIR = 'drive/data/tb_logs'\n",
        "\t\n",
        "  !wget https://bin.equinox.io/c/4VmDzA7iaHb/ngrok-stable-linux-amd64.zip\n",
        "  !unzip ngrok-stable-linux-amd64.zip\n",
        "\t\n",
        "  import os\n",
        "  if not os.path.exists(LOG_DIR):\n",
        "    os.makedirs(LOG_DIR)\n",
        "\t  \n",
        "  get_ipython().system_raw(\n",
        "      'tensorboard --logdir {} --host 0.0.0.0 --port 6006 &'\n",
        "      .format(LOG_DIR))\n",
        "\t\n",
        "  get_ipython().system_raw('./ngrok http 6006 &')\n",
        "\t\n",
        "  !curl -s http://localhost:4040/api/tunnels | python3 -c \\\n",
        "      \"import sys, json; print(json.load(sys.stdin)['tunnels'][0]['public_url'])\""
      ],
      "execution_count": 0,
      "outputs": []
    },
    {
      "cell_type": "code",
      "metadata": {
        "id": "FZR5Lp-Xs5OS",
        "colab_type": "code",
        "outputId": "8689b242-9239-4fc6-c811-23c783a8fa00",
        "colab": {
          "base_uri": "https://localhost:8080/",
          "height": 153
        }
      },
      "source": [
        "# dataset loading part\n",
        "# 데이터 파이프라인 부분 \n",
        "\n",
        "cifar100 = tf.keras.datasets.cifar100\n",
        "\n",
        "(x_train, y_train), (x_test, y_test) = cifar100.load_data()\n",
        "x_train, x_test = x_train / 255.0, x_test / 255.0\n",
        "\n",
        "print(\"x_train.shape = %s\" % str(x_train.shape))\n",
        "print(\"y_train.shape = %s\" % str(x_train.shape))\n",
        "\n",
        "x_train = x_train.reshape([x_train.shape[0],\n",
        "                           x_train.shape[1],\n",
        "                           x_train.shape[2],3])\n",
        "\n",
        "x_test = x_test.reshape([x_test.shape[0],\n",
        "                           x_test.shape[1],\n",
        "                           x_test.shape[2],3])\n",
        "\n",
        "\n",
        "x_train = np.array(tf.keras.backend.resize_images(x_train, height_factor=2,width_factor=2, data_format='channels_last',interpolation='bilinear'))\n",
        "x_test = np.array(tf.keras.backend.resize_images(x_test, height_factor=2,width_factor=2, data_format='channels_last',interpolation='bilinear'))\n",
        "\n",
        "print(\"x_train.shape = %s\" % str(x_train.shape))\n",
        "print(\"x_test.shape = %s\" % str(x_test.shape))\n",
        "\n",
        "print(\"y_train.shape = %s\" % str(y_train.shape))\n",
        "print(\"y_test.shape = %s\" % str(y_test.shape))\n",
        "\n",
        "input_shape = x_train.shape[1]"
      ],
      "execution_count": 3,
      "outputs": [
        {
          "output_type": "stream",
          "text": [
            "Downloading data from https://www.cs.toronto.edu/~kriz/cifar-100-python.tar.gz\n",
            "169009152/169001437 [==============================] - 2s 0us/step\n",
            "x_train.shape = (50000, 32, 32, 3)\n",
            "y_train.shape = (50000, 32, 32, 3)\n",
            "x_train.shape = (50000, 64, 64, 3)\n",
            "x_test.shape = (10000, 64, 64, 3)\n",
            "y_train.shape = (50000, 1)\n",
            "y_test.shape = (10000, 1)\n"
          ],
          "name": "stdout"
        }
      ]
    },
    {
      "cell_type": "code",
      "metadata": {
        "id": "SXOTDGtts570",
        "colab_type": "code",
        "colab": {}
      },
      "source": [
        "# Network modules\n",
        "def conv_batchnorm_relu(net_in,filters,kernel_size,strides):\n",
        "  net = tf.keras.layers.Conv2D(filters,kernel_size=(kernel_size,kernel_size),\n",
        "                               strides=(strides,strides),\n",
        "                               padding='same',\n",
        "                               kernel_initializer='he_normal',\n",
        "                               activation=None)(net_in)\n",
        "  net = tf.keras.layers.BatchNormalization()(net)\n",
        "  net = tf.keras.layers.Activation(activation='relu')(net)\n",
        "  return net\n",
        "\n",
        "\n",
        "def reduced_conv(net_in,reduced_chdim,filters,kernel_size,strides):\n",
        "  net = conv_batchnorm_relu(net_in,reduced_chdim,1,1)\n",
        "  net = conv_batchnorm_relu(net,filters,kernel_size,strides)\n",
        "  return net\n",
        "\n",
        "\n",
        "def inception(net_in,chdim1x1,chdim3x3reduce,chdim3x3,chdim5x5reduce,chdim5x5,maxproj,name):\n",
        "  with tf.keras.backend.name_scope(name):\n",
        "    net1  = conv_batchnorm_relu(net_in,filters=chdim1x1,\n",
        "                                kernel_size=1,\n",
        "                                strides=1)\n",
        "    net2 = reduced_conv(net_in,chdim3x3reduce,chdim3x3,kernel_size=3,strides=1)\n",
        "    net3 = reduced_conv(net_in,chdim5x5reduce,chdim5x5,kernel_size=5,strides=1)\n",
        "    net4 = tf.keras.layers.MaxPool2D(pool_size=(3,3),strides=(1,1),padding='same')(net_in)\n",
        "    net4 = conv_batchnorm_relu(net4,maxproj,1,1)\n",
        "    net = tf.keras.layers.concatenate([net1,net2,net3,net4],axis=3)\n",
        "  return net\n",
        "\n",
        "# googlenet model\n",
        "net_in = tf.keras.layers.Input(shape=(input_shape,input_shape,3))\n",
        "net = tf.keras.layers.Conv2D(64,kernel_size=(9,9),strides=1,padding='valid', kernel_initializer='he_normal',activation='relu')(net_in)\n",
        "net = conv_batchnorm_relu(net,filters=192,kernel_size=3,strides=1)\n",
        "net = inception(net,64,96,128,16,32,32,name='inception3a')  \n",
        "net = inception(net,128,128,192,32,96,64,name='inception4b')\n",
        "net = tf.keras.layers.MaxPool2D(pool_size=[3,3],strides=2)(net)\n",
        "net = inception(net,192,96,208,16,48,64,name='inception4a')\n",
        "net = inception(net,160,112,224,24,64,64,name='inception4b')\n",
        "net = inception(net,128,128,256,24,64,64,name='inception4c')  \n",
        "net = inception(net,112,144,288,32,64,64,name='inception4d')\n",
        "net = inception(net,256,160,320,32,128,128,name='inceptioin4e')\n",
        "net = tf.keras.layers.MaxPool2D(pool_size=[3,3],strides=2)(net)\n",
        "net = inception(net,256,160,320,32,128,128,name='inception5a')\n",
        "net = inception(net,384,192,384,48,128,128,name='inception5b')\n",
        "net = tf.keras.layers.GlobalAvgPool2D(data_format='channels_last')(net)\n",
        "net = tf.keras.layers.Dropout(0.4)(net)\n",
        "net = tf.keras.layers.Dense(units=1000,activation='softmax')(net)\n",
        "\n",
        "model = tf.keras.models.Model(inputs=net_in,outputs=net)\n",
        "\n",
        "\n",
        "opt_fn = tf.keras.optimizers.Adam(learning_rate=1e-3,\n",
        "                                beta_1=0.9,\n",
        "                                beta_2=0.999)\n",
        "\n",
        "# 'sparse_categorical_crossentropy' is for integer labels\n",
        "model.compile(optimizer='adam',\n",
        "              loss='sparse_categorical_crossentropy',\n",
        "              metrics=['accuracy'])\n",
        "\n",
        "tensorboard_callback = TensorBoard(log_dir=LOG_DIR, \n",
        "                           histogram_freq=1,\n",
        "                           write_graph=True,\n",
        "                           write_images=True)"
      ],
      "execution_count": 0,
      "outputs": []
    },
    {
      "cell_type": "code",
      "metadata": {
        "id": "9IAXZUvis6Wq",
        "colab_type": "code",
        "colab": {}
      },
      "source": [
        "# model training and evaluation part\n",
        "training_epochs = 20\n",
        "batch_size = 128\n",
        "model.summary()\n",
        "model.fit(x_train, y_train, \n",
        "          epochs=training_epochs,\n",
        "          validation_data=(x_test, y_test),\n",
        "          batch_size=batch_size,\n",
        "          callbacks=[tensorboard_callback])\n",
        "model.evaluate(x_test,  y_test, verbose=2)"
      ],
      "execution_count": 0,
      "outputs": []
    },
    {
      "cell_type": "code",
      "metadata": {
        "id": "4Vr6A5y1t1FY",
        "colab_type": "code",
        "colab": {}
      },
      "source": [
        "# prediction \n",
        "\n",
        "test_input = x_test[300,:,:,:]\n",
        "pred_y = model.predict(test_input.reshape([1,64,64,3]))\n",
        "\n",
        "plt.figure(1)\n",
        "plt.imshow(test_input.reshape([64,64,3]))\n",
        "plt.title(\"input\")\n",
        "print(\"model prediction = %s\"% pred_y.argmax())\n"
      ],
      "execution_count": 0,
      "outputs": []
    }
  ]
}