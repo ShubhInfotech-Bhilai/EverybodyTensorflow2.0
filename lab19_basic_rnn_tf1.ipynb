{
  "nbformat": 4,
  "nbformat_minor": 0,
  "metadata": {
    "colab": {
      "name": "lab19_basic_rnn_tf1.ipynb",
      "provenance": [],
      "authorship_tag": "ABX9TyOTWItrr0+KuW5Y+z+B0ts/",
      "include_colab_link": true
    },
    "kernelspec": {
      "name": "python3",
      "display_name": "Python 3"
    }
  },
  "cells": [
    {
      "cell_type": "markdown",
      "metadata": {
        "id": "view-in-github",
        "colab_type": "text"
      },
      "source": [
        "<a href=\"https://colab.research.google.com/github/jwkanggist/EverybodyTensorflow2.0/blob/master/lab19_basic_rnn_tf1.ipynb\" target=\"_parent\"><img src=\"https://colab.research.google.com/assets/colab-badge.svg\" alt=\"Open In Colab\"/></a>"
      ]
    },
    {
      "cell_type": "markdown",
      "metadata": {
        "id": "5BFZvL2Wu3kU",
        "colab_type": "text"
      },
      "source": [
        "# LAB19 Basic RNN using Tensorflow\n",
        "\n",
        "- 간단한 seq to seq RNN의 기본동작 확인하기\n",
        "-  \n",
        "- Tanh activation\n",
        "- TWO RNN  CELL → Single state RNN \n",
        "- 5 recurrent neuron \n",
        "- Each Xt  is 3 x 1 vector\n",
        "- Each Yt is 5 x 1 vector\n"
      ]
    },
    {
      "cell_type": "code",
      "metadata": {
        "id": "8bvioSmsutJ5",
        "colab_type": "code",
        "outputId": "edc14a3d-69c1-446d-edab-8a5d059fdc37",
        "colab": {
          "base_uri": "https://localhost:8080/",
          "height": 34
        }
      },
      "source": [
        "# preprocessor parts\n",
        "\n",
        "from __future__ import absolute_import, division, print_function, unicode_literals\n",
        "\n",
        "# Install TensorFlow\n",
        "try:\n",
        "  # %tensorflow_version only exists in Colab.\n",
        "  %tensorflow_version 2.x\n",
        "except Exception:\n",
        "  pass\n",
        "\n",
        "import tensorflow.compat.v1 as tf\n",
        "\n",
        "import numpy as np\n",
        "\n",
        "from matplotlib import cm\n",
        "from matplotlib import gridspec\n",
        "import matplotlib.pyplot as plt\n",
        "\n",
        "from datetime import datetime\n",
        "\n",
        "tf.disable_eager_execution()"
      ],
      "execution_count": 1,
      "outputs": [
        {
          "output_type": "stream",
          "text": [
            "TensorFlow 2.x selected.\n"
          ],
          "name": "stdout"
        }
      ]
    },
    {
      "cell_type": "code",
      "metadata": {
        "id": "Lg8nJlLVzNsg",
        "colab_type": "code",
        "outputId": "e5619e6f-a483-4039-e4bb-2ba578ec0a06",
        "colab": {
          "base_uri": "https://localhost:8080/",
          "height": 272
        }
      },
      "source": [
        "  # for Tensorboard use\n",
        "  LOG_DIR = 'drive/data/tb_logs'\n",
        "\t\n",
        "  !wget https://bin.equinox.io/c/4VmDzA7iaHb/ngrok-stable-linux-amd64.zip\n",
        "  !unzip ngrok-stable-linux-amd64.zip\n",
        "\t\n",
        "  import os\n",
        "  if not os.path.exists(LOG_DIR):\n",
        "    os.makedirs(LOG_DIR)\n",
        "\t  \n",
        "  get_ipython().system_raw(\n",
        "      'tensorboard --logdir {} --host 0.0.0.0 --port 6006 &'\n",
        "      .format(LOG_DIR))\n",
        "\t\n",
        "  get_ipython().system_raw('./ngrok http 6006 &')\n",
        "\t\n",
        "  !curl -s http://localhost:4040/api/tunnels | python3 -c \\\n",
        "      \"import sys, json; print(json.load(sys.stdin)['tunnels'][0]['public_url'])\""
      ],
      "execution_count": 2,
      "outputs": [
        {
          "output_type": "stream",
          "text": [
            "--2020-01-18 15:23:32--  https://bin.equinox.io/c/4VmDzA7iaHb/ngrok-stable-linux-amd64.zip\n",
            "Resolving bin.equinox.io (bin.equinox.io)... 34.235.253.190, 52.72.59.23, 52.4.202.19, ...\n",
            "Connecting to bin.equinox.io (bin.equinox.io)|34.235.253.190|:443... connected.\n",
            "HTTP request sent, awaiting response... 200 OK\n",
            "Length: 13773305 (13M) [application/octet-stream]\n",
            "Saving to: ‘ngrok-stable-linux-amd64.zip’\n",
            "\n",
            "\r          ngrok-sta   0%[                    ]       0  --.-KB/s               \rngrok-stable-linux- 100%[===================>]  13.13M  67.6MB/s    in 0.2s    \n",
            "\n",
            "2020-01-18 15:23:32 (67.6 MB/s) - ‘ngrok-stable-linux-amd64.zip’ saved [13773305/13773305]\n",
            "\n",
            "Archive:  ngrok-stable-linux-amd64.zip\n",
            "  inflating: ngrok                   \n",
            "http://343111b2.ngrok.io\n"
          ],
          "name": "stdout"
        }
      ]
    },
    {
      "cell_type": "code",
      "metadata": {
        "id": "cHGxKJzWzbEt",
        "colab_type": "code",
        "colab": {}
      },
      "source": [
        "# test sequential data\n",
        "X0_batch = np.array([[0,1,2],\n",
        "                      [3,4,5],\n",
        "                      [6,7,8],\n",
        "                      [9,0,1],\n",
        "                      ])\n",
        "X1_batch = np.array([[9,8,7],\n",
        "                      [6,5,4],\n",
        "                      [3,2,1],\n",
        "                      [0,9,8]])"
      ],
      "execution_count": 0,
      "outputs": []
    },
    {
      "cell_type": "code",
      "metadata": {
        "id": "5vtx4FPTzjDn",
        "colab_type": "code",
        "colab": {}
      },
      "source": [
        "model_config = \\\n",
        "{\n",
        "    'batch_size': None,\n",
        "    'n_input'   : 3,\n",
        "    'n_output'  : 5,\n",
        "    'num_steps' : 2,\n",
        "    'dtype'     : tf.float32\n",
        "}\n",
        "\n",
        "weigth_initializer = tf.initializers.he_uniform()\n",
        "\n",
        "\n",
        "def get_rnn_model(X0,X1,scope):\n",
        "    Wx_shape = [model_config['n_input'],\n",
        "                model_config['n_output']]\n",
        "\n",
        "    Wh_shape = [model_config['n_output'],\n",
        "                model_config['n_output']]\n",
        "\n",
        "    bias_shape    = [1,model_config['n_output']]\n",
        "\n",
        "    with tf.name_scope(name=scope,values=[X0,X1]):\n",
        "\n",
        "        Wx = tf.get_variable(name='weight_x',\n",
        "                             shape=Wx_shape,\n",
        "                             initializer=weigth_initializer)\n",
        "\n",
        "        Wh = tf.get_variable(name='weight_h',\n",
        "                             shape=Wh_shape,\n",
        "                             initializer=weigth_initializer)\n",
        "        b  = tf.get_variable(name='bias',\n",
        "                             shape=bias_shape,\n",
        "                             initializer=weigth_initializer)\n",
        "\n",
        "        Y0 = tf.tanh(tf.matmul(X0,Wx) + b)\n",
        "        Y1 = tf.tanh(tf.matmul(X1,Wx) + tf.matmul(Y0,Wh) + b)\n",
        "\n",
        "    return Y0,Y1\n",
        "\n"
      ],
      "execution_count": 0,
      "outputs": []
    },
    {
      "cell_type": "code",
      "metadata": {
        "id": "k247bDyG_qMa",
        "colab_type": "code",
        "outputId": "5b95d3ac-514f-422c-ef65-ce8cb52e5bf9",
        "colab": {
          "base_uri": "https://localhost:8080/",
          "height": 289
        }
      },
      "source": [
        "\n",
        "if __name__ == '__main__':\n",
        "\n",
        "    input_shape     = [model_config['batch_size'],\n",
        "                       model_config['n_input']]\n",
        "\n",
        "    output_shape    = [model_config['batch_size'],\n",
        "                       model_config['n_output']]\n",
        "\n",
        "    X0 = tf.placeholder(dtype = model_config['dtype'],\n",
        "                        shape = input_shape,\n",
        "                        name  = 'X0')\n",
        "\n",
        "    X1 = tf.placeholder(dtype= model_config['dtype'],\n",
        "                        shape= input_shape,\n",
        "                        name = 'X1')\n",
        "\n",
        "    scope = 'basic_rnn_matmul_model'\n",
        "    Y0,Y1 = get_rnn_model(X0,X1,scope)\n",
        "\n",
        "    summary_writer = tf.summary.FileWriter(logdir=LOG_DIR)\n",
        "    summary_writer.add_graph(graph=tf.get_default_graph())\n",
        "    init = tf.global_variables_initializer()\n",
        "\n",
        "    X0_batch = np.array([[0,1,2],\n",
        "                         [3,4,5],\n",
        "                         [6,7,8],\n",
        "                         [9,0,1],\n",
        "                         ])\n",
        "    X1_batch = np.array([[9,8,7],\n",
        "                         [6,5,4],\n",
        "                         [3,2,1],\n",
        "                         [0,9,8]])\n",
        "\n",
        "    with tf.Session() as sess:\n",
        "\n",
        "        sess.run(init)\n",
        "        Y0_val,Y1_val = sess.run(fetches=[Y0,Y1],feed_dict={X0:X0_batch,\n",
        "                                                            X1:X1_batch})\n",
        "\n",
        "    print('Y0_val = %s' % Y0_val)\n",
        "    print('Y1_val = %s' % Y1_val)\n",
        "    summary_writer.close()"
      ],
      "execution_count": 6,
      "outputs": [
        {
          "output_type": "stream",
          "text": [
            "WARNING:tensorflow:From /tensorflow-2.1.0/python3.6/tensorflow_core/python/ops/resource_variable_ops.py:1635: calling BaseResourceVariable.__init__ (from tensorflow.python.ops.resource_variable_ops) with constraint is deprecated and will be removed in a future version.\n",
            "Instructions for updating:\n",
            "If using Keras pass *_constraint arguments to layers.\n",
            "Y0_val = [[ 9.9380141e-01 -8.1916928e-01 -7.8262842e-01 -9.9899250e-01\n",
            "  -8.0430484e-04]\n",
            " [ 1.0000000e+00  8.7570202e-01  4.9729702e-01 -9.9999869e-01\n",
            "   5.8231091e-01]\n",
            " [ 1.0000000e+00  9.9912745e-01  9.7288239e-01 -1.0000000e+00\n",
            "   8.6990982e-01]\n",
            " [ 9.9997592e-01  9.9982184e-01  9.9999756e-01 -9.8241669e-01\n",
            "   9.9993986e-01]]\n",
            "Y1_val = [[ 1.          0.9999995   0.999813   -1.          0.9999591 ]\n",
            " [ 1.          0.99990845  0.99989486 -0.9999977   0.9980418 ]\n",
            " [ 0.99934065  0.9759021   0.9984516  -0.9984355   0.97296387]\n",
            " [ 1.          0.87395024 -0.77864987 -1.         -0.95521426]]\n"
          ],
          "name": "stdout"
        }
      ]
    }
  ]
}