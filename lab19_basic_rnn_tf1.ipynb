{
  "nbformat": 4,
  "nbformat_minor": 0,
  "metadata": {
    "colab": {
      "name": "lab19_basic_rnn_tf1.ipynb",
      "provenance": [],
      "authorship_tag": "ABX9TyM13fgw2NKWSWi08UKdiL8g",
      "include_colab_link": true
    },
    "kernelspec": {
      "name": "python3",
      "display_name": "Python 3"
    }
  },
  "cells": [
    {
      "cell_type": "markdown",
      "metadata": {
        "id": "view-in-github",
        "colab_type": "text"
      },
      "source": [
        "<a href=\"https://colab.research.google.com/github/jwkanggist/EverybodyTensorflow2.0/blob/master/lab19_basic_rnn_tf1.ipynb\" target=\"_parent\"><img src=\"https://colab.research.google.com/assets/colab-badge.svg\" alt=\"Open In Colab\"/></a>"
      ]
    },
    {
      "cell_type": "markdown",
      "metadata": {
        "id": "5BFZvL2Wu3kU",
        "colab_type": "text"
      },
      "source": [
        "# LAB19 Basic RNN using Tensorflow\n",
        "\n",
        "- 간단한 seq to seq RNN의 기본동작 확인하기\n",
        "-  \n",
        "- Tanh activation\n",
        "- TWO RNN  CELL → Single state RNN \n",
        "- 5 recurrent neuron \n",
        "- Each Xt  is 3 x 1 vector\n",
        "- Each Yt is 5 x 1 vector\n"
      ]
    },
    {
      "cell_type": "code",
      "metadata": {
        "id": "8bvioSmsutJ5",
        "colab_type": "code",
        "colab": {}
      },
      "source": [
        "# preprocessor parts\n",
        "\n",
        "from __future__ import absolute_import, division, print_function, unicode_literals\n",
        "\n",
        "# Install TensorFlow\n",
        "try:\n",
        "  # %tensorflow_version only exists in Colab.\n",
        "  %tensorflow_version 2.x\n",
        "except Exception:\n",
        "  pass\n",
        "\n",
        "import tensorflow.compat.v1 as tf\n",
        "\n",
        "import numpy as np\n",
        "\n",
        "from matplotlib import cm\n",
        "from matplotlib import gridspec\n",
        "import matplotlib.pyplot as plt\n",
        "\n",
        "from datetime import datetime\n",
        "\n",
        "tf.disable_eager_execution()"
      ],
      "execution_count": 0,
      "outputs": []
    },
    {
      "cell_type": "code",
      "metadata": {
        "id": "Lg8nJlLVzNsg",
        "colab_type": "code",
        "colab": {
          "base_uri": "https://localhost:8080/",
          "height": 289
        },
        "outputId": "bbc44b67-48d0-498e-f137-fccbfa266dc6"
      },
      "source": [
        "  # for Tensorboard use\n",
        "  LOG_DIR = 'drive/data/tb_logs'\n",
        "\t\n",
        "  !wget https://bin.equinox.io/c/4VmDzA7iaHb/ngrok-stable-linux-amd64.zip\n",
        "  !unzip ngrok-stable-linux-amd64.zip\n",
        "\t\n",
        "  import os\n",
        "  if not os.path.exists(LOG_DIR):\n",
        "    os.makedirs(LOG_DIR)\n",
        "\t  \n",
        "  get_ipython().system_raw(\n",
        "      'tensorboard --logdir {} --host 0.0.0.0 --port 6006 &'\n",
        "      .format(LOG_DIR))\n",
        "\t\n",
        "  get_ipython().system_raw('./ngrok http 6006 &')\n",
        "\t\n",
        "  !curl -s http://localhost:4040/api/tunnels | python3 -c \\\n",
        "      \"import sys, json; print(json.load(sys.stdin)['tunnels'][0]['public_url'])\""
      ],
      "execution_count": 6,
      "outputs": [
        {
          "output_type": "stream",
          "text": [
            "--2020-01-18 14:20:06--  https://bin.equinox.io/c/4VmDzA7iaHb/ngrok-stable-linux-amd64.zip\n",
            "Resolving bin.equinox.io (bin.equinox.io)... 52.72.103.164, 3.231.170.111, 52.20.119.24, ...\n",
            "Connecting to bin.equinox.io (bin.equinox.io)|52.72.103.164|:443... connected.\n",
            "HTTP request sent, awaiting response... 200 OK\n",
            "Length: 13773305 (13M) [application/octet-stream]\n",
            "Saving to: ‘ngrok-stable-linux-amd64.zip.1’\n",
            "\n",
            "ngrok-stable-linux- 100%[===================>]  13.13M  13.9MB/s    in 0.9s    \n",
            "\n",
            "2020-01-18 14:20:07 (13.9 MB/s) - ‘ngrok-stable-linux-amd64.zip.1’ saved [13773305/13773305]\n",
            "\n",
            "Archive:  ngrok-stable-linux-amd64.zip\n",
            "replace ngrok? [y]es, [n]o, [A]ll, [N]one, [r]ename: y\n",
            "  inflating: ngrok                   \n",
            "http://eac33440.ngrok.io\n"
          ],
          "name": "stdout"
        }
      ]
    },
    {
      "cell_type": "code",
      "metadata": {
        "id": "cHGxKJzWzbEt",
        "colab_type": "code",
        "colab": {}
      },
      "source": [
        "# test sequential data\n",
        "X0_batch = np.array([[0,1,2],\n",
        "                      [3,4,5],\n",
        "                      [6,7,8],\n",
        "                      [9,0,1],\n",
        "                      ])\n",
        "X1_batch = np.array([[9,8,7],\n",
        "                      [6,5,4],\n",
        "                      [3,2,1],\n",
        "                      [0,9,8]])"
      ],
      "execution_count": 0,
      "outputs": []
    },
    {
      "cell_type": "code",
      "metadata": {
        "id": "5vtx4FPTzjDn",
        "colab_type": "code",
        "colab": {}
      },
      "source": [
        "model_config = \\\n",
        "{\n",
        "    'batch_size': None,\n",
        "    'n_input'   : 3,\n",
        "    'n_output'  : 5,\n",
        "    'num_steps' : 2,\n",
        "    'dtype'     : tf.float32\n",
        "}\n",
        "\n",
        "weigth_initializer = tf.initializers.he_uniform()\n",
        "\n",
        "\n",
        "def get_rnn_model(X0,X1,scope):\n",
        "    Wx_shape = [model_config['n_input'],\n",
        "                model_config['n_output']]\n",
        "\n",
        "    Wh_shape = [model_config['n_output'],\n",
        "                model_config['n_output']]\n",
        "\n",
        "    bias_shape    = [1,model_config['n_output']]\n",
        "\n",
        "    with tf.name_scope(name=scope,values=[X0,X1]):\n",
        "\n",
        "        Wx = tf.get_variable(name='weight_x',\n",
        "                             shape=Wx_shape,\n",
        "                             initializer=weigth_initializer)\n",
        "\n",
        "        Wh = tf.get_variable(name='weight_h',\n",
        "                             shape=Wh_shape,\n",
        "                             initializer=weigth_initializer)\n",
        "        b  = tf.get_variable(name='bias',\n",
        "                             shape=bias_shape,\n",
        "                             initializer=weigth_initializer)\n",
        "\n",
        "        Y0 = tf.tanh(tf.matmul(X0,Wx) + b)\n",
        "        Y1 = tf.tanh(tf.matmul(X1,Wx) + tf.matmul(Y0,Wh) + b)\n",
        "\n",
        "    return Y0,Y1\n",
        "\n"
      ],
      "execution_count": 0,
      "outputs": []
    },
    {
      "cell_type": "code",
      "metadata": {
        "id": "k247bDyG_qMa",
        "colab_type": "code",
        "colab": {
          "base_uri": "https://localhost:8080/",
          "height": 222
        },
        "outputId": "cd68a96c-b4bf-4f51-dd06-ad7dc0045c06"
      },
      "source": [
        "\n",
        "if __name__ == '__main__':\n",
        "\n",
        "    input_shape     = [model_config['batch_size'],\n",
        "                       model_config['n_input']]\n",
        "\n",
        "    output_shape    = [model_config['batch_size'],\n",
        "                       model_config['n_output']]\n",
        "\n",
        "    X0 = tf.placeholder(dtype = model_config['dtype'],\n",
        "                        shape = input_shape,\n",
        "                        name  = 'X0')\n",
        "\n",
        "    X1 = tf.placeholder(dtype= model_config['dtype'],\n",
        "                        shape= input_shape,\n",
        "                        name = 'X1')\n",
        "\n",
        "    scope = 'basic_rnn_matmul_model'\n",
        "    Y0,Y1 = get_rnn_model(X0,X1,scope)\n",
        "\n",
        "    summary_writer = tf.summary.FileWriter(logdir=LOG_DIR)\n",
        "    summary_writer.add_graph(graph=tf.get_default_graph())\n",
        "    init = tf.global_variables_initializer()\n",
        "\n",
        "    X0_batch = np.array([[0,1,2],\n",
        "                         [3,4,5],\n",
        "                         [6,7,8],\n",
        "                         [9,0,1],\n",
        "                         ])\n",
        "    X1_batch = np.array([[9,8,7],\n",
        "                         [6,5,4],\n",
        "                         [3,2,1],\n",
        "                         [0,9,8]])\n",
        "\n",
        "    with tf.Session() as sess:\n",
        "\n",
        "        sess.run(init)\n",
        "        Y0_val,Y1_val = sess.run(fetches=[Y0,Y1],feed_dict={X0:X0_batch,\n",
        "                                                            X1:X1_batch})\n",
        "\n",
        "\n",
        "    print('Y0_val = %s' % Y0_val)\n",
        "    print('Y1_val = %s' % Y1_val)\n",
        "    summary_writer.close()"
      ],
      "execution_count": 11,
      "outputs": [
        {
          "output_type": "stream",
          "text": [
            "WARNING:tensorflow:From /tensorflow-2.1.0/python3.6/tensorflow_core/python/ops/resource_variable_ops.py:1635: calling BaseResourceVariable.__init__ (from tensorflow.python.ops.resource_variable_ops) with constraint is deprecated and will be removed in a future version.\n",
            "Instructions for updating:\n",
            "If using Keras pass *_constraint arguments to layers.\n",
            "Y0_val = [[-0.579205    0.21507667  0.9611102   0.39273393 -0.8273085 ]\n",
            " [ 0.99997747 -0.9998983   0.97509754  0.9982856  -0.99755013]\n",
            " [ 1.         -1.          0.984095    0.9999966  -0.9999681 ]\n",
            " [ 1.         -1.         -0.99999493  1.          0.9277777 ]]\n",
            "Y1_val = [[ 1.         -1.          0.8038812   1.         -0.99999803]\n",
            " [ 0.9999992  -0.9999991  -0.30034915  0.9998253  -0.99848294]\n",
            " [ 0.7934952  -0.9730358  -0.49452254  0.91421044 -0.8899955 ]\n",
            " [ 0.99865127 -0.95731527  0.9999999   0.95878834 -0.9999996 ]]\n"
          ],
          "name": "stdout"
        }
      ]
    }
  ]
}