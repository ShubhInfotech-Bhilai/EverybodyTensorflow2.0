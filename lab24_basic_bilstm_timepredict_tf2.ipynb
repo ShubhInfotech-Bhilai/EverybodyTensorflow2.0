{
  "nbformat": 4,
  "nbformat_minor": 0,
  "metadata": {
    "colab": {
      "name": "lab24_basic_bilstm_timepredict_tf2.ipynb",
      "provenance": [],
      "include_colab_link": true
    },
    "kernelspec": {
      "name": "python3",
      "display_name": "Python 3"
    }
  },
  "cells": [
    {
      "cell_type": "markdown",
      "metadata": {
        "id": "view-in-github",
        "colab_type": "text"
      },
      "source": [
        "<a href=\"https://colab.research.google.com/github/jwkanggist/EverybodyTensorflow2.0/blob/master/lab24_basic_bilstm_timepredict_tf2.ipynb\" target=\"_parent\"><img src=\"https://colab.research.google.com/assets/colab-badge.svg\" alt=\"Open In Colab\"/></a>"
      ]
    },
    {
      "cell_type": "markdown",
      "metadata": {
        "id": "bHCxtfJc09Ca",
        "colab_type": "text"
      },
      "source": [
        "# LAB24: Basic BiLSTM to Predict Time Series\n",
        "- Train a basic BiLSTM to predict a time series (seq2seq)\n",
        "\n"
      ]
    },
    {
      "cell_type": "code",
      "metadata": {
        "id": "sMzQLBEX0BrF",
        "colab_type": "code",
        "outputId": "c8ce2be0-69c0-445a-e09f-68834d7438e2",
        "colab": {
          "base_uri": "https://localhost:8080/",
          "height": 34
        }
      },
      "source": [
        "# preprocessor parts\n",
        "from __future__ import absolute_import, division, print_function, unicode_literals\n",
        "\n",
        "# Install TensorFlow\n",
        "try:\n",
        "  # %tensorflow_version only exists in Colab.\n",
        "  %tensorflow_version 2.x\n",
        "except Exception:\n",
        "  pass\n",
        "\n",
        "import tensorflow as tf\n",
        "import numpy as np\n",
        "from tensorflow.keras.callbacks import TensorBoard\n",
        "import matplotlib.pyplot as plt"
      ],
      "execution_count": 0,
      "outputs": [
        {
          "output_type": "stream",
          "text": [
            "TensorFlow 2.x selected.\n"
          ],
          "name": "stdout"
        }
      ]
    },
    {
      "cell_type": "code",
      "metadata": {
        "id": "P2snpnkPXKcD",
        "colab_type": "code",
        "outputId": "5d9b8bfd-acd5-486e-e0af-80e029d9e13a",
        "colab": {
          "base_uri": "https://localhost:8080/",
          "height": 255
        }
      },
      "source": [
        " # for Tensorboard use\n",
        "  LOG_DIR = 'drive/data/tb_logs'\n",
        "\t\n",
        "  !wget https://bin.equinox.io/c/4VmDzA7iaHb/ngrok-stable-linux-amd64.zip\n",
        "  !unzip ngrok-stable-linux-amd64.zip\n",
        "\t\n",
        "  import os\n",
        "  if not os.path.exists(LOG_DIR):\n",
        "    os.makedirs(LOG_DIR)\n",
        "\t  \n",
        "  get_ipython().system_raw(\n",
        "      'tensorboard --logdir {} --host 0.0.0.0 --port 6006 &'\n",
        "      .format(LOG_DIR))\n",
        "\t\n",
        "  get_ipython().system_raw('./ngrok http 6006 &')\n",
        "\t\n",
        "  !curl -s http://localhost:4040/api/tunnels | python3 -c \\\n",
        "      \"import sys, json; print(json.load(sys.stdin)['tunnels'][0]['public_url'])\""
      ],
      "execution_count": 0,
      "outputs": [
        {
          "output_type": "stream",
          "text": [
            "--2020-01-18 18:19:50--  https://bin.equinox.io/c/4VmDzA7iaHb/ngrok-stable-linux-amd64.zip\n",
            "Resolving bin.equinox.io (bin.equinox.io)... 34.235.253.190, 3.234.122.223, 34.202.58.243, ...\n",
            "Connecting to bin.equinox.io (bin.equinox.io)|34.235.253.190|:443... connected.\n",
            "HTTP request sent, awaiting response... 200 OK\n",
            "Length: 13773305 (13M) [application/octet-stream]\n",
            "Saving to: ‘ngrok-stable-linux-amd64.zip’\n",
            "\n",
            "ngrok-stable-linux- 100%[===================>]  13.13M  39.0MB/s    in 0.3s    \n",
            "\n",
            "2020-01-18 18:19:50 (39.0 MB/s) - ‘ngrok-stable-linux-amd64.zip’ saved [13773305/13773305]\n",
            "\n",
            "Archive:  ngrok-stable-linux-amd64.zip\n",
            "  inflating: ngrok                   \n",
            "https://317a0a0a.ngrok.io\n"
          ],
          "name": "stdout"
        }
      ]
    },
    {
      "cell_type": "code",
      "metadata": {
        "id": "WZZ2wj6QfRzt",
        "colab_type": "code",
        "colab": {}
      },
      "source": [
        "model_config = \\\n",
        "{\n",
        "    'n_input'   : 1,\n",
        "    'n_units' : 200,\n",
        "    'n_output':1,\n",
        "    'num_steps' : 30\n",
        " }\n"
      ],
      "execution_count": 0,
      "outputs": []
    },
    {
      "cell_type": "code",
      "metadata": {
        "id": "5iWXJWJqEVRk",
        "colab_type": "code",
        "outputId": "0f77d051-0025-48c6-9ff1-6ea4a59c4b83",
        "colab": {
          "base_uri": "https://localhost:8080/",
          "height": 139
        }
      },
      "source": [
        "# dataset loading part\n",
        "# 데이터 파이프라인 부분 \n",
        "\n",
        "\n",
        "def gen_seq_data(datanum,shift_sample,sqe_sample_length):\n",
        "\n",
        "    data_step = 0.1\n",
        "    start_n = np.random.random_integers(low=0, high=30,size=datanum)\n",
        "    tx = np.zeros(shape=(datanum,sqe_sample_length))\n",
        "    ty = np.zeros(shape=(datanum,sqe_sample_length))\n",
        "\n",
        "    x_batch = np.zeros(shape=(datanum,sqe_sample_length))\n",
        "    y_batch = np.zeros(shape=(datanum,sqe_sample_length))\n",
        "    for i in range(datanum):\n",
        "      n = start_n[i]\n",
        "      tx[i,:] = np.arange(start=n, stop=n + sqe_sample_length*data_step, step=data_step)\n",
        "      ty[i,:] = tx[i,:] + shift_sample * data_step\n",
        "\n",
        "      x_batch[i,:] = tx[i,:] * np.sin(tx[i,:]) / 3 + 2 * np.sin(5 * tx[i,:])\n",
        "      y_batch[i,:] = ty[i,:] * np.sin(ty[i,:]) / 3 + 2 * np.sin(5 * ty[i,:])\n",
        "\n",
        "    return x_batch, y_batch, tx, ty\n",
        "\n",
        "shift_sample =2\n",
        "datanum = 20000\n",
        "\n",
        "x_train,y_train,tx_train,ty_train =gen_seq_data(datanum,shift_sample=shift_sample,\n",
        "                                                sqe_sample_length = model_config['num_steps'])\n",
        "\n",
        "x_test, y_test, tx_test, ty_test = gen_seq_data(1000,shift_sample=shift_sample,\n",
        "                                                sqe_sample_length=model_config['num_steps'])\n",
        "x_train          = x_train.reshape((-1,\\\n",
        "                                  model_config['num_steps'],\n",
        "                                  model_config['n_input']))\n",
        "y_train          = y_train.reshape((-1, \\\n",
        "                                  model_config['num_steps'],\n",
        "                                  model_config['n_output']))\n",
        "\n",
        "x_test          = x_test.reshape((-1,\\\n",
        "                                  model_config['num_steps'],\n",
        "                                  model_config['n_input']))\n",
        "y_test          = y_test.reshape((-1, \\\n",
        "                                  model_config['num_steps'],\n",
        "                                  model_config['n_output']))\n",
        "\n",
        "\n",
        "print(\"x_train.shape = %s\" % str(x_train.shape))\n",
        "print(\"c.shape = %s\" % str(y_train.shape))\n",
        "\n",
        "print(\"x_test.shape = %s\" % str(x_test.shape))\n",
        "print(\"y_test.shape = %s\" % str(y_test.shape))\n"
      ],
      "execution_count": 0,
      "outputs": [
        {
          "output_type": "stream",
          "text": [
            "/usr/local/lib/python3.6/dist-packages/ipykernel_launcher.py:6: DeprecationWarning: This function is deprecated. Please call randint(0, 30 + 1) instead\n",
            "  \n"
          ],
          "name": "stderr"
        },
        {
          "output_type": "stream",
          "text": [
            "x_train.shape = (20000, 30, 1)\n",
            "c.shape = (20000, 30, 1)\n",
            "x_test.shape = (1000, 30, 1)\n",
            "y_test.shape = (1000, 30, 1)\n"
          ],
          "name": "stdout"
        }
      ]
    },
    {
      "cell_type": "code",
      "metadata": {
        "id": "2_t5-zzWEcmi",
        "colab_type": "code",
        "outputId": "2ffe6778-0c00-4415-cadb-ca39fe33430f",
        "colab": {
          "base_uri": "https://localhost:8080/",
          "height": 391
        }
      },
      "source": [
        "# model building and training setting part\n",
        "#  Y = f(X ; W)\n",
        "dropout_rate=0.1\n",
        "\n",
        "net_in = tf.keras.layers.Input(shape=(model_config['num_steps'],1))\n",
        "net = tf.keras.layers.Bidirectional(\n",
        "  tf.keras.layers.LSTM(units=model_config['n_units'],\n",
        "                                      activation='tanh',\n",
        "                                      return_sequences=True,\n",
        "                                      return_state=False),\n",
        "                                    merge_mode='sum')(net_in)                            \n",
        "net = tf.keras.layers.Conv1D(filters=1,kernel_size=1,activation='relu')(net)\n",
        "net = tf.reshape(net,shape=[-1,model_config['num_steps']])\n",
        "net = tf.keras.layers.Dense(units=model_config['num_steps'], activation='relu')(net)\n",
        "net = tf.keras.layers.Dropout(dropout_rate)(net)\n",
        "net = tf.keras.layers.Dense(units=model_config['num_steps'], activation=None)(net)\n",
        "model = tf.keras.models.Model(inputs=net_in,outputs=net)\n",
        "\n",
        "opt_fn = tf.keras.optimizers.Adam(learning_rate=1e-3,\n",
        "                                beta_1=0.9,\n",
        "                                beta_2=0.999)\n",
        "\n",
        "model.compile(optimizer=opt_fn,\n",
        "              loss='mse',\n",
        "              metrics=['mse'])\n",
        "\n",
        "tensorboard_callback = TensorBoard(log_dir=LOG_DIR, \n",
        "                           histogram_freq=1,\n",
        "                           write_graph=True,\n",
        "                           write_images=True)\n",
        "\n",
        "model.summary()"
      ],
      "execution_count": 0,
      "outputs": [
        {
          "output_type": "stream",
          "text": [
            "Model: \"model_2\"\n",
            "_________________________________________________________________\n",
            "Layer (type)                 Output Shape              Param #   \n",
            "=================================================================\n",
            "input_3 (InputLayer)         [(None, 30, 1)]           0         \n",
            "_________________________________________________________________\n",
            "bidirectional_2 (Bidirection (None, 30, 200)           323200    \n",
            "_________________________________________________________________\n",
            "conv1d_2 (Conv1D)            (None, 30, 1)             201       \n",
            "_________________________________________________________________\n",
            "tf_op_layer_Reshape_2 (Tenso [(None, 30)]              0         \n",
            "_________________________________________________________________\n",
            "dense_4 (Dense)              (None, 30)                930       \n",
            "_________________________________________________________________\n",
            "dropout_2 (Dropout)          (None, 30)                0         \n",
            "_________________________________________________________________\n",
            "dense_5 (Dense)              (None, 30)                930       \n",
            "=================================================================\n",
            "Total params: 325,261\n",
            "Trainable params: 325,261\n",
            "Non-trainable params: 0\n",
            "_________________________________________________________________\n"
          ],
          "name": "stdout"
        }
      ]
    },
    {
      "cell_type": "code",
      "metadata": {
        "id": "5ye_0E5-Enk6",
        "colab_type": "code",
        "colab": {}
      },
      "source": [
        "# model training and evaluation part\n",
        "training_epochs = 30\n",
        "batch_size = 128\n",
        "\n",
        "model.fit(x_train, y_train, \n",
        "          epochs=training_epochs,\n",
        "          validation_data=(x_test, y_test),\n",
        "          batch_size=batch_size,\n",
        "          callbacks=[tensorboard_callback])\n",
        "\n",
        "model.evaluate(x_test,  y_test, verbose=2)"
      ],
      "execution_count": 0,
      "outputs": []
    },
    {
      "cell_type": "code",
      "metadata": {
        "id": "cyLIRA2-LPR1",
        "colab_type": "code",
        "outputId": "afdee0a5-59fb-4177-f1bd-c22cf7a1d202",
        "colab": {
          "base_uri": "https://localhost:8080/",
          "height": 530
        }
      },
      "source": [
        "# prediction \n",
        "test_index = 12\n",
        "\n",
        "pred_y_train  = model.predict(x_train[test_index,:,:].reshape((1,model_config['num_steps'],1)))\n",
        "pred_y_test   = model.predict(x_test[test_index,:,:].reshape((1,model_config['num_steps'],1)))\n",
        "\n",
        "x_train_reshaped         = x_train[test_index,:,:].reshape((model_config['num_steps']))\n",
        "y_train_reshaped         = y_train[test_index,:,:].reshape((model_config['num_steps']))\n",
        "pred_y_train    = pred_y_train.reshape((model_config['num_steps']))\n",
        "\n",
        "x_test_reshaped           = x_test[test_index,:,:].reshape((model_config['num_steps']))\n",
        "y_test_reshaped           = y_test[test_index,:,:].reshape((model_config['num_steps']))\n",
        "pred_y_test     = pred_y_test.reshape((model_config['num_steps']))\n",
        "\n",
        "\n",
        "print(tx_train.shape)\n",
        "\n",
        "plt.figure(1)\n",
        "plt.plot(tx_train[test_index,:],x_train_reshaped ,color='b',marker='o',label='train_input')\n",
        "plt.plot(ty_train[test_index,:],y_train_reshaped ,color='r',marker='x',label='train_output')\n",
        "plt.plot(ty_train[test_index,:],pred_y_train,color='m',marker='x',label='pred_output')\n",
        "plt.legend()\n",
        "\n",
        "plt.figure(2)\n",
        "plt.plot(tx_test[test_index,:],x_test_reshaped ,color='b',marker='o',label='test_input')\n",
        "plt.plot(ty_test[test_index,:],y_test_reshaped ,color='r',marker='x',label='test_output')\n",
        "plt.plot(ty_test[test_index,:],pred_y_test,color='m',marker='x',label='pred_output')\n",
        "plt.legend()\n",
        "plt.show()\n"
      ],
      "execution_count": 0,
      "outputs": [
        {
          "output_type": "stream",
          "text": [
            "(20000, 30)\n"
          ],
          "name": "stdout"
        },
        {
          "output_type": "display_data",
          "data": {
            "image/png": "[encoded data removed]",
            "text/plain": [
              "<Figure size 432x288 with 1 Axes>"
            ]
          },
          "metadata": {
            "tags": []
          }
        },
        {
          "output_type": "display_data",
          "data": {
            "image/png": "[encoded data removed]",
            "text/plain": [
              "<Figure size 432x288 with 1 Axes>"
            ]
          },
          "metadata": {
            "tags": []
          }
        }
      ]
    }
  ]
}