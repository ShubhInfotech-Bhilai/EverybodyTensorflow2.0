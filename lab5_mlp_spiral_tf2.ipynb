{
  "nbformat": 4,
  "nbformat_minor": 0,
  "metadata": {
    "colab": {
      "name": "lab5_mlp_spiral_tf2.ipynb",
      "provenance": [],
      "include_colab_link": true
    },
    "kernelspec": {
      "name": "python3",
      "display_name": "Python 3"
    }
  },
  "cells": [
    {
      "cell_type": "markdown",
      "metadata": {
        "id": "view-in-github",
        "colab_type": "text"
      },
      "source": [
        "<a href=\"https://colab.research.google.com/github/jwkanggist/EverybodyTensorflow2.0/blob/master/lab5_mlp_spiral_tf2.ipynb\" target=\"_parent\"><img src=\"https://colab.research.google.com/assets/colab-badge.svg\" alt=\"Open In Colab\"/></a>"
      ]
    },
    {
      "cell_type": "markdown",
      "metadata": {
        "id": "aRFuS_UpsuIE",
        "colab_type": "text"
      },
      "source": [
        "#LAB5 Multi-layer perceptron for spiral data\n",
        "\n",
        "목적: 가장 기본적인 classification 문제 인 spiral data classification을 tf2.0을 가지고 풀어본다"
      ]
    },
    {
      "cell_type": "code",
      "metadata": {
        "id": "7eqAsq9nsp0P",
        "colab_type": "code",
        "colab": {}
      },
      "source": [
        "# preprocessor parts\n",
        "\n",
        "from __future__ import absolute_import, division, print_function, unicode_literals\n",
        "\n",
        "# Install TensorFlow\n",
        "try:\n",
        "  # %tensorflow_version only exists in Colab.\n",
        "  %tensorflow_version 2.x\n",
        "except Exception:\n",
        "  pass\n",
        "\n",
        "import tensorflow as tf\n",
        "from tensorflow.keras.callbacks import TensorBoard\n",
        "\n",
        "import numpy as np\n",
        "import pandas as pd\n",
        "\n",
        "from matplotlib import cm\n",
        "from matplotlib import gridspec\n",
        "import matplotlib.pyplot as plt\n",
        "\n",
        "from datetime import datetime\n",
        "\n",
        "from google.colab import drive\n",
        "# This will prompt for authorization.\n",
        "drive.mount('/content/drive')"
      ],
      "execution_count": 0,
      "outputs": []
    },
    {
      "cell_type": "code",
      "metadata": {
        "id": "ES0hIsUdZMRc",
        "colab_type": "code",
        "colab": {}
      },
      "source": [
        "  # for Tensorboard use\n",
        "  LOG_DIR = 'content/drive/data/tb_logs'\n",
        "\t\n",
        "  !wget https://bin.equinox.io/c/4VmDzA7iaHb/ngrok-stable-linux-amd64.zip\n",
        "  !unzip ngrok-stable-linux-amd64.zip\n",
        "\t\n",
        "  import os\n",
        "  if not os.path.exists(LOG_DIR):\n",
        "    os.makedirs(LOG_DIR)\n",
        "\t  \n",
        "  get_ipython().system_raw(\n",
        "      'tensorboard --logdir {} --host 0.0.0.0 --port 6006 &'\n",
        "      .format(LOG_DIR))\n",
        "\t\n",
        "  get_ipython().system_raw('./ngrok http 6006 &')\n",
        "\t\n",
        "  !curl -s http://localhost:4040/api/tunnels | python3 -c \\\n",
        "      \"import sys, json; print(json.load(sys.stdin)['tunnels'][0]['public_url'])\""
      ],
      "execution_count": 0,
      "outputs": []
    },
    {
      "cell_type": "code",
      "metadata": {
        "id": "FZR5Lp-Xs5OS",
        "colab_type": "code",
        "colab": {}
      },
      "source": [
        "xsize  = 2\n",
        "ysize  = 2\n",
        "\n",
        "data = pd.read_csv('/content/drive/My Drive/seminar_materials/TensorFlow Lecture/KIT2020/data/twospirals_N5000.csv')\n",
        "data.columns=['xdata1','xdata2','tdata']\n",
        "permutation_index = np.random.permutation(data.index)\n",
        "permutated_data = data.reindex(permutation_index)\n",
        "permutated_data.columns=['xdata1','xdata2','tdata']\n",
        "\n",
        "x_data = np.zeros([permutated_data.xdata1.size,xsize])\n",
        "x_data[:,0] = permutated_data.xdata1.values\n",
        "x_data[:,1] = permutated_data.xdata2.values\n",
        "\n",
        "t_data = np.zeros([permutated_data.tdata.size,ysize])\n",
        "t_data[:,0] = permutated_data.tdata.values\n",
        "t_data[:,1] = np.invert(permutated_data.tdata.values) + 2\n",
        "\n",
        "\n",
        "total_size = permutated_data.xdata1.size\n",
        "training_size = int(np.floor(permutated_data.xdata1.size * 0.8))\n",
        "validation_size = total_size - training_size\n",
        "\n",
        "\n",
        "\n",
        "# data dividing\n",
        "x_train = x_data[0:training_size,:]\n",
        "y_train = t_data[0:training_size,:]\n",
        "\n",
        "x_test = x_data[training_size:-1,:]\n",
        "y_test = t_data[training_size:-1,:]\n",
        "\n",
        "# #data plot\n",
        "hfig1= plt.figure(1,figsize=[5,5])\n",
        "plt.scatter(data.xdata1.values[0:int(data.xdata1.size/2)],\\\n",
        "            data.xdata2.values[0:int(data.xdata1.size/2)], \\\n",
        "            color='b',label='class1')\n",
        "plt.scatter(data.xdata1.values[int(data.xdata1.size/2)+2:-1],\\\n",
        "            data.xdata2.values[int(data.xdata1.size/2)+2:-1], \\\n",
        "            color='r',label='class0')\n",
        "plt.title('Cluster in Cluster data Example')\n",
        "plt.legend()\n",
        "\n",
        "plt.show()"
      ],
      "execution_count": 0,
      "outputs": []
    },
    {
      "cell_type": "code",
      "metadata": {
        "id": "SXOTDGtts570",
        "colab_type": "code",
        "colab": {}
      },
      "source": [
        "# model building and training setting part\n",
        "\n",
        "# Network Parameters\n",
        "n_hidden_1 = 7 # 1st layer number of neurons\n",
        "n_hidden_2 = 5 # 2nd layer number of neurons\n",
        "num_input = xsize   # two-dimensional input X = [1x2]\n",
        "num_classes = ysize # 2 class\n",
        "\n",
        "model = tf.keras.models.Sequential([\n",
        "  tf.keras.layers.Dense(n_hidden_1, activation='relu'),\n",
        "  tf.keras.layers.Dense(n_hidden_2, activation='relu'),\n",
        "  tf.keras.layers.Dense(num_classes, activation='softmax')\n",
        "])\n",
        "\n",
        "model.compile(optimizer='adam',\n",
        "              loss='categorical_crossentropy',\n",
        "              metrics=['accuracy'])\n",
        "\n",
        "tensorboard_callback = TensorBoard(log_dir=LOG_DIR, \n",
        "                           histogram_freq=1,\n",
        "                           write_graph=True,\n",
        "                           write_images=True)"
      ],
      "execution_count": 0,
      "outputs": []
    },
    {
      "cell_type": "code",
      "metadata": {
        "id": "9IAXZUvis6Wq",
        "colab_type": "code",
        "colab": {}
      },
      "source": [
        "# model training and evaluation part\n",
        "training_epochs = 100\n",
        "batch_size = 128\n",
        "\n",
        "model.fit(x_train, y_train, \n",
        "          epochs=training_epochs,\n",
        "          validation_data=(x_test, y_test),\n",
        "          batch_size=batch_size,\n",
        "          callbacks=[tensorboard_callback])\n",
        "model.evaluate(x_test,  y_test, verbose=2)"
      ],
      "execution_count": 0,
      "outputs": []
    },
    {
      "cell_type": "code",
      "metadata": {
        "id": "-T9OxG0Ns6mz",
        "colab_type": "code",
        "colab": {}
      },
      "source": [
        "# prediction \n",
        "\n",
        "plt.figure(1,figsize=(5,5))\n",
        "test_input = x_test[0,:]\n",
        "test_output = y_test[0,:]\n",
        "pred_y = model.predict(test_input.reshape([1,xsize]))\n",
        "\n",
        "hfig2= plt.figure(2,figsize=[5,5])\n",
        "plt.scatter(data.xdata1.values[0:int(data.xdata1.size/2)],\\\n",
        "            data.xdata2.values[0:int(data.xdata1.size/2)], \\\n",
        "            color='b',label='class1')\n",
        "plt.scatter(data.xdata1.values[int(data.xdata1.size/2)+2:-1],\\\n",
        "            data.xdata2.values[int(data.xdata1.size/2)+2:-1], \\\n",
        "            color='r',label='class0')\n",
        "plt.scatter(test_input[0],test_input[1],color='k',marker='x')\n",
        "plt.title('Two spiral data test is class%s' % pred_y.argmax())\n",
        "plt.legend()\n",
        "\n",
        "plt.show()"
      ],
      "execution_count": 0,
      "outputs": []
    }
  ]
}