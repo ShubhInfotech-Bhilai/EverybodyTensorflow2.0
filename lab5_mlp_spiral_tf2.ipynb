{
  "nbformat": 4,
  "nbformat_minor": 0,
  "metadata": {
    "colab": {
      "name": "lab5_mlp_spiral_tf2.ipynb",
      "provenance": [],
      "include_colab_link": true
    },
    "kernelspec": {
      "name": "python3",
      "display_name": "Python 3"
    }
  },
  "cells": [
    {
      "cell_type": "markdown",
      "metadata": {
        "id": "view-in-github",
        "colab_type": "text"
      },
      "source": [
        "<a href=\"https://colab.research.google.com/github/jwkanggist/EverybodyTensorflow2.0/blob/master/lab5_mlp_spiral_tf2.ipynb\" target=\"_parent\"><img src=\"https://colab.research.google.com/assets/colab-badge.svg\" alt=\"Open In Colab\"/></a>"
      ]
    },
    {
      "cell_type": "markdown",
      "metadata": {
        "id": "aRFuS_UpsuIE",
        "colab_type": "text"
      },
      "source": [
        "#LAB5 Multi-layer perceptron for spiral data\n",
        "\n",
        "목적: 가장 기본적인 classification 문제 인 spiral data classification을 tf2.0을 가지고 풀어본다"
      ]
    },
    {
      "cell_type": "code",
      "metadata": {
        "id": "7eqAsq9nsp0P",
        "colab_type": "code",
        "colab": {
          "base_uri": "https://localhost:8080/",
          "height": 139
        },
        "outputId": "1f5a64fd-4d4b-4514-bde4-d21b5d2be76b"
      },
      "source": [
        "# preprocessor parts\n",
        "\n",
        "from __future__ import absolute_import, division, print_function, unicode_literals\n",
        "\n",
        "# Install TensorFlow\n",
        "try:\n",
        "  # %tensorflow_version only exists in Colab.\n",
        "  %tensorflow_version 2.x\n",
        "except Exception:\n",
        "  pass\n",
        "\n",
        "import tensorflow as tf\n",
        "import numpy as np\n",
        "import pandas as pd\n",
        "\n",
        "from matplotlib import cm\n",
        "from matplotlib import gridspec\n",
        "import matplotlib.pyplot as plt\n",
        "\n",
        "from datetime import datetime\n",
        "\n",
        "from google.colab import drive\n",
        "# This will prompt for authorization.\n",
        "drive.mount('/content/drive')"
      ],
      "execution_count": 2,
      "outputs": [
        {
          "output_type": "stream",
          "text": [
            "TensorFlow 2.x selected.\n",
            "Go to this URL in a browser: https://accounts.google.com/o/oauth2/auth?client_id=947318989803-6bn6qk8qdgf4n4g3pfee6491hc0brc4i.apps.googleusercontent.com&redirect_uri=urn%3aietf%3awg%3aoauth%3a2.0%3aoob&response_type=code&scope=email%20https%3a%2f%2fwww.googleapis.com%2fauth%2fdocs.test%20https%3a%2f%2fwww.googleapis.com%2fauth%2fdrive%20https%3a%2f%2fwww.googleapis.com%2fauth%2fdrive.photos.readonly%20https%3a%2f%2fwww.googleapis.com%2fauth%2fpeopleapi.readonly\n",
            "\n",
            "Enter your authorization code:\n",
            "··········\n",
            "Mounted at /content/drive\n"
          ],
          "name": "stdout"
        }
      ]
    },
    {
      "cell_type": "code",
      "metadata": {
        "id": "FZR5Lp-Xs5OS",
        "colab_type": "code",
        "colab": {
          "base_uri": "https://localhost:8080/",
          "height": 336
        },
        "outputId": "878de1bd-ed5c-4ae4-bee9-e54d349bf41b"
      },
      "source": [
        "xsize  = 2\n",
        "ysize  = 2\n",
        "\n",
        "data = pd.read_csv('/content/drive/My Drive/seminar_materials/TensorFlow Lecture/KIT2020/data/twospirals_N5000.csv')\n",
        "data.columns=['xdata1','xdata2','tdata']\n",
        "permutation_index = np.random.permutation(data.index)\n",
        "permutated_data = data.reindex(permutation_index)\n",
        "permutated_data.columns=['xdata1','xdata2','tdata']\n",
        "\n",
        "x_data = np.zeros([permutated_data.xdata1.size,xsize])\n",
        "x_data[:,0] = permutated_data.xdata1.values\n",
        "x_data[:,1] = permutated_data.xdata2.values\n",
        "\n",
        "t_data = np.zeros([permutated_data.tdata.size,ysize])\n",
        "t_data[:,0] = permutated_data.tdata.values\n",
        "t_data[:,1] = np.invert(permutated_data.tdata.values) + 2\n",
        "\n",
        "\n",
        "total_size = permutated_data.xdata1.size\n",
        "training_size = int(np.floor(permutated_data.xdata1.size * 0.8))\n",
        "validation_size = total_size - training_size\n",
        "\n",
        "\n",
        "\n",
        "# data dividing\n",
        "x_train = x_data[0:training_size,:]\n",
        "y_train = t_data[0:training_size,:]\n",
        "\n",
        "x_test = x_data[training_size:-1,:]\n",
        "y_test = t_data[training_size:-1,:]\n",
        "\n",
        "# #data plot\n",
        "hfig1= plt.figure(1,figsize=[5,5])\n",
        "plt.scatter(data.xdata1.values[0:int(data.xdata1.size/2)],\\\n",
        "            data.xdata2.values[0:int(data.xdata1.size/2)], \\\n",
        "            color='b',label='class1')\n",
        "plt.scatter(data.xdata1.values[int(data.xdata1.size/2)+2:-1],\\\n",
        "            data.xdata2.values[int(data.xdata1.size/2)+2:-1], \\\n",
        "            color='r',label='class0')\n",
        "plt.title('Cluster in Cluster data Example')\n",
        "plt.legend()\n",
        "\n",
        "plt.show()"
      ],
      "execution_count": 3,
      "outputs": [
        {
          "output_type": "display_data",
          "data": {
            "image/png": "[encoded data removed]",
            "text/plain": [
              "<Figure size 360x360 with 1 Axes>"
            ]
          },
          "metadata": {
            "tags": []
          }
        }
      ]
    },
    {
      "cell_type": "code",
      "metadata": {
        "id": "SXOTDGtts570",
        "colab_type": "code",
        "colab": {}
      },
      "source": [
        "# model building and training setting part\n",
        "\n",
        "# Network Parameters\n",
        "n_hidden_1 = 7 # 1st layer number of neurons\n",
        "n_hidden_2 = 5 # 2nd layer number of neurons\n",
        "num_input = xsize   # two-dimensional input X = [1x2]\n",
        "num_classes = ysize # 2 class\n",
        "\n",
        "model = tf.keras.models.Sequential([\n",
        "  tf.keras.layers.Dense(n_hidden_1, activation='relu'),\n",
        "  tf.keras.layers.Dense(n_hidden_2, activation='relu'),\n",
        "  tf.keras.layers.Dense(num_classes, activation='softmax')\n",
        "])\n",
        "\n",
        "model.compile(optimizer='adam',\n",
        "              loss='categorical_crossentropy',\n",
        "              metrics=['accuracy'])"
      ],
      "execution_count": 0,
      "outputs": []
    },
    {
      "cell_type": "code",
      "metadata": {
        "id": "9IAXZUvis6Wq",
        "colab_type": "code",
        "colab": {
          "base_uri": "https://localhost:8080/",
          "height": 1000
        },
        "outputId": "0936efed-a4e1-4d98-c76b-563c62e8d783"
      },
      "source": [
        "# model training and evaluation part\n",
        "training_epochs = 100\n",
        "batch_size = 128\n",
        "\n",
        "model.fit(x_train, y_train, epochs=training_epochs,batch_size=128)\n",
        "model.evaluate(x_test,  y_test, verbose=2)"
      ],
      "execution_count": 5,
      "outputs": [
        {
          "output_type": "stream",
          "text": [
            "Train on 3999 samples\n",
            "Epoch 1/100\n",
            "3999/3999 [==============================] - 1s 157us/sample - loss: 0.9490 - accuracy: 0.4814\n",
            "Epoch 2/100\n",
            "3999/3999 [==============================] - 0s 14us/sample - loss: 0.7816 - accuracy: 0.4886\n",
            "Epoch 3/100\n",
            "3999/3999 [==============================] - 0s 12us/sample - loss: 0.7073 - accuracy: 0.5079\n",
            "Epoch 4/100\n",
            "3999/3999 [==============================] - 0s 13us/sample - loss: 0.6734 - accuracy: 0.5506\n",
            "Epoch 5/100\n",
            "3999/3999 [==============================] - 0s 12us/sample - loss: 0.6596 - accuracy: 0.5754\n",
            "Epoch 6/100\n",
            "3999/3999 [==============================] - 0s 12us/sample - loss: 0.6530 - accuracy: 0.5899\n",
            "Epoch 7/100\n",
            "3999/3999 [==============================] - 0s 11us/sample - loss: 0.6489 - accuracy: 0.5974\n",
            "Epoch 8/100\n",
            "3999/3999 [==============================] - 0s 13us/sample - loss: 0.6462 - accuracy: 0.6037\n",
            "Epoch 9/100\n",
            "3999/3999 [==============================] - 0s 13us/sample - loss: 0.6445 - accuracy: 0.6074\n",
            "Epoch 10/100\n",
            "3999/3999 [==============================] - 0s 13us/sample - loss: 0.6433 - accuracy: 0.6097\n",
            "Epoch 11/100\n",
            "3999/3999 [==============================] - 0s 16us/sample - loss: 0.6422 - accuracy: 0.6102\n",
            "Epoch 12/100\n",
            "3999/3999 [==============================] - 0s 12us/sample - loss: 0.6411 - accuracy: 0.6129\n",
            "Epoch 13/100\n",
            "3999/3999 [==============================] - 0s 12us/sample - loss: 0.6399 - accuracy: 0.6117\n",
            "Epoch 14/100\n",
            "3999/3999 [==============================] - 0s 12us/sample - loss: 0.6386 - accuracy: 0.6132\n",
            "Epoch 15/100\n",
            "3999/3999 [==============================] - 0s 12us/sample - loss: 0.6368 - accuracy: 0.6132\n",
            "Epoch 16/100\n",
            "3999/3999 [==============================] - 0s 13us/sample - loss: 0.6315 - accuracy: 0.6184\n",
            "Epoch 17/100\n",
            "3999/3999 [==============================] - 0s 14us/sample - loss: 0.6266 - accuracy: 0.6179\n",
            "Epoch 18/100\n",
            "3999/3999 [==============================] - 0s 12us/sample - loss: 0.6247 - accuracy: 0.6194\n",
            "Epoch 19/100\n",
            "3999/3999 [==============================] - 0s 13us/sample - loss: 0.6232 - accuracy: 0.6522\n",
            "Epoch 20/100\n",
            "3999/3999 [==============================] - 0s 12us/sample - loss: 0.6216 - accuracy: 0.6552\n",
            "Epoch 21/100\n",
            "3999/3999 [==============================] - 0s 12us/sample - loss: 0.6206 - accuracy: 0.6537\n",
            "Epoch 22/100\n",
            "3999/3999 [==============================] - 0s 12us/sample - loss: 0.6190 - accuracy: 0.6517\n",
            "Epoch 23/100\n",
            "3999/3999 [==============================] - 0s 12us/sample - loss: 0.6138 - accuracy: 0.6544\n",
            "Epoch 24/100\n",
            "3999/3999 [==============================] - 0s 12us/sample - loss: 0.6102 - accuracy: 0.6572\n",
            "Epoch 25/100\n",
            "3999/3999 [==============================] - 0s 13us/sample - loss: 0.6076 - accuracy: 0.6562\n",
            "Epoch 26/100\n",
            "3999/3999 [==============================] - 0s 12us/sample - loss: 0.6051 - accuracy: 0.6574\n",
            "Epoch 27/100\n",
            "3999/3999 [==============================] - 0s 12us/sample - loss: 0.6028 - accuracy: 0.6562\n",
            "Epoch 28/100\n",
            "3999/3999 [==============================] - 0s 13us/sample - loss: 0.6008 - accuracy: 0.6547\n",
            "Epoch 29/100\n",
            "3999/3999 [==============================] - 0s 13us/sample - loss: 0.5990 - accuracy: 0.6504\n",
            "Epoch 30/100\n",
            "3999/3999 [==============================] - 0s 12us/sample - loss: 0.5965 - accuracy: 0.6477\n",
            "Epoch 31/100\n",
            "3999/3999 [==============================] - 0s 13us/sample - loss: 0.5946 - accuracy: 0.6402\n",
            "Epoch 32/100\n",
            "3999/3999 [==============================] - 0s 11us/sample - loss: 0.5922 - accuracy: 0.6414\n",
            "Epoch 33/100\n",
            "3999/3999 [==============================] - 0s 12us/sample - loss: 0.5889 - accuracy: 0.6372\n",
            "Epoch 34/100\n",
            "3999/3999 [==============================] - 0s 13us/sample - loss: 0.5846 - accuracy: 0.6357\n",
            "Epoch 35/100\n",
            "3999/3999 [==============================] - 0s 12us/sample - loss: 0.5793 - accuracy: 0.6339\n",
            "Epoch 36/100\n",
            "3999/3999 [==============================] - 0s 14us/sample - loss: 0.5736 - accuracy: 0.6302\n",
            "Epoch 37/100\n",
            "3999/3999 [==============================] - 0s 14us/sample - loss: 0.5665 - accuracy: 0.6287\n",
            "Epoch 38/100\n",
            "3999/3999 [==============================] - 0s 13us/sample - loss: 0.5591 - accuracy: 0.6202\n",
            "Epoch 39/100\n",
            "3999/3999 [==============================] - 0s 13us/sample - loss: 0.5520 - accuracy: 0.6149\n",
            "Epoch 40/100\n",
            "3999/3999 [==============================] - 0s 12us/sample - loss: 0.5426 - accuracy: 0.6124\n",
            "Epoch 41/100\n",
            "3999/3999 [==============================] - 0s 12us/sample - loss: 0.5335 - accuracy: 0.6137\n",
            "Epoch 42/100\n",
            "3999/3999 [==============================] - 0s 14us/sample - loss: 0.5242 - accuracy: 0.6202\n",
            "Epoch 43/100\n",
            "3999/3999 [==============================] - 0s 12us/sample - loss: 0.5143 - accuracy: 0.6342\n",
            "Epoch 44/100\n",
            "3999/3999 [==============================] - 0s 11us/sample - loss: 0.5053 - accuracy: 0.6402\n",
            "Epoch 45/100\n",
            "3999/3999 [==============================] - 0s 12us/sample - loss: 0.4959 - accuracy: 0.6482\n",
            "Epoch 46/100\n",
            "3999/3999 [==============================] - 0s 12us/sample - loss: 0.4865 - accuracy: 0.6554\n",
            "Epoch 47/100\n",
            "3999/3999 [==============================] - 0s 13us/sample - loss: 0.4773 - accuracy: 0.6622\n",
            "Epoch 48/100\n",
            "3999/3999 [==============================] - 0s 12us/sample - loss: 0.4668 - accuracy: 0.6727\n",
            "Epoch 49/100\n",
            "3999/3999 [==============================] - 0s 12us/sample - loss: 0.4556 - accuracy: 0.6907\n",
            "Epoch 50/100\n",
            "3999/3999 [==============================] - 0s 12us/sample - loss: 0.4456 - accuracy: 0.6924\n",
            "Epoch 51/100\n",
            "3999/3999 [==============================] - 0s 12us/sample - loss: 0.4367 - accuracy: 0.7019\n",
            "Epoch 52/100\n",
            "3999/3999 [==============================] - 0s 13us/sample - loss: 0.4296 - accuracy: 0.7069\n",
            "Epoch 53/100\n",
            "3999/3999 [==============================] - 0s 13us/sample - loss: 0.4227 - accuracy: 0.7169\n",
            "Epoch 54/100\n",
            "3999/3999 [==============================] - 0s 13us/sample - loss: 0.4171 - accuracy: 0.7172\n",
            "Epoch 55/100\n",
            "3999/3999 [==============================] - 0s 12us/sample - loss: 0.4113 - accuracy: 0.7204\n",
            "Epoch 56/100\n",
            "3999/3999 [==============================] - 0s 12us/sample - loss: 0.4061 - accuracy: 0.7269\n",
            "Epoch 57/100\n",
            "3999/3999 [==============================] - 0s 11us/sample - loss: 0.4016 - accuracy: 0.7327\n",
            "Epoch 58/100\n",
            "3999/3999 [==============================] - 0s 11us/sample - loss: 0.3956 - accuracy: 0.7339\n",
            "Epoch 59/100\n",
            "3999/3999 [==============================] - 0s 12us/sample - loss: 0.3910 - accuracy: 0.7344\n",
            "Epoch 60/100\n",
            "3999/3999 [==============================] - 0s 12us/sample - loss: 0.3860 - accuracy: 0.7379\n",
            "Epoch 61/100\n",
            "3999/3999 [==============================] - 0s 13us/sample - loss: 0.3822 - accuracy: 0.7437\n",
            "Epoch 62/100\n",
            "3999/3999 [==============================] - 0s 13us/sample - loss: 0.3791 - accuracy: 0.7429\n",
            "Epoch 63/100\n",
            "3999/3999 [==============================] - 0s 12us/sample - loss: 0.3745 - accuracy: 0.7497\n",
            "Epoch 64/100\n",
            "3999/3999 [==============================] - 0s 13us/sample - loss: 0.3703 - accuracy: 0.7587\n",
            "Epoch 65/100\n",
            "3999/3999 [==============================] - 0s 12us/sample - loss: 0.3634 - accuracy: 0.7729\n",
            "Epoch 66/100\n",
            "3999/3999 [==============================] - 0s 12us/sample - loss: 0.3572 - accuracy: 0.7834\n",
            "Epoch 67/100\n",
            "3999/3999 [==============================] - 0s 12us/sample - loss: 0.3499 - accuracy: 0.7937\n",
            "Epoch 68/100\n",
            "3999/3999 [==============================] - 0s 12us/sample - loss: 0.3360 - accuracy: 0.8030\n",
            "Epoch 69/100\n",
            "3999/3999 [==============================] - 0s 12us/sample - loss: 0.3254 - accuracy: 0.8365\n",
            "Epoch 70/100\n",
            "3999/3999 [==============================] - 0s 13us/sample - loss: 0.3182 - accuracy: 0.8537\n",
            "Epoch 71/100\n",
            "3999/3999 [==============================] - 0s 11us/sample - loss: 0.3121 - accuracy: 0.8550\n",
            "Epoch 72/100\n",
            "3999/3999 [==============================] - 0s 12us/sample - loss: 0.3049 - accuracy: 0.8635\n",
            "Epoch 73/100\n",
            "3999/3999 [==============================] - 0s 11us/sample - loss: 0.2999 - accuracy: 0.8640\n",
            "Epoch 74/100\n",
            "3999/3999 [==============================] - 0s 13us/sample - loss: 0.2921 - accuracy: 0.8702\n",
            "Epoch 75/100\n",
            "3999/3999 [==============================] - 0s 12us/sample - loss: 0.2867 - accuracy: 0.8737\n",
            "Epoch 76/100\n",
            "3999/3999 [==============================] - 0s 12us/sample - loss: 0.2817 - accuracy: 0.8747\n",
            "Epoch 77/100\n",
            "3999/3999 [==============================] - 0s 12us/sample - loss: 0.2769 - accuracy: 0.8802\n",
            "Epoch 78/100\n",
            "3999/3999 [==============================] - 0s 12us/sample - loss: 0.2717 - accuracy: 0.8822\n",
            "Epoch 79/100\n",
            "3999/3999 [==============================] - 0s 12us/sample - loss: 0.2674 - accuracy: 0.8897\n",
            "Epoch 80/100\n",
            "3999/3999 [==============================] - 0s 12us/sample - loss: 0.2637 - accuracy: 0.8922\n",
            "Epoch 81/100\n",
            "3999/3999 [==============================] - 0s 13us/sample - loss: 0.2593 - accuracy: 0.8955\n",
            "Epoch 82/100\n",
            "3999/3999 [==============================] - 0s 13us/sample - loss: 0.2555 - accuracy: 0.8970\n",
            "Epoch 83/100\n",
            "3999/3999 [==============================] - 0s 11us/sample - loss: 0.2519 - accuracy: 0.8997\n",
            "Epoch 84/100\n",
            "3999/3999 [==============================] - 0s 12us/sample - loss: 0.2482 - accuracy: 0.8995\n",
            "Epoch 85/100\n",
            "3999/3999 [==============================] - 0s 12us/sample - loss: 0.2451 - accuracy: 0.9047\n",
            "Epoch 86/100\n",
            "3999/3999 [==============================] - 0s 13us/sample - loss: 0.2411 - accuracy: 0.9040\n",
            "Epoch 87/100\n",
            "3999/3999 [==============================] - 0s 12us/sample - loss: 0.2384 - accuracy: 0.9062\n",
            "Epoch 88/100\n",
            "3999/3999 [==============================] - 0s 12us/sample - loss: 0.2353 - accuracy: 0.9080\n",
            "Epoch 89/100\n",
            "3999/3999 [==============================] - 0s 13us/sample - loss: 0.2321 - accuracy: 0.9095\n",
            "Epoch 90/100\n",
            "3999/3999 [==============================] - 0s 12us/sample - loss: 0.2293 - accuracy: 0.9120\n",
            "Epoch 91/100\n",
            "3999/3999 [==============================] - 0s 12us/sample - loss: 0.2269 - accuracy: 0.9132\n",
            "Epoch 92/100\n",
            "3999/3999 [==============================] - 0s 12us/sample - loss: 0.2249 - accuracy: 0.9137\n",
            "Epoch 93/100\n",
            "3999/3999 [==============================] - 0s 12us/sample - loss: 0.2221 - accuracy: 0.9135\n",
            "Epoch 94/100\n",
            "3999/3999 [==============================] - 0s 12us/sample - loss: 0.2196 - accuracy: 0.9155\n",
            "Epoch 95/100\n",
            "3999/3999 [==============================] - 0s 12us/sample - loss: 0.2174 - accuracy: 0.9162\n",
            "Epoch 96/100\n",
            "3999/3999 [==============================] - 0s 12us/sample - loss: 0.2156 - accuracy: 0.9157\n",
            "Epoch 97/100\n",
            "3999/3999 [==============================] - 0s 13us/sample - loss: 0.2135 - accuracy: 0.9175\n",
            "Epoch 98/100\n",
            "3999/3999 [==============================] - 0s 14us/sample - loss: 0.2116 - accuracy: 0.9187\n",
            "Epoch 99/100\n",
            "3999/3999 [==============================] - 0s 11us/sample - loss: 0.2097 - accuracy: 0.9170\n",
            "Epoch 100/100\n",
            "3999/3999 [==============================] - 0s 13us/sample - loss: 0.2078 - accuracy: 0.9172\n",
            "999/999 - 0s - loss: 0.1886 - accuracy: 0.9349\n"
          ],
          "name": "stdout"
        },
        {
          "output_type": "execute_result",
          "data": {
            "text/plain": [
              "[0.18859891888048794, 0.9349349]"
            ]
          },
          "metadata": {
            "tags": []
          },
          "execution_count": 5
        }
      ]
    },
    {
      "cell_type": "code",
      "metadata": {
        "id": "-T9OxG0Ns6mz",
        "colab_type": "code",
        "colab": {
          "base_uri": "https://localhost:8080/",
          "height": 353
        },
        "outputId": "9b1bb7a4-20c0-4ef4-abaf-665be72e1d8c"
      },
      "source": [
        "# prediction \n",
        "\n",
        "plt.figure(1,figsize=(5,5))\n",
        "test_input = x_test[0,:]\n",
        "test_output = y_test[0,:]\n",
        "pred_y = model.predict(test_input.reshape([1,xsize]))\n",
        "\n",
        "hfig2= plt.figure(2,figsize=[5,5])\n",
        "plt.scatter(data.xdata1.values[0:int(data.xdata1.size/2)],\\\n",
        "            data.xdata2.values[0:int(data.xdata1.size/2)], \\\n",
        "            color='b',label='class1')\n",
        "plt.scatter(data.xdata1.values[int(data.xdata1.size/2)+2:-1],\\\n",
        "            data.xdata2.values[int(data.xdata1.size/2)+2:-1], \\\n",
        "            color='r',label='class0')\n",
        "plt.scatter(test_input[0],test_input[1],color='k',marker='x')\n",
        "plt.title('Two spiral data test is class%s' % pred_y.argmax())\n",
        "plt.legend()\n",
        "\n",
        "plt.show()"
      ],
      "execution_count": 6,
      "outputs": [
        {
          "output_type": "display_data",
          "data": {
            "text/plain": [
              "<Figure size 360x360 with 0 Axes>"
            ]
          },
          "metadata": {
            "tags": []
          }
        },
        {
          "output_type": "display_data",
          "data": {
            "image/png": "[encoded data removed]",
            "text/plain": [
              "<Figure size 360x360 with 1 Axes>"
            ]
          },
          "metadata": {
            "tags": []
          }
        }
      ]
    }
  ]
}