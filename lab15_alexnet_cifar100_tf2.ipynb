{
  "nbformat": 4,
  "nbformat_minor": 0,
  "metadata": {
    "colab": {
      "name": "lab15_alexnet_cifar100_tf2.ipynb",
      "provenance": [],
      "machine_shape": "hm",
      "include_colab_link": true
    },
    "kernelspec": {
      "name": "python3",
      "display_name": "Python 3"
    },
    "accelerator": "GPU"
  },
  "cells": [
    {
      "cell_type": "markdown",
      "metadata": {
        "id": "view-in-github",
        "colab_type": "text"
      },
      "source": [
        "<a href=\"https://colab.research.google.com/github/jwkanggist/EverybodyTensorflow2.0/blob/master/lab15_alexnet_cifar100_tf2.ipynb\" target=\"_parent\"><img src=\"https://colab.research.google.com/assets/colab-badge.svg\" alt=\"Open In Colab\"/></a>"
      ]
    },
    {
      "cell_type": "markdown",
      "metadata": {
        "id": "aRFuS_UpsuIE",
        "colab_type": "text"
      },
      "source": [
        "#LAB15: alexnet for cifar100\n",
        "\n",
        "Alexnet을 구현해보자\n",
        "- Cifar100 datatset을 위한 실험\n"
      ]
    },
    {
      "cell_type": "code",
      "metadata": {
        "id": "7eqAsq9nsp0P",
        "colab_type": "code",
        "outputId": "11f99e24-d7ef-4937-daf8-c02b5e4b9937",
        "colab": {
          "base_uri": "https://localhost:8080/",
          "height": 34
        }
      },
      "source": [
        "# preprocessor parts\n",
        "\n",
        "from __future__ import absolute_import, division, print_function, unicode_literals\n",
        "\n",
        "# Install TensorFlow\n",
        "try:\n",
        "  # %tensorflow_version only exists in Colab.\n",
        "  %tensorflow_version 2.x\n",
        "except Exception:\n",
        "  pass\n",
        "\n",
        "import tensorflow as tf\n",
        "from tensorflow.keras.callbacks import TensorBoard\n",
        "\n",
        "import numpy as np\n",
        "import pandas as pd\n",
        "import cv2\n",
        "import numpy as np\n",
        "\n",
        "from matplotlib import cm\n",
        "from matplotlib import gridspec\n",
        "import matplotlib.pyplot as plt\n",
        "\n",
        "from datetime import datetime"
      ],
      "execution_count": 0,
      "outputs": [
        {
          "output_type": "stream",
          "text": [
            "TensorFlow 2.x selected.\n"
          ],
          "name": "stdout"
        }
      ]
    },
    {
      "cell_type": "code",
      "metadata": {
        "id": "ES0hIsUdZMRc",
        "colab_type": "code",
        "outputId": "e73aa82f-9601-41bc-f9e6-57021dbe0efa",
        "colab": {
          "base_uri": "https://localhost:8080/",
          "height": 255
        }
      },
      "source": [
        "  # for Tensorboard use\n",
        "  LOG_DIR = 'drive/data/tb_logs'\n",
        "\t\n",
        "  !wget https://bin.equinox.io/c/4VmDzA7iaHb/ngrok-stable-linux-amd64.zip\n",
        "  !unzip ngrok-stable-linux-amd64.zip\n",
        "\t\n",
        "  import os\n",
        "  if not os.path.exists(LOG_DIR):\n",
        "    os.makedirs(LOG_DIR)\n",
        "\t  \n",
        "  get_ipython().system_raw(\n",
        "      'tensorboard --logdir {} --host 0.0.0.0 --port 6006 &'\n",
        "      .format(LOG_DIR))\n",
        "\t\n",
        "  get_ipython().system_raw('./ngrok http 6006 &')\n",
        "\t\n",
        "  !curl -s http://localhost:4040/api/tunnels | python3 -c \\\n",
        "      \"import sys, json; print(json.load(sys.stdin)['tunnels'][0]['public_url'])\""
      ],
      "execution_count": 0,
      "outputs": [
        {
          "output_type": "stream",
          "text": [
            "--2020-01-11 15:48:33--  https://bin.equinox.io/c/4VmDzA7iaHb/ngrok-stable-linux-amd64.zip\n",
            "Resolving bin.equinox.io (bin.equinox.io)... 3.225.172.191, 34.237.203.145, 34.227.168.133, ...\n",
            "Connecting to bin.equinox.io (bin.equinox.io)|3.225.172.191|:443... connected.\n",
            "HTTP request sent, awaiting response... 200 OK\n",
            "Length: 13773305 (13M) [application/octet-stream]\n",
            "Saving to: ‘ngrok-stable-linux-amd64.zip’\n",
            "\n",
            "ngrok-stable-linux- 100%[===================>]  13.13M  18.3MB/s    in 0.7s    \n",
            "\n",
            "2020-01-11 15:48:34 (18.3 MB/s) - ‘ngrok-stable-linux-amd64.zip’ saved [13773305/13773305]\n",
            "\n",
            "Archive:  ngrok-stable-linux-amd64.zip\n",
            "  inflating: ngrok                   \n",
            "https://ceeaf599.ngrok.io\n"
          ],
          "name": "stdout"
        }
      ]
    },
    {
      "cell_type": "code",
      "metadata": {
        "id": "FZR5Lp-Xs5OS",
        "colab_type": "code",
        "outputId": "a1cf8cd5-5a86-46e1-ebd7-f6de914ae4de",
        "colab": {
          "base_uri": "https://localhost:8080/",
          "height": 153
        }
      },
      "source": [
        "# dataset loading part\n",
        "# 데이터 파이프라인 부분 \n",
        "\n",
        "cifar100 = tf.keras.datasets.cifar100\n",
        "\n",
        "(x_train, y_train), (x_test, y_test) = cifar100.load_data()\n",
        "x_train, x_test = x_train / 255.0, x_test / 255.0\n",
        "\n",
        "print(\"x_train.shape = %s\" % str(x_train.shape))\n",
        "print(\"y_train.shape = %s\" % str(x_train.shape))\n",
        "\n",
        "x_train = x_train.reshape([x_train.shape[0],\n",
        "                           x_train.shape[1],\n",
        "                           x_train.shape[2],3])\n",
        "\n",
        "x_test = x_test.reshape([x_test.shape[0],\n",
        "                           x_test.shape[1],\n",
        "                           x_test.shape[2],3])\n",
        "\n",
        "\n",
        "x_train = np.array(tf.keras.backend.resize_images(x_train, height_factor=2,width_factor=2, data_format='channels_last',interpolation='bilinear'))\n",
        "x_test = np.array(tf.keras.backend.resize_images(x_test, height_factor=2,width_factor=2, data_format='channels_last',interpolation='bilinear'))\n",
        "\n",
        "# x_train = cv2.resize(x_train, dsize=(64,64), interpolation=cv2.INTER_CUBIC)\n",
        "# x_test = cv2.resize(x_test, dsize=(64,64), interpolation=cv2.INTER_CUBIC)\n",
        "\n",
        "print(\"x_train.shape = %s\" % str(x_train.shape))\n",
        "print(\"x_test.shape = %s\" % str(x_test.shape))\n",
        "\n",
        "print(\"y_train.shape = %s\" % str(y_train.shape))\n",
        "print(\"y_test.shape = %s\" % str(y_test.shape))\n"
      ],
      "execution_count": 0,
      "outputs": [
        {
          "output_type": "stream",
          "text": [
            "Downloading data from https://www.cs.toronto.edu/~kriz/cifar-100-python.tar.gz\n",
            "169009152/169001437 [==============================] - 4s 0us/step\n",
            "x_train.shape = (50000, 32, 32, 3)\n",
            "y_train.shape = (50000, 32, 32, 3)\n",
            "x_train.shape = (50000, 64, 64, 3)\n",
            "x_test.shape = (10000, 64, 64, 3)\n",
            "y_train.shape = (50000, 1)\n",
            "y_test.shape = (10000, 1)\n"
          ],
          "name": "stdout"
        }
      ]
    },
    {
      "cell_type": "code",
      "metadata": {
        "id": "SXOTDGtts570",
        "colab_type": "code",
        "outputId": "48a996f4-0d3e-412f-9901-190d6d240eeb",
        "colab": {
          "base_uri": "https://localhost:8080/"
        }
      },
      "source": [
        "# Network Parameters\n",
        "dropout_rate =0.1\n",
        "model = tf.keras.models.Sequential([\n",
        "  tf.keras.layers.Conv2D(filters=24,kernel_size=(11,11),strides=(1,1),activation='relu',padding='same'),\n",
        "  tf.keras.layers.Dropout(dropout_rate),\n",
        "  tf.keras.layers.BatchNormalization(),\n",
        "  tf.keras.layers.MaxPool2D(pool_size=(3,3),strides=(2,2),padding='valid'),\n",
        "  tf.keras.layers.Conv2D(filters=64,kernel_size=(5,5),strides=(1,1),activation='relu',padding='same'),\n",
        "  tf.keras.layers.Dropout(dropout_rate),\n",
        "  tf.keras.layers.BatchNormalization(),\n",
        "  tf.keras.layers.MaxPool2D(pool_size=(3,3),strides=(2,2),padding='valid'),\n",
        "  tf.keras.layers.Conv2D(filters=96,kernel_size=(3,3),strides=(1,1),activation='relu',padding='same'),\n",
        "  tf.keras.layers.Dropout(dropout_rate),\n",
        "  tf.keras.layers.BatchNormalization(),\n",
        "  tf.keras.layers.Conv2D(filters=96,kernel_size=(3,3),strides=(1,1),activation='relu',padding='same'),\n",
        "  tf.keras.layers.Dropout(dropout_rate),\n",
        "  tf.keras.layers.BatchNormalization(),\n",
        "  tf.keras.layers.Conv2D(filters=64,kernel_size=(3,3),strides=(1,1),activation='relu',padding='same'),\n",
        "  tf.keras.layers.Dropout(dropout_rate),\n",
        "  tf.keras.layers.BatchNormalization(),\n",
        "  tf.keras.layers.Flatten(),\n",
        "  tf.keras.layers.Dense(units=1024,activation='relu'),\n",
        "  tf.keras.layers.Dropout(dropout_rate),\n",
        "  tf.keras.layers.BatchNormalization(),\n",
        "  tf.keras.layers.Dense(units=1024,activation='relu'),\n",
        "  tf.keras.layers.Dropout(dropout_rate),\n",
        "  tf.keras.layers.BatchNormalization(),\n",
        "  tf.keras.layers.Dense(units=100,activation='softmax')\n",
        "])\n",
        "\n",
        "opt_fn = tf.keras.optimizers.Adam(learning_rate=1e-3,\n",
        "                                beta_1=0.9,\n",
        "                                beta_2=0.999)\n",
        "\n",
        "# 'sparse_categorical_crossentropy' is for integer labels\n",
        "model.compile(optimizer='adam',\n",
        "              loss='sparse_categorical_crossentropy',\n",
        "              metrics=['accuracy'])\n",
        "\n",
        "tensorboard_callback = TensorBoard(log_dir=LOG_DIR, \n",
        "                           histogram_freq=1,\n",
        "                           write_graph=True,\n",
        "                           write_images=True)"
      ],
      "execution_count": 0,
      "outputs": [
        {
          "output_type": "error",
          "ename": "NameError",
          "evalue": "ignored",
          "traceback": [
            "\u001b[0;31m---------------------------------------------------------------------------\u001b[0m",
            "\u001b[0;31mNameError\u001b[0m                                 Traceback (most recent call last)",
            "\u001b[0;32m<ipython-input-1-b28aa6c75382>\u001b[0m in \u001b[0;36m<module>\u001b[0;34m()\u001b[0m\n\u001b[1;32m      1\u001b[0m \u001b[0mdropout_rate\u001b[0m \u001b[0;34m=\u001b[0m\u001b[0;36m0.1\u001b[0m\u001b[0;34m\u001b[0m\u001b[0;34m\u001b[0m\u001b[0m\n\u001b[0;32m----> 2\u001b[0;31m model = tf.keras.models.Sequential([\n\u001b[0m\u001b[1;32m      3\u001b[0m   \u001b[0mtf\u001b[0m\u001b[0;34m.\u001b[0m\u001b[0mkeras\u001b[0m\u001b[0;34m.\u001b[0m\u001b[0mlayers\u001b[0m\u001b[0;34m.\u001b[0m\u001b[0mConv2D\u001b[0m\u001b[0;34m(\u001b[0m\u001b[0mfilters\u001b[0m\u001b[0;34m=\u001b[0m\u001b[0;36m24\u001b[0m\u001b[0;34m,\u001b[0m\u001b[0mkernel_size\u001b[0m\u001b[0;34m=\u001b[0m\u001b[0;34m(\u001b[0m\u001b[0;36m11\u001b[0m\u001b[0;34m,\u001b[0m\u001b[0;36m11\u001b[0m\u001b[0;34m)\u001b[0m\u001b[0;34m,\u001b[0m\u001b[0mstrides\u001b[0m\u001b[0;34m=\u001b[0m\u001b[0;34m(\u001b[0m\u001b[0;36m1\u001b[0m\u001b[0;34m,\u001b[0m\u001b[0;36m1\u001b[0m\u001b[0;34m)\u001b[0m\u001b[0;34m,\u001b[0m\u001b[0mactivation\u001b[0m\u001b[0;34m=\u001b[0m\u001b[0;34m'relu'\u001b[0m\u001b[0;34m,\u001b[0m\u001b[0mpadding\u001b[0m\u001b[0;34m=\u001b[0m\u001b[0;34m'same'\u001b[0m\u001b[0;34m)\u001b[0m\u001b[0;34m,\u001b[0m\u001b[0;34m\u001b[0m\u001b[0;34m\u001b[0m\u001b[0m\n\u001b[1;32m      4\u001b[0m   \u001b[0mtf\u001b[0m\u001b[0;34m.\u001b[0m\u001b[0mkeras\u001b[0m\u001b[0;34m.\u001b[0m\u001b[0mlayers\u001b[0m\u001b[0;34m.\u001b[0m\u001b[0mDropout\u001b[0m\u001b[0;34m(\u001b[0m\u001b[0mdropout_rate\u001b[0m\u001b[0;34m)\u001b[0m\u001b[0;34m,\u001b[0m\u001b[0;34m\u001b[0m\u001b[0;34m\u001b[0m\u001b[0m\n\u001b[1;32m      5\u001b[0m   \u001b[0mtf\u001b[0m\u001b[0;34m.\u001b[0m\u001b[0mkeras\u001b[0m\u001b[0;34m.\u001b[0m\u001b[0mlayers\u001b[0m\u001b[0;34m.\u001b[0m\u001b[0mBatchNormalization\u001b[0m\u001b[0;34m(\u001b[0m\u001b[0;34m)\u001b[0m\u001b[0;34m,\u001b[0m\u001b[0;34m\u001b[0m\u001b[0;34m\u001b[0m\u001b[0m\n",
            "\u001b[0;31mNameError\u001b[0m: name 'tf' is not defined"
          ]
        }
      ]
    },
    {
      "cell_type": "code",
      "metadata": {
        "id": "9IAXZUvis6Wq",
        "colab_type": "code",
        "outputId": "3d9b00b6-63c5-4135-c336-c287e6a2c151",
        "colab": {
          "base_uri": "https://localhost:8080/",
          "height": 1000
        }
      },
      "source": [
        "# model training and evaluation part\n",
        "training_epochs = 20\n",
        "batch_size = 128\n",
        "\n",
        "model.fit(x_train, y_train, \n",
        "          epochs=training_epochs,\n",
        "          validation_data=(x_test, y_test),\n",
        "          batch_size=batch_size,\n",
        "          callbacks=[tensorboard_callback])\n",
        "model.evaluate(x_test,  y_test, verbose=2)"
      ],
      "execution_count": 0,
      "outputs": [
        {
          "output_type": "stream",
          "text": [
            "Train on 50000 samples, validate on 10000 samples\n",
            "Epoch 1/50\n",
            "50000/50000 [==============================] - 22s 441us/sample - loss: 3.5575 - accuracy: 0.1782 - val_loss: 3.5194 - val_accuracy: 0.1881\n",
            "Epoch 2/50\n",
            "50000/50000 [==============================] - 14s 277us/sample - loss: 2.6711 - accuracy: 0.3266 - val_loss: 2.7796 - val_accuracy: 0.3167\n",
            "Epoch 3/50\n",
            "50000/50000 [==============================] - 14s 277us/sample - loss: 2.1534 - accuracy: 0.4338 - val_loss: 2.5026 - val_accuracy: 0.3705\n",
            "Epoch 4/50\n",
            "50000/50000 [==============================] - 14s 277us/sample - loss: 1.7539 - accuracy: 0.5223 - val_loss: 2.3579 - val_accuracy: 0.4134\n",
            "Epoch 5/50\n",
            "50000/50000 [==============================] - 14s 277us/sample - loss: 1.3490 - accuracy: 0.6218 - val_loss: 2.3410 - val_accuracy: 0.4306\n",
            "Epoch 6/50\n",
            "50000/50000 [==============================] - 14s 277us/sample - loss: 0.9480 - accuracy: 0.7261 - val_loss: 2.4442 - val_accuracy: 0.4318\n",
            "Epoch 7/50\n",
            "50000/50000 [==============================] - 14s 278us/sample - loss: 0.6189 - accuracy: 0.8151 - val_loss: 2.7096 - val_accuracy: 0.4250\n",
            "Epoch 8/50\n",
            "50000/50000 [==============================] - 14s 278us/sample - loss: 0.4038 - accuracy: 0.8770 - val_loss: 2.8340 - val_accuracy: 0.4263\n",
            "Epoch 9/50\n",
            "50000/50000 [==============================] - 14s 278us/sample - loss: 0.2882 - accuracy: 0.9118 - val_loss: 2.9818 - val_accuracy: 0.4194\n",
            "Epoch 10/50\n",
            "50000/50000 [==============================] - 14s 278us/sample - loss: 0.2486 - accuracy: 0.9222 - val_loss: 3.1635 - val_accuracy: 0.4155\n",
            "Epoch 11/50\n",
            "50000/50000 [==============================] - 14s 277us/sample - loss: 0.2148 - accuracy: 0.9337 - val_loss: 3.2069 - val_accuracy: 0.4225\n",
            "Epoch 12/50\n",
            "50000/50000 [==============================] - 14s 278us/sample - loss: 0.2112 - accuracy: 0.9335 - val_loss: 3.4989 - val_accuracy: 0.3993\n",
            "Epoch 13/50\n",
            "50000/50000 [==============================] - 14s 278us/sample - loss: 0.1856 - accuracy: 0.9410 - val_loss: 3.5549 - val_accuracy: 0.4031\n",
            "Epoch 14/50\n",
            "50000/50000 [==============================] - 14s 279us/sample - loss: 0.1840 - accuracy: 0.9419 - val_loss: 3.4317 - val_accuracy: 0.4259\n",
            "Epoch 15/50\n",
            "50000/50000 [==============================] - 14s 282us/sample - loss: 0.1592 - accuracy: 0.9493 - val_loss: 3.5940 - val_accuracy: 0.4189\n",
            "Epoch 16/50\n",
            "50000/50000 [==============================] - 14s 277us/sample - loss: 0.1475 - accuracy: 0.9522 - val_loss: 3.6544 - val_accuracy: 0.4238\n",
            "Epoch 17/50\n",
            "50000/50000 [==============================] - 14s 278us/sample - loss: 0.1429 - accuracy: 0.9546 - val_loss: 3.9394 - val_accuracy: 0.3995\n",
            "Epoch 18/50\n",
            "50000/50000 [==============================] - 14s 280us/sample - loss: 0.1323 - accuracy: 0.9577 - val_loss: 4.2176 - val_accuracy: 0.3802\n",
            "Epoch 19/50\n",
            "50000/50000 [==============================] - 14s 277us/sample - loss: 0.1300 - accuracy: 0.9581 - val_loss: 3.7570 - val_accuracy: 0.4251\n",
            "Epoch 20/50\n",
            "50000/50000 [==============================] - 14s 278us/sample - loss: 0.1287 - accuracy: 0.9582 - val_loss: 3.9369 - val_accuracy: 0.4111\n",
            "Epoch 21/50\n",
            "50000/50000 [==============================] - 14s 278us/sample - loss: 0.1189 - accuracy: 0.9614 - val_loss: 4.0225 - val_accuracy: 0.4070\n",
            "Epoch 22/50\n",
            "50000/50000 [==============================] - 14s 278us/sample - loss: 0.1155 - accuracy: 0.9628 - val_loss: 3.9967 - val_accuracy: 0.4218\n",
            "Epoch 23/50\n",
            "50000/50000 [==============================] - 14s 278us/sample - loss: 0.1095 - accuracy: 0.9650 - val_loss: 4.0053 - val_accuracy: 0.4215\n",
            "Epoch 24/50\n",
            "50000/50000 [==============================] - 14s 278us/sample - loss: 0.1085 - accuracy: 0.9647 - val_loss: 4.0746 - val_accuracy: 0.4241\n",
            "Epoch 25/50\n",
            "50000/50000 [==============================] - 14s 278us/sample - loss: 0.0997 - accuracy: 0.9684 - val_loss: 4.1614 - val_accuracy: 0.4102\n",
            "Epoch 26/50\n",
            "50000/50000 [==============================] - 14s 278us/sample - loss: 0.0916 - accuracy: 0.9717 - val_loss: 4.0439 - val_accuracy: 0.4230\n",
            "Epoch 27/50\n",
            "50000/50000 [==============================] - 14s 278us/sample - loss: 0.0963 - accuracy: 0.9694 - val_loss: 4.3088 - val_accuracy: 0.4093\n",
            "Epoch 28/50\n",
            "50000/50000 [==============================] - 14s 278us/sample - loss: 0.0977 - accuracy: 0.9694 - val_loss: 4.1918 - val_accuracy: 0.4228\n",
            "Epoch 29/50\n",
            "50000/50000 [==============================] - 14s 277us/sample - loss: 0.0935 - accuracy: 0.9709 - val_loss: 4.1498 - val_accuracy: 0.4222\n",
            "Epoch 30/50\n",
            "50000/50000 [==============================] - 14s 277us/sample - loss: 0.0863 - accuracy: 0.9720 - val_loss: 4.2865 - val_accuracy: 0.4104\n",
            "Epoch 31/50\n",
            "50000/50000 [==============================] - 14s 278us/sample - loss: 0.0845 - accuracy: 0.9730 - val_loss: 4.2338 - val_accuracy: 0.4118\n",
            "Epoch 32/50\n",
            "50000/50000 [==============================] - 14s 277us/sample - loss: 0.0862 - accuracy: 0.9723 - val_loss: 4.4599 - val_accuracy: 0.4126\n",
            "Epoch 33/50\n",
            "50000/50000 [==============================] - 14s 278us/sample - loss: 0.0780 - accuracy: 0.9753 - val_loss: 4.3170 - val_accuracy: 0.4143\n",
            "Epoch 34/50\n",
            "50000/50000 [==============================] - 14s 278us/sample - loss: 0.0670 - accuracy: 0.9779 - val_loss: 4.2380 - val_accuracy: 0.4262\n",
            "Epoch 35/50\n",
            "50000/50000 [==============================] - 14s 278us/sample - loss: 0.0734 - accuracy: 0.9777 - val_loss: 4.4671 - val_accuracy: 0.4172\n",
            "Epoch 36/50\n",
            "50000/50000 [==============================] - 14s 277us/sample - loss: 0.0834 - accuracy: 0.9739 - val_loss: 4.4961 - val_accuracy: 0.4174\n",
            "Epoch 37/50\n",
            "50000/50000 [==============================] - 14s 279us/sample - loss: 0.0772 - accuracy: 0.9749 - val_loss: 4.6564 - val_accuracy: 0.3988\n",
            "Epoch 38/50\n",
            "50000/50000 [==============================] - 14s 278us/sample - loss: 0.0756 - accuracy: 0.9755 - val_loss: 4.3857 - val_accuracy: 0.4243\n",
            "Epoch 39/50\n",
            "50000/50000 [==============================] - 14s 279us/sample - loss: 0.0650 - accuracy: 0.9790 - val_loss: 4.6051 - val_accuracy: 0.4106\n",
            "Epoch 40/50\n",
            "50000/50000 [==============================] - 14s 279us/sample - loss: 0.0627 - accuracy: 0.9794 - val_loss: 4.4037 - val_accuracy: 0.4125\n",
            "Epoch 41/50\n",
            "50000/50000 [==============================] - 14s 277us/sample - loss: 0.0674 - accuracy: 0.9792 - val_loss: 4.4921 - val_accuracy: 0.4128\n",
            "Epoch 42/50\n",
            "50000/50000 [==============================] - 14s 278us/sample - loss: 0.0635 - accuracy: 0.9796 - val_loss: 4.6002 - val_accuracy: 0.4157\n",
            "Epoch 43/50\n",
            "50000/50000 [==============================] - 14s 278us/sample - loss: 0.0645 - accuracy: 0.9790 - val_loss: 4.5219 - val_accuracy: 0.4210\n",
            "Epoch 44/50\n",
            "50000/50000 [==============================] - 14s 277us/sample - loss: 0.0666 - accuracy: 0.9795 - val_loss: 4.5174 - val_accuracy: 0.4280\n",
            "Epoch 45/50\n",
            "50000/50000 [==============================] - 14s 277us/sample - loss: 0.0603 - accuracy: 0.9813 - val_loss: 4.6429 - val_accuracy: 0.4216\n",
            "Epoch 46/50\n",
            "50000/50000 [==============================] - 14s 276us/sample - loss: 0.0608 - accuracy: 0.9808 - val_loss: 4.5526 - val_accuracy: 0.4145\n",
            "Epoch 47/50\n",
            "50000/50000 [==============================] - 14s 278us/sample - loss: 0.0606 - accuracy: 0.9806 - val_loss: 4.6206 - val_accuracy: 0.4131\n",
            "Epoch 48/50\n",
            "50000/50000 [==============================] - 14s 277us/sample - loss: 0.0558 - accuracy: 0.9828 - val_loss: 4.6997 - val_accuracy: 0.4244\n",
            "Epoch 49/50\n",
            "50000/50000 [==============================] - 14s 277us/sample - loss: 0.0528 - accuracy: 0.9827 - val_loss: 4.6913 - val_accuracy: 0.4095\n",
            "Epoch 50/50\n",
            "50000/50000 [==============================] - 14s 277us/sample - loss: 0.0599 - accuracy: 0.9818 - val_loss: 4.7329 - val_accuracy: 0.4149\n",
            "10000/10000 - 1s - loss: 4.7329 - accuracy: 0.4149\n"
          ],
          "name": "stdout"
        },
        {
          "output_type": "execute_result",
          "data": {
            "text/plain": [
              "[4.73294077758789, 0.4149]"
            ]
          },
          "metadata": {
            "tags": []
          },
          "execution_count": 5
        }
      ]
    },
    {
      "cell_type": "code",
      "metadata": {
        "id": "4Vr6A5y1t1FY",
        "colab_type": "code",
        "outputId": "f4f4905c-c388-4bc5-b832-e23548371747",
        "colab": {
          "base_uri": "https://localhost:8080/",
          "height": 298
        }
      },
      "source": [
        "# prediction \n",
        "\n",
        "test_input = x_test[300,:,:,:]\n",
        "pred_y = model.predict(test_input.reshape([1,64,64,3]))\n",
        "\n",
        "plt.figure(1)\n",
        "plt.imshow(test_input.reshape([64,64,3]))\n",
        "plt.title(\"input\")\n",
        "print(\"model prediction = %s\"% pred_y.argmax())\n"
      ],
      "execution_count": 0,
      "outputs": [
        {
          "output_type": "stream",
          "text": [
            "model prediction = 33\n"
          ],
          "name": "stdout"
        },
        {
          "output_type": "display_data",
          "data": {
            "image/png": "[encoded data removed]",
            "text/plain": [
              "<Figure size 432x288 with 1 Axes>"
            ]
          },
          "metadata": {
            "tags": []
          }
        }
      ]
    }
  ]
}