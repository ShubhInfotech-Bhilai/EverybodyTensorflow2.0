{
  "nbformat": 4,
  "nbformat_minor": 0,
  "metadata": {
    "colab": {
      "name": "lab1_just_run_tf2.ipynb",
      "provenance": [],
      "include_colab_link": true
    },
    "kernelspec": {
      "name": "python3",
      "display_name": "Python 3"
    }
  },
  "cells": [
    {
      "cell_type": "markdown",
      "metadata": {
        "id": "view-in-github",
        "colab_type": "text"
      },
      "source": [
        "<a href=\"https://colab.research.google.com/github/jwkanggist/EverybodyTensorflow2.0/blob/master/lab1_just_run_tf2.ipynb\" target=\"_parent\"><img src=\"https://colab.research.google.com/assets/colab-badge.svg\" alt=\"Open In Colab\"/></a>"
      ]
    },
    {
      "cell_type": "markdown",
      "metadata": {
        "id": "bHCxtfJc09Ca",
        "colab_type": "text"
      },
      "source": [
        "# LAB1: Tensorflow 2.0 무작정 실행하기 \n",
        "목적: 텐서플로우 2.0 코드를 무작정 따라서 타이핑 해보고 실행해 본다"
      ]
    },
    {
      "cell_type": "code",
      "metadata": {
        "id": "sMzQLBEX0BrF",
        "colab_type": "code",
        "colab": {}
      },
      "source": [
        "# preprocessor parts\n",
        "\n",
        "from __future__ import absolute_import, division, print_function, unicode_literals\n",
        "\n",
        "# Install TensorFlow\n",
        "try:\n",
        "  # %tensorflow_version only exists in Colab.\n",
        "  %tensorflow_version 2.x\n",
        "except Exception:\n",
        "  pass\n",
        "\n",
        "import tensorflow as tf\n",
        "import matplotlib.pyplot as plt"
      ],
      "execution_count": 0,
      "outputs": []
    },
    {
      "cell_type": "code",
      "metadata": {
        "id": "5iWXJWJqEVRk",
        "colab_type": "code",
        "colab": {
          "base_uri": "https://localhost:8080/",
          "height": 51
        },
        "outputId": "d8a9df2f-a465-486c-8cb7-66a63a7e4cda"
      },
      "source": [
        "# dataset loading part\n",
        "\n",
        "mnist = tf.keras.datasets.mnist\n",
        "\n",
        "(x_train, y_train), (x_test, y_test) = mnist.load_data()\n",
        "x_train, x_test = x_train / 255.0, x_test / 255.0"
      ],
      "execution_count": 2,
      "outputs": [
        {
          "output_type": "stream",
          "text": [
            "Downloading data from https://storage.googleapis.com/tensorflow/tf-keras-datasets/mnist.npz\n",
            "11493376/11490434 [==============================] - 0s 0us/step\n"
          ],
          "name": "stdout"
        }
      ]
    },
    {
      "cell_type": "code",
      "metadata": {
        "id": "2_t5-zzWEcmi",
        "colab_type": "code",
        "colab": {}
      },
      "source": [
        "# model building and training setting part\n",
        "model = tf.keras.models.Sequential([\n",
        "  tf.keras.layers.Flatten(input_shape=(28, 28)),\n",
        "  tf.keras.layers.Dense(128, activation='relu'),\n",
        "  tf.keras.layers.Dropout(0.2),\n",
        "  tf.keras.layers.Dense(10, activation='softmax')\n",
        "])\n",
        "\n",
        "model.compile(optimizer='adam',\n",
        "              loss='sparse_categorical_crossentropy',\n",
        "              metrics=['accuracy'])"
      ],
      "execution_count": 0,
      "outputs": []
    },
    {
      "cell_type": "code",
      "metadata": {
        "id": "5ye_0E5-Enk6",
        "colab_type": "code",
        "colab": {
          "base_uri": "https://localhost:8080/",
          "height": 238
        },
        "outputId": "27b35802-984f-4cbc-f0cf-b3a42ece1f38"
      },
      "source": [
        "# model training and evaluation part\n",
        "model.fit(x_train, y_train, epochs=5)\n",
        "\n",
        "model.evaluate(x_test,  y_test, verbose=2)"
      ],
      "execution_count": 4,
      "outputs": [
        {
          "output_type": "stream",
          "text": [
            "Train on 60000 samples\n",
            "Epoch 1/5\n",
            "60000/60000 [==============================] - 6s 92us/sample - loss: 0.2929 - accuracy: 0.9156\n",
            "Epoch 2/5\n",
            "60000/60000 [==============================] - 5s 81us/sample - loss: 0.1407 - accuracy: 0.9583\n",
            "Epoch 3/5\n",
            "60000/60000 [==============================] - 5s 83us/sample - loss: 0.1060 - accuracy: 0.9678\n",
            "Epoch 4/5\n",
            "60000/60000 [==============================] - 5s 82us/sample - loss: 0.0864 - accuracy: 0.9731\n",
            "Epoch 5/5\n",
            "60000/60000 [==============================] - 5s 81us/sample - loss: 0.0742 - accuracy: 0.9761\n",
            "10000/10000 - 0s - loss: 0.0740 - accuracy: 0.9762\n"
          ],
          "name": "stdout"
        },
        {
          "output_type": "execute_result",
          "data": {
            "text/plain": [
              "[0.07396524285394698, 0.9762]"
            ]
          },
          "metadata": {
            "tags": []
          },
          "execution_count": 4
        }
      ]
    },
    {
      "cell_type": "code",
      "metadata": {
        "id": "cyLIRA2-LPR1",
        "colab_type": "code",
        "colab": {
          "base_uri": "https://localhost:8080/",
          "height": 298
        },
        "outputId": "a3a26860-6f04-4432-fdb1-f89a04d7ce3c"
      },
      "source": [
        "# prediction \n",
        "\n",
        "test_input = x_test[0,:,:]\n",
        "pred_y = model.predict(test_input.reshape([1,28,28]))\n",
        "\n",
        "plt.figure(1)\n",
        "plt.imshow(input)\n",
        "plt.title(\"input\")\n",
        "print(\"model prediction = %s\"% pred_y.argmax())\n"
      ],
      "execution_count": 22,
      "outputs": [
        {
          "output_type": "stream",
          "text": [
            "model prediction = 7\n"
          ],
          "name": "stdout"
        },
        {
          "output_type": "display_data",
          "data": {
            "image/png": "[encoded data removed]",
            "text/plain": [
              "<Figure size 432x288 with 1 Axes>"
            ]
          },
          "metadata": {
            "tags": []
          }
        }
      ]
    }
  ]
}