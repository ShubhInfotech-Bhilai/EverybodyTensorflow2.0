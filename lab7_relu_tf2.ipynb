{
  "nbformat": 4,
  "nbformat_minor": 0,
  "metadata": {
    "colab": {
      "name": "lab7_relu_tf2.ipynb",
      "provenance": [],
      "include_colab_link": true
    },
    "kernelspec": {
      "name": "python3",
      "display_name": "Python 3"
    }
  },
  "cells": [
    {
      "cell_type": "markdown",
      "metadata": {
        "id": "view-in-github",
        "colab_type": "text"
      },
      "source": [
        "<a href=\"https://colab.research.google.com/github/jwkanggist/EverybodyTensorflow2.0/blob/master/lab7_relu_tf2.ipynb\" target=\"_parent\"><img src=\"https://colab.research.google.com/assets/colab-badge.svg\" alt=\"Open In Colab\"/></a>"
      ]
    },
    {
      "cell_type": "markdown",
      "metadata": {
        "id": "aRFuS_UpsuIE",
        "colab_type": "text"
      },
      "source": [
        "#LAB7 Relu 사용해 보기\n",
        "\n",
        "목적: Relu activation을 사용해서 vanishing Gradient Problem이 완화되는 것을 확인한다."
      ]
    },
    {
      "cell_type": "code",
      "metadata": {
        "id": "7eqAsq9nsp0P",
        "colab_type": "code",
        "outputId": "0f1c8067-61be-43c2-9932-ea9ba742aa1d",
        "colab": {
          "base_uri": "https://localhost:8080/",
          "height": 139
        }
      },
      "source": [
        "# preprocessor parts\n",
        "\n",
        "from __future__ import absolute_import, division, print_function, unicode_literals\n",
        "\n",
        "# Install TensorFlow\n",
        "try:\n",
        "  # %tensorflow_version only exists in Colab.\n",
        "  %tensorflow_version 2.x\n",
        "except Exception:\n",
        "  pass\n",
        "\n",
        "import tensorflow as tf\n",
        "from tensorflow.keras.callbacks import TensorBoard\n",
        "\n",
        "import numpy as np\n",
        "import pandas as pd\n",
        "\n",
        "from matplotlib import cm\n",
        "from matplotlib import gridspec\n",
        "import matplotlib.pyplot as plt\n",
        "\n",
        "from datetime import datetime\n",
        "\n",
        "from google.colab import drive\n",
        "# This will prompt for authorization.\n",
        "drive.mount('/content/drive')"
      ],
      "execution_count": 0,
      "outputs": [
        {
          "output_type": "stream",
          "text": [
            "TensorFlow 2.x selected.\n",
            "Go to this URL in a browser: https://accounts.google.com/o/oauth2/auth?client_id=947318989803-6bn6qk8qdgf4n4g3pfee6491hc0brc4i.apps.googleusercontent.com&redirect_uri=urn%3aietf%3awg%3aoauth%3a2.0%3aoob&response_type=code&scope=email%20https%3a%2f%2fwww.googleapis.com%2fauth%2fdocs.test%20https%3a%2f%2fwww.googleapis.com%2fauth%2fdrive%20https%3a%2f%2fwww.googleapis.com%2fauth%2fdrive.photos.readonly%20https%3a%2f%2fwww.googleapis.com%2fauth%2fpeopleapi.readonly\n",
            "\n",
            "Enter your authorization code:\n",
            "··········\n",
            "Mounted at /content/drive\n"
          ],
          "name": "stdout"
        }
      ]
    },
    {
      "cell_type": "code",
      "metadata": {
        "id": "ES0hIsUdZMRc",
        "colab_type": "code",
        "outputId": "326d605b-43d3-4c7b-de40-63025014b185",
        "colab": {
          "base_uri": "https://localhost:8080/",
          "height": 255
        }
      },
      "source": [
        "  # for Tensorboard use\n",
        "  LOG_DIR = 'content/drive/data/tb_logs'\n",
        "\t\n",
        "  !wget https://bin.equinox.io/c/4VmDzA7iaHb/ngrok-stable-linux-amd64.zip\n",
        "  !unzip ngrok-stable-linux-amd64.zip\n",
        "\t\n",
        "  import os\n",
        "  if not os.path.exists(LOG_DIR):\n",
        "    os.makedirs(LOG_DIR)\n",
        "\t  \n",
        "  get_ipython().system_raw(\n",
        "      'tensorboard --logdir {} --host 0.0.0.0 --port 6006 &'\n",
        "      .format(LOG_DIR))\n",
        "\t\n",
        "  get_ipython().system_raw('./ngrok http 6006 &')\n",
        "\t\n",
        "  !curl -s http://localhost:4040/api/tunnels | python3 -c \\\n",
        "      \"import sys, json; print(json.load(sys.stdin)['tunnels'][0]['public_url'])\""
      ],
      "execution_count": 0,
      "outputs": [
        {
          "output_type": "stream",
          "text": [
            "--2020-01-07 16:57:04--  https://bin.equinox.io/c/4VmDzA7iaHb/ngrok-stable-linux-amd64.zip\n",
            "Resolving bin.equinox.io (bin.equinox.io)... 34.204.156.91, 52.204.223.154, 35.174.75.106, ...\n",
            "Connecting to bin.equinox.io (bin.equinox.io)|34.204.156.91|:443... connected.\n",
            "HTTP request sent, awaiting response... 200 OK\n",
            "Length: 13773305 (13M) [application/octet-stream]\n",
            "Saving to: ‘ngrok-stable-linux-amd64.zip’\n",
            "\n",
            "ngrok-stable-linux- 100%[===================>]  13.13M  16.3MB/s    in 0.8s    \n",
            "\n",
            "2020-01-07 16:57:06 (16.3 MB/s) - ‘ngrok-stable-linux-amd64.zip’ saved [13773305/13773305]\n",
            "\n",
            "Archive:  ngrok-stable-linux-amd64.zip\n",
            "  inflating: ngrok                   \n",
            "http://4b63df7e.ngrok.io\n"
          ],
          "name": "stdout"
        }
      ]
    },
    {
      "cell_type": "code",
      "metadata": {
        "id": "FZR5Lp-Xs5OS",
        "colab_type": "code",
        "outputId": "a87a68af-b079-4120-edfd-789914dec5ff",
        "colab": {
          "base_uri": "https://localhost:8080/",
          "height": 336
        }
      },
      "source": [
        "xsize  = 2\n",
        "ysize  = 2\n",
        "\n",
        "data = pd.read_csv('/content/drive/My Drive/seminar_materials/TensorFlow Lecture/KIT2020/data/lab45/twospirals_N5000.csv')\n",
        "data.columns=['xdata1','xdata2','tdata']\n",
        "permutation_index = np.random.permutation(data.index)\n",
        "permutated_data = data.reindex(permutation_index)\n",
        "permutated_data.columns=['xdata1','xdata2','tdata']\n",
        "\n",
        "x_data = np.zeros([permutated_data.xdata1.size,xsize])\n",
        "x_data[:,0] = permutated_data.xdata1.values\n",
        "x_data[:,1] = permutated_data.xdata2.values\n",
        "\n",
        "t_data = np.zeros([permutated_data.tdata.size,ysize])\n",
        "t_data[:,0] = permutated_data.tdata.values\n",
        "t_data[:,1] = np.invert(permutated_data.tdata.values) + 2\n",
        "\n",
        "\n",
        "total_size = permutated_data.xdata1.size\n",
        "training_size = int(np.floor(permutated_data.xdata1.size * 0.8))\n",
        "validation_size = total_size - training_size\n",
        "\n",
        "\n",
        "\n",
        "# data dividing\n",
        "x_train = x_data[0:training_size,:]\n",
        "y_train = t_data[0:training_size,:]\n",
        "\n",
        "x_test = x_data[training_size:-1,:]\n",
        "y_test = t_data[training_size:-1,:]\n",
        "\n",
        "# #data plot\n",
        "hfig1= plt.figure(1,figsize=[5,5])\n",
        "plt.scatter(data.xdata1.values[0:int(data.xdata1.size/2)],\\\n",
        "            data.xdata2.values[0:int(data.xdata1.size/2)], \\\n",
        "            color='b',label='class1')\n",
        "plt.scatter(data.xdata1.values[int(data.xdata1.size/2)+2:-1],\\\n",
        "            data.xdata2.values[int(data.xdata1.size/2)+2:-1], \\\n",
        "            color='r',label='class0')\n",
        "plt.title('Cluster in Cluster data Example')\n",
        "plt.legend()\n",
        "\n",
        "plt.show()"
      ],
      "execution_count": 0,
      "outputs": [
        {
          "output_type": "display_data",
          "data": {
            "image/png": "[encoded data removed]",
            "text/plain": [
              "<Figure size 360x360 with 1 Axes>"
            ]
          },
          "metadata": {
            "tags": []
          }
        }
      ]
    },
    {
      "cell_type": "code",
      "metadata": {
        "id": "SXOTDGtts570",
        "colab_type": "code",
        "colab": {}
      },
      "source": [
        "# model building and training setting part\n",
        "\n",
        "# Network Parameters\n",
        "# Network Parameters\n",
        "n_hidden_1 = 16 # 1st layer number of neurons\n",
        "n_hidden_2 = 16 # 2nd layer number of neurons\n",
        "n_hidden_3 = 16 # 3rd layer number of neurons\n",
        "n_hidden_4 = 24 # 4rd layer number of neurons\n",
        "n_hidden_5 = 24 # 5rd layer number of neurons\n",
        "n_hidden_6 = 16 # 1st layer number of neurons\n",
        "n_hidden_7 = 12 # 2nd layer number of neurons\n",
        "n_hidden_8 = 7 # 3rd layer number of neurons\n",
        "n_hidden_9 = 4 # 4rd layer number of neurons\n",
        "n_hidden_10 = 4 # 5rd layer number of neurons\n",
        "num_input = xsize   # two-dimensional input X = [1x2]\n",
        "num_classes = ysize # 2 class\n",
        "\n",
        "model = tf.keras.models.Sequential([\n",
        "  tf.keras.layers.Dense(n_hidden_1, activation='relu'),\n",
        "  tf.keras.layers.Dense(n_hidden_2, activation='relu'),\n",
        "  tf.keras.layers.Dense(n_hidden_3, activation='relu'),\n",
        "  tf.keras.layers.Dense(n_hidden_4, activation='relu'),\n",
        "  tf.keras.layers.Dense(n_hidden_5, activation='relu'),\n",
        "  tf.keras.layers.Dense(n_hidden_6, activation='relu'),\n",
        "  tf.keras.layers.Dense(n_hidden_7, activation='relu'),\n",
        "  tf.keras.layers.Dense(n_hidden_8, activation='relu'),\n",
        "  tf.keras.layers.Dense(n_hidden_9, activation='relu'),\n",
        "  tf.keras.layers.Dense(n_hidden_10, activation='relu'),\n",
        "  tf.keras.layers.Dense(num_classes, activation='linear')\n",
        "])\n",
        "\n",
        "opt_fn = tf.keras.optimizers.Adam(learning_rate=1e-5,\n",
        "                                beta_1=0.9,\n",
        "                                beta_2=0.999)\n",
        "\n",
        "\n",
        "model.compile(optimizer=opt_fn,\n",
        "              loss='categorical_crossentropy',\n",
        "              metrics=['accuracy'])\n",
        "\n",
        "tensorboard_callback = TensorBoard(log_dir=LOG_DIR, \n",
        "                           histogram_freq=1,\n",
        "                           write_graph=True,\n",
        "                           write_images=True)"
      ],
      "execution_count": 0,
      "outputs": []
    },
    {
      "cell_type": "code",
      "metadata": {
        "id": "9IAXZUvis6Wq",
        "colab_type": "code",
        "outputId": "e08198a1-6d40-41f9-c33d-0c12c3c33efc",
        "colab": {
          "base_uri": "https://localhost:8080/",
          "height": 238
        }
      },
      "source": [
        "# model training and evaluation part\n",
        "training_epochs = 5\n",
        "batch_size = 128\n",
        "\n",
        "model.fit(x_train, y_train, \n",
        "          epochs=training_epochs,\n",
        "          validation_data=(x_test, y_test),\n",
        "          batch_size=batch_size,\n",
        "          callbacks=[tensorboard_callback])\n",
        "model.evaluate(x_test,  y_test, verbose=2)"
      ],
      "execution_count": 0,
      "outputs": [
        {
          "output_type": "stream",
          "text": [
            "Train on 3999 samples, validate on 999 samples\n",
            "Epoch 1/5\n",
            "3999/3999 [==============================] - 1s 240us/sample - loss: 0.7135 - accuracy: 0.5009 - val_loss: 0.7151 - val_accuracy: 0.4965\n",
            "Epoch 2/5\n",
            "3999/3999 [==============================] - 0s 23us/sample - loss: 0.7133 - accuracy: 0.5009 - val_loss: 0.7150 - val_accuracy: 0.4965\n",
            "Epoch 3/5\n",
            "3999/3999 [==============================] - 0s 24us/sample - loss: 0.7131 - accuracy: 0.5009 - val_loss: 0.7148 - val_accuracy: 0.4965\n",
            "Epoch 4/5\n",
            "3999/3999 [==============================] - 0s 23us/sample - loss: 0.7129 - accuracy: 0.5009 - val_loss: 0.7146 - val_accuracy: 0.4965\n",
            "Epoch 5/5\n",
            "3999/3999 [==============================] - 0s 24us/sample - loss: 0.7127 - accuracy: 0.5009 - val_loss: 0.7144 - val_accuracy: 0.4965\n",
            "999/999 - 0s - loss: 0.7144 - accuracy: 0.4965\n"
          ],
          "name": "stdout"
        },
        {
          "output_type": "execute_result",
          "data": {
            "text/plain": [
              "[0.7143823022956963, 0.4964965]"
            ]
          },
          "metadata": {
            "tags": []
          },
          "execution_count": 7
        }
      ]
    }
  ]
}