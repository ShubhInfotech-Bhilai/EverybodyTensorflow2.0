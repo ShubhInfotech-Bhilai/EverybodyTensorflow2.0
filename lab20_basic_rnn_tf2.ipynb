{
  "nbformat": 4,
  "nbformat_minor": 0,
  "metadata": {
    "colab": {
      "name": "lab20_basic_rnn_tf2.ipynb",
      "provenance": [],
      "authorship_tag": "ABX9TyOpj6Fj/5aIuVYjTtpUwJP6",
      "include_colab_link": true
    },
    "kernelspec": {
      "name": "python3",
      "display_name": "Python 3"
    }
  },
  "cells": [
    {
      "cell_type": "markdown",
      "metadata": {
        "id": "view-in-github",
        "colab_type": "text"
      },
      "source": [
        "<a href=\"https://colab.research.google.com/github/jwkanggist/EverybodyTensorflow2.0/blob/master/lab20_basic_rnn_tf2.ipynb\" target=\"_parent\"><img src=\"https://colab.research.google.com/assets/colab-badge.svg\" alt=\"Open In Colab\"/></a>"
      ]
    },
    {
      "cell_type": "markdown",
      "metadata": {
        "id": "5BFZvL2Wu3kU",
        "colab_type": "text"
      },
      "source": [
        "# LAB20 Basic RNN using tf keras RNN\n",
        "\n",
        "- 간단한 seq to seq RNN을 구현해 볼까?\n",
        "- Tanh activation\n",
        "- TWO RNN  CELL → Single state RNN \n",
        "- 5 recurrent neuron \n",
        "- Each Xt  is 3 x 1 vector\n",
        "- Each Yt is 5 x 1 vector\n"
      ]
    },
    {
      "cell_type": "code",
      "metadata": {
        "id": "8bvioSmsutJ5",
        "colab_type": "code",
        "colab": {
          "base_uri": "https://localhost:8080/",
          "height": 50
        },
        "outputId": "3a56b4b0-9e77-4ea3-ae95-cc2a5ae889a4"
      },
      "source": [
        "# preprocessor parts\n",
        "\n",
        "from __future__ import absolute_import, division, print_function, unicode_literals\n",
        "\n",
        "# Install TensorFlow\n",
        "try:\n",
        "  # %tensorflow_version only exists in Colab.\n",
        "  %tensorflow_version 2.x\n",
        "except Exception:\n",
        "  pass\n",
        "\n",
        "import tensorflow as tf\n",
        "from tensorflow.keras.callbacks import TensorBoard\n",
        "import numpy as np\n",
        "\n",
        "tf.__version__"
      ],
      "execution_count": 1,
      "outputs": [
        {
          "output_type": "stream",
          "text": [
            "TensorFlow 2.x selected.\n"
          ],
          "name": "stdout"
        },
        {
          "output_type": "execute_result",
          "data": {
            "text/plain": [
              "'2.1.0-rc1'"
            ]
          },
          "metadata": {
            "tags": []
          },
          "execution_count": 1
        }
      ]
    },
    {
      "cell_type": "code",
      "metadata": {
        "id": "Lg8nJlLVzNsg",
        "colab_type": "code",
        "outputId": "70e447c6-f2d1-4f85-b453-97166043c7ab",
        "colab": {
          "base_uri": "https://localhost:8080/",
          "height": 272
        }
      },
      "source": [
        "  # for Tensorboard use\n",
        "  LOG_DIR = 'drive/data/tb_logs'\n",
        "\t\n",
        "  !wget https://bin.equinox.io/c/4VmDzA7iaHb/ngrok-stable-linux-amd64.zip\n",
        "  !unzip ngrok-stable-linux-amd64.zip\n",
        "\t\n",
        "  import os\n",
        "  if not os.path.exists(LOG_DIR):\n",
        "    os.makedirs(LOG_DIR)\n",
        "\t  \n",
        "  get_ipython().system_raw(\n",
        "      'tensorboard --logdir {} --host 0.0.0.0 --port 6006 &'\n",
        "      .format(LOG_DIR))\n",
        "\t\n",
        "  get_ipython().system_raw('./ngrok http 6006 &')\n",
        "\t\n",
        "  !curl -s http://localhost:4040/api/tunnels | python3 -c \\\n",
        "      \"import sys, json; print(json.load(sys.stdin)['tunnels'][0]['public_url'])\""
      ],
      "execution_count": 2,
      "outputs": [
        {
          "output_type": "stream",
          "text": [
            "--2020-01-18 15:17:50--  https://bin.equinox.io/c/4VmDzA7iaHb/ngrok-stable-linux-amd64.zip\n",
            "Resolving bin.equinox.io (bin.equinox.io)... 52.72.103.164, 52.73.147.107, 35.168.165.30, ...\n",
            "Connecting to bin.equinox.io (bin.equinox.io)|52.72.103.164|:443... connected.\n",
            "HTTP request sent, awaiting response... 200 OK\n",
            "Length: 13773305 (13M) [application/octet-stream]\n",
            "Saving to: ‘ngrok-stable-linux-amd64.zip’\n",
            "\n",
            "ngrok-stable-linux- 100%[===================>]  13.13M  19.3MB/s    in 0.7s    \n",
            "\n",
            "2020-01-18 15:17:56 (19.3 MB/s) - ‘ngrok-stable-linux-amd64.zip’ saved [13773305/13773305]\n",
            "\n",
            "Archive:  ngrok-stable-linux-amd64.zip\n",
            "  inflating: ngrok                   \n",
            "http://6a81be95.ngrok.io\n"
          ],
          "name": "stdout"
        }
      ]
    },
    {
      "cell_type": "code",
      "metadata": {
        "id": "cHGxKJzWzbEt",
        "colab_type": "code",
        "colab": {
          "base_uri": "https://localhost:8080/",
          "height": 252
        },
        "outputId": "84cbd498-686f-4c01-bea9-3b388f4e69ee"
      },
      "source": [
        "# test sequential data\n",
        "X0 = np.array([[0,1,2],\n",
        "              [3,4,5],\n",
        "              [6,7,8],\n",
        "              [9,0,1],\n",
        "              ]).reshape([4,1,3])\n",
        "\n",
        "X1 = np.array([[9,8,7],\n",
        "                [6,5,4],\n",
        "                [3,2,1],\n",
        "                [0,9,8]]).reshape([4,1,3])\n",
        "\n",
        "\n",
        "X =  np.concatenate([X0,X1],axis=1)\n",
        "print(\"X0.shape = %s\" % str(X0.shape))\n",
        "print(\"X1.shape = %s\" % str(X1.shape))\n",
        "print(\"X.shape = %s\" % str(X.shape))\n",
        "X"
      ],
      "execution_count": 4,
      "outputs": [
        {
          "output_type": "stream",
          "text": [
            "X0.shape = (4, 1, 3)\n",
            "X1.shape = (4, 1, 3)\n",
            "X.shape = (4, 2, 3)\n"
          ],
          "name": "stdout"
        },
        {
          "output_type": "execute_result",
          "data": {
            "text/plain": [
              "array([[[0, 1, 2],\n",
              "        [9, 8, 7]],\n",
              "\n",
              "       [[3, 4, 5],\n",
              "        [6, 5, 4]],\n",
              "\n",
              "       [[6, 7, 8],\n",
              "        [3, 2, 1]],\n",
              "\n",
              "       [[9, 0, 1],\n",
              "        [0, 9, 8]]])"
            ]
          },
          "metadata": {
            "tags": []
          },
          "execution_count": 4
        }
      ]
    },
    {
      "cell_type": "code",
      "metadata": {
        "id": "5vtx4FPTzjDn",
        "colab_type": "code",
        "colab": {
          "base_uri": "https://localhost:8080/",
          "height": 218
        },
        "outputId": "05f2363f-7b66-42e4-f4c6-85674d3118f6"
      },
      "source": [
        "model_config = \\\n",
        "{\n",
        "    'batch_size': None,\n",
        "    'n_input'   : 3,\n",
        "    'n_output'  : 5,\n",
        "    'num_steps' : 2,\n",
        "    'dtype'     : tf.float32\n",
        "}\n",
        "\n",
        "# [batch,step,ch]\n",
        "max_steps = 2\n",
        "channels = 3\n",
        "\n",
        "net_in = tf.keras.layers.Input(shape=(max_steps,channels))\n",
        "net    = tf.keras.layers.SimpleRNN(units=5,activation='tanh')(net_in)\n",
        "model  = tf.keras.models.Model(inputs=net_in,outputs=net)\n",
        "\n",
        "\n",
        "opt_fn = tf.keras.optimizers.Adam(learning_rate=1e-4,\n",
        "                                beta_1=0.9,\n",
        "                                beta_2=0.999)\n",
        "\n",
        "# 'sparse_categorical_crossentropy' is for integer labels\n",
        "model.compile(optimizer='adam',\n",
        "              loss='sparse_categorical_crossentropy',\n",
        "              metrics=['accuracy'])\n",
        "\n",
        "model.summary()"
      ],
      "execution_count": 5,
      "outputs": [
        {
          "output_type": "stream",
          "text": [
            "Model: \"model\"\n",
            "_________________________________________________________________\n",
            "Layer (type)                 Output Shape              Param #   \n",
            "=================================================================\n",
            "input_1 (InputLayer)         [(None, 2, 3)]            0         \n",
            "_________________________________________________________________\n",
            "simple_rnn (SimpleRNN)       (None, 5)                 45        \n",
            "=================================================================\n",
            "Total params: 45\n",
            "Trainable params: 45\n",
            "Non-trainable params: 0\n",
            "_________________________________________________________________\n"
          ],
          "name": "stdout"
        }
      ]
    },
    {
      "cell_type": "code",
      "metadata": {
        "id": "YHnCzLDLPFzO",
        "colab_type": "code",
        "colab": {
          "base_uri": "https://localhost:8080/",
          "height": 34
        },
        "outputId": "a5082ac0-41e8-4e06-adf0-5496152a28bd"
      },
      "source": [
        "# prediction \n",
        "test_input = X[0,:,:]\n",
        "pred_y = model.predict(test_input.reshape([1,max_steps,channels]))\n",
        "print(pred_y)\n"
      ],
      "execution_count": 13,
      "outputs": [
        {
          "output_type": "stream",
          "text": [
            "[[ 0.99998224 -0.9999956   0.99915075 -0.9985691  -0.99782944]]\n"
          ],
          "name": "stdout"
        }
      ]
    }
  ]
}