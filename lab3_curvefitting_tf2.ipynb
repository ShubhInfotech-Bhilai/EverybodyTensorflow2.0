{
  "nbformat": 4,
  "nbformat_minor": 0,
  "metadata": {
    "colab": {
      "name": "lab3_curvefitting_tf2.ipynb",
      "provenance": [],
      "include_colab_link": true
    },
    "kernelspec": {
      "name": "python3",
      "display_name": "Python 3"
    }
  },
  "cells": [
    {
      "cell_type": "markdown",
      "metadata": {
        "id": "view-in-github",
        "colab_type": "text"
      },
      "source": [
        "<a href=\"https://colab.research.google.com/github/jwkanggist/EverybodyTensorflow2.0/blob/master/lab3_curvefitting_tf2.ipynb\" target=\"_parent\"><img src=\"https://colab.research.google.com/assets/colab-badge.svg\" alt=\"Open In Colab\"/></a>"
      ]
    },
    {
      "cell_type": "markdown",
      "metadata": {
        "id": "DERyIrPQcw3f",
        "colab_type": "text"
      },
      "source": [
        "# LAB3 Curve-fitting\n",
        "목적: 가장 기본적인 머신러닝 연습문제인 curve fitting 문제를 tf2.0을 가지고 풀어보자!"
      ]
    },
    {
      "cell_type": "code",
      "metadata": {
        "id": "3L09Vk1Lctlc",
        "colab_type": "code",
        "colab": {}
      },
      "source": [
        "# preprocessor parts\n",
        "\n",
        "from __future__ import absolute_import, division, print_function, unicode_literals\n",
        "\n",
        "# Install TensorFlow\n",
        "try:\n",
        "  # %tensorflow_version only exists in Colab.\n",
        "  %tensorflow_version 2.x\n",
        "except Exception:\n",
        "  pass\n",
        "\n",
        "import tensorflow as tf\n",
        "from tensorflow.keras.callbacks import TensorBoard\n",
        "\n",
        "import numpy as np\n",
        "\n",
        "from matplotlib import cm\n",
        "from matplotlib import gridspec\n",
        "import matplotlib.pyplot as plt\n",
        "\n",
        "from datetime import datetime"
      ],
      "execution_count": 0,
      "outputs": []
    },
    {
      "cell_type": "code",
      "metadata": {
        "id": "TqDuAF6tZI5J",
        "colab_type": "code",
        "colab": {
          "base_uri": "https://localhost:8080/",
          "height": 255
        },
        "outputId": "7112d564-b9d8-48dd-c244-da0814d1f120"
      },
      "source": [
        "  # for Tensorboard use\n",
        "  LOG_DIR = 'drive/data/tb_logs'\n",
        "\t\n",
        "  !wget https://bin.equinox.io/c/4VmDzA7iaHb/ngrok-stable-linux-amd64.zip\n",
        "  !unzip ngrok-stable-linux-amd64.zip\n",
        "\t\n",
        "  import os\n",
        "  if not os.path.exists(LOG_DIR):\n",
        "    os.makedirs(LOG_DIR)\n",
        "\t  \n",
        "  get_ipython().system_raw(\n",
        "      'tensorboard --logdir {} --host 0.0.0.0 --port 6006 &'\n",
        "      .format(LOG_DIR))\n",
        "\t\n",
        "  get_ipython().system_raw('./ngrok http 6006 &')\n",
        "\t\n",
        "  !curl -s http://localhost:4040/api/tunnels | python3 -c \\\n",
        "      \"import sys, json; print(json.load(sys.stdin)['tunnels'][0]['public_url'])\""
      ],
      "execution_count": 3,
      "outputs": [
        {
          "output_type": "stream",
          "text": [
            "--2020-01-03 17:21:39--  https://bin.equinox.io/c/4VmDzA7iaHb/ngrok-stable-linux-amd64.zip\n",
            "Resolving bin.equinox.io (bin.equinox.io)... 3.229.196.117, 52.20.119.24, 54.174.175.170, ...\n",
            "Connecting to bin.equinox.io (bin.equinox.io)|3.229.196.117|:443... connected.\n",
            "HTTP request sent, awaiting response... 200 OK\n",
            "Length: 13773305 (13M) [application/octet-stream]\n",
            "Saving to: ‘ngrok-stable-linux-amd64.zip’\n",
            "\n",
            "ngrok-stable-linux- 100%[===================>]  13.13M  14.0MB/s    in 0.9s    \n",
            "\n",
            "2020-01-03 17:21:46 (14.0 MB/s) - ‘ngrok-stable-linux-amd64.zip’ saved [13773305/13773305]\n",
            "\n",
            "Archive:  ngrok-stable-linux-amd64.zip\n",
            "  inflating: ngrok                   \n",
            "https://ac24c524.ngrok.io\n"
          ],
          "name": "stdout"
        }
      ]
    },
    {
      "cell_type": "code",
      "metadata": {
        "id": "A-XYLYYyc6lu",
        "colab_type": "code",
        "outputId": "9c06c612-4b8c-44cf-a80a-7bc3dd490960",
        "colab": {
          "base_uri": "https://localhost:8080/",
          "height": 337
        }
      },
      "source": [
        "# Data pipeline: generation of data set\n",
        "\n",
        "total_size = 5000\n",
        "training_size = 4000\n",
        "validation_size = total_size - training_size\n",
        "\n",
        "xsize = 50 # the size of single x_data\n",
        "\n",
        "x_data = np.zeros([xsize, total_size])\n",
        "cos_x  = np.zeros([xsize, total_size])\n",
        "\n",
        "mag     = 1.0\n",
        "phase_rad = np.pi/4\n",
        "rad_freq = np.pi / 2.0\n",
        "\n",
        "for i in range(total_size):\n",
        "    x_data[:,i] =  np.linspace(-4,4,xsize)\n",
        "cos_x =  np.cos(rad_freq*x_data + phase_rad)\n",
        "\n",
        "\n",
        "\n",
        "noise_var   = 0.01\n",
        "noise       = np.sqrt(noise_var) * np.random.randn(xsize,total_size)\n",
        "y_clean     = cos_x\n",
        "y_data      = y_clean + noise\n",
        "\n",
        "x_train = x_data[:,0:training_size].transpose()\n",
        "y_train = y_data[:,0:training_size].transpose()\n",
        "\n",
        "x_test = x_data[:,training_size:-1].transpose()\n",
        "y_test = y_data[:,training_size:-1].transpose()\n",
        "\n",
        "# signal plot\n",
        "hfig1= plt.figure(1,figsize=[5,5])\n",
        "plt.plot(cos_x[:,1],color='b',label='clean')\n",
        "plt.plot(y_data[:,1],color='r',label='noisy')\n",
        "plt.legend()"
      ],
      "execution_count": 4,
      "outputs": [
        {
          "output_type": "execute_result",
          "data": {
            "text/plain": [
              "<matplotlib.legend.Legend at 0x7f555b3f42e8>"
            ]
          },
          "metadata": {
            "tags": []
          },
          "execution_count": 4
        },
        {
          "output_type": "display_data",
          "data": {
            "image/png": "[encoded data removed]",
            "text/plain": [
              "<Figure size 360x360 with 1 Axes>"
            ]
          },
          "metadata": {
            "tags": []
          }
        }
      ]
    },
    {
      "cell_type": "code",
      "metadata": {
        "id": "EAeqyUBYdd2K",
        "colab_type": "code",
        "colab": {}
      },
      "source": [
        "# model building\n",
        "\n",
        "net_in = tf.keras.layers.Input(shape=(xsize,))\n",
        "net = tf.keras.layers.Dense(xsize, activation='linear')(net_in)\n",
        "net = tf.cos(net)\n",
        "net = tf.keras.layers.Dense(xsize, activation='linear')(net)\n",
        "\n",
        "model = tf.keras.models.Model(inputs=net_in,outputs=net)\n",
        "\n",
        "model.compile(optimizer='adam',\n",
        "              loss='mse',\n",
        "              metrics=['accuracy'])\n",
        "\n",
        "tensorboard_callback = TensorBoard(log_dir=LOG_DIR, \n",
        "                           histogram_freq=1,\n",
        "                           write_graph=True,\n",
        "                           write_images=True)"
      ],
      "execution_count": 0,
      "outputs": []
    },
    {
      "cell_type": "code",
      "metadata": {
        "id": "LFGmBi_Ffx2K",
        "colab_type": "code",
        "outputId": "4f8ae556-5671-4eb2-8803-6687792b5f3a",
        "colab": {
          "base_uri": "https://localhost:8080/",
          "height": 748
        }
      },
      "source": [
        "# model training and evaluation part\n",
        "training_epochs = 20\n",
        "model.fit(x_train, y_train, \n",
        "          epochs=training_epochs,\n",
        "          validation_data=(x_test, y_test),\n",
        "          batch_size=128,\n",
        "          callbacks=[tensorboard_callback])\n",
        "\n",
        "model.evaluate(x_test,  y_test, verbose=2)"
      ],
      "execution_count": 6,
      "outputs": [
        {
          "output_type": "stream",
          "text": [
            "Train on 4000 samples, validate on 999 samples\n",
            "Epoch 1/20\n",
            "4000/4000 [==============================] - 1s 269us/sample - loss: 0.1612 - accuracy: 0.1213 - val_loss: 0.0170 - val_accuracy: 0.1832\n",
            "Epoch 2/20\n",
            "4000/4000 [==============================] - 0s 34us/sample - loss: 0.0120 - accuracy: 0.2030 - val_loss: 0.0104 - val_accuracy: 0.2202\n",
            "Epoch 3/20\n",
            "4000/4000 [==============================] - 0s 33us/sample - loss: 0.0101 - accuracy: 0.1910 - val_loss: 0.0102 - val_accuracy: 0.1872\n",
            "Epoch 4/20\n",
            "4000/4000 [==============================] - 0s 31us/sample - loss: 0.0100 - accuracy: 0.1988 - val_loss: 0.0101 - val_accuracy: 0.2202\n",
            "Epoch 5/20\n",
            "4000/4000 [==============================] - 0s 27us/sample - loss: 0.0100 - accuracy: 0.1933 - val_loss: 0.0102 - val_accuracy: 0.1832\n",
            "Epoch 6/20\n",
            "4000/4000 [==============================] - 0s 29us/sample - loss: 0.0100 - accuracy: 0.1925 - val_loss: 0.0102 - val_accuracy: 0.2202\n",
            "Epoch 7/20\n",
            "4000/4000 [==============================] - 0s 30us/sample - loss: 0.0100 - accuracy: 0.1945 - val_loss: 0.0102 - val_accuracy: 0.1872\n",
            "Epoch 8/20\n",
            "4000/4000 [==============================] - 0s 31us/sample - loss: 0.0101 - accuracy: 0.1965 - val_loss: 0.0102 - val_accuracy: 0.1832\n",
            "Epoch 9/20\n",
            "4000/4000 [==============================] - 0s 30us/sample - loss: 0.0101 - accuracy: 0.2132 - val_loss: 0.0102 - val_accuracy: 0.2202\n",
            "Epoch 10/20\n",
            "4000/4000 [==============================] - 0s 30us/sample - loss: 0.0101 - accuracy: 0.1992 - val_loss: 0.0102 - val_accuracy: 0.1832\n",
            "Epoch 11/20\n",
            "4000/4000 [==============================] - 0s 29us/sample - loss: 0.0101 - accuracy: 0.2055 - val_loss: 0.0102 - val_accuracy: 0.2202\n",
            "Epoch 12/20\n",
            "4000/4000 [==============================] - 0s 30us/sample - loss: 0.0101 - accuracy: 0.1970 - val_loss: 0.0102 - val_accuracy: 0.1832\n",
            "Epoch 13/20\n",
            "4000/4000 [==============================] - 0s 27us/sample - loss: 0.0101 - accuracy: 0.1840 - val_loss: 0.0102 - val_accuracy: 0.1832\n",
            "Epoch 14/20\n",
            "4000/4000 [==============================] - 0s 43us/sample - loss: 0.0101 - accuracy: 0.2005 - val_loss: 0.0102 - val_accuracy: 0.2202\n",
            "Epoch 15/20\n",
            "4000/4000 [==============================] - 0s 30us/sample - loss: 0.0101 - accuracy: 0.2037 - val_loss: 0.0102 - val_accuracy: 0.2202\n",
            "Epoch 16/20\n",
            "4000/4000 [==============================] - 0s 30us/sample - loss: 0.0101 - accuracy: 0.1943 - val_loss: 0.0103 - val_accuracy: 0.2202\n",
            "Epoch 17/20\n",
            "4000/4000 [==============================] - 0s 31us/sample - loss: 0.0101 - accuracy: 0.2055 - val_loss: 0.0102 - val_accuracy: 0.1832\n",
            "Epoch 18/20\n",
            "4000/4000 [==============================] - 0s 31us/sample - loss: 0.0101 - accuracy: 0.1935 - val_loss: 0.0102 - val_accuracy: 0.1832\n",
            "Epoch 19/20\n",
            "4000/4000 [==============================] - 0s 28us/sample - loss: 0.0101 - accuracy: 0.2023 - val_loss: 0.0102 - val_accuracy: 0.1872\n",
            "Epoch 20/20\n",
            "4000/4000 [==============================] - 0s 30us/sample - loss: 0.0101 - accuracy: 0.1995 - val_loss: 0.0102 - val_accuracy: 0.1872\n",
            "999/999 - 0s - loss: 0.0102 - accuracy: 0.1872\n"
          ],
          "name": "stdout"
        },
        {
          "output_type": "execute_result",
          "data": {
            "text/plain": [
              "[0.010246115956675482, 0.18718718]"
            ]
          },
          "metadata": {
            "tags": []
          },
          "execution_count": 6
        }
      ]
    },
    {
      "cell_type": "code",
      "metadata": {
        "id": "BolkvVyWfy4H",
        "colab_type": "code",
        "colab": {}
      },
      "source": [
        "# prediction \n",
        "\n",
        "plt.figure(1,figsize=(5,5))\n",
        "test_input = x_test[0,:]\n",
        "test_output = y_test[0,:]\n",
        "pred_y = model.predict(test_input.reshape([1,xsize]))\n",
        "plt.plot(test_input,test_output,label='noisy data',color='b',marker='*')\n",
        "plt.plot(test_input, pred_y.reshape([xsize,]),label='prediction',color='r')\n",
        "plt.legend()\n",
        "plt.title('A line fitting example:')\n",
        "plt.xlabel('X data')\n",
        "plt.ylabel('Y data')"
      ],
      "execution_count": 0,
      "outputs": []
    }
  ]
}