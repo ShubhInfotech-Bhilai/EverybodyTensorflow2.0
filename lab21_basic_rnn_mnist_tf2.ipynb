{
  "nbformat": 4,
  "nbformat_minor": 0,
  "metadata": {
    "colab": {
      "name": "lab21_basic_rnn_mnist_tf2.ipynb",
      "provenance": [],
      "include_colab_link": true
    },
    "kernelspec": {
      "name": "python3",
      "display_name": "Python 3"
    }
  },
  "cells": [
    {
      "cell_type": "markdown",
      "metadata": {
        "id": "view-in-github",
        "colab_type": "text"
      },
      "source": [
        "<a href=\"https://colab.research.google.com/github/jwkanggist/EverybodyTensorflow2.0/blob/master/lab21_basic_rnn_mnist_tf2.ipynb\" target=\"_parent\"><img src=\"https://colab.research.google.com/assets/colab-badge.svg\" alt=\"Open In Colab\"/></a>"
      ]
    },
    {
      "cell_type": "markdown",
      "metadata": {
        "id": "bHCxtfJc09Ca",
        "colab_type": "text"
      },
      "source": [
        "# LAB21: Basic RNN for MNIST classification\n",
        "- Train a basic RNN for MNIST classification (seq2vec)\n",
        "- A 28x28 MNIST image is represented as n_input x n_steps\n",
        "- The output layer is connected to the final state of the RNN\n"
      ]
    },
    {
      "cell_type": "code",
      "metadata": {
        "id": "sMzQLBEX0BrF",
        "colab_type": "code",
        "colab": {}
      },
      "source": [
        "# preprocessor parts\n",
        "from __future__ import absolute_import, division, print_function, unicode_literals\n",
        "\n",
        "# Install TensorFlow\n",
        "try:\n",
        "  # %tensorflow_version only exists in Colab.\n",
        "  %tensorflow_version 2.x\n",
        "except Exception:\n",
        "  pass\n",
        "\n",
        "import tensorflow as tf\n",
        "from tensorflow.keras.callbacks import TensorBoard\n",
        "import matplotlib.pyplot as plt"
      ],
      "execution_count": 0,
      "outputs": []
    },
    {
      "cell_type": "code",
      "metadata": {
        "id": "P2snpnkPXKcD",
        "colab_type": "code",
        "colab": {
          "base_uri": "https://localhost:8080/",
          "height": 255
        },
        "outputId": "d4534f81-5f31-4b39-ec74-32e025698508"
      },
      "source": [
        " # for Tensorboard use\n",
        "  LOG_DIR = 'drive/data/tb_logs'\n",
        "\t\n",
        "  !wget https://bin.equinox.io/c/4VmDzA7iaHb/ngrok-stable-linux-amd64.zip\n",
        "  !unzip ngrok-stable-linux-amd64.zip\n",
        "\t\n",
        "  import os\n",
        "  if not os.path.exists(LOG_DIR):\n",
        "    os.makedirs(LOG_DIR)\n",
        "\t  \n",
        "  get_ipython().system_raw(\n",
        "      'tensorboard --logdir {} --host 0.0.0.0 --port 6006 &'\n",
        "      .format(LOG_DIR))\n",
        "\t\n",
        "  get_ipython().system_raw('./ngrok http 6006 &')\n",
        "\t\n",
        "  !curl -s http://localhost:4040/api/tunnels | python3 -c \\\n",
        "      \"import sys, json; print(json.load(sys.stdin)['tunnels'][0]['public_url'])\""
      ],
      "execution_count": 3,
      "outputs": [
        {
          "output_type": "stream",
          "text": [
            "--2020-01-18 15:54:29--  https://bin.equinox.io/c/4VmDzA7iaHb/ngrok-stable-linux-amd64.zip\n",
            "Resolving bin.equinox.io (bin.equinox.io)... 52.204.140.35, 35.153.11.252, 52.3.157.51, ...\n",
            "Connecting to bin.equinox.io (bin.equinox.io)|52.204.140.35|:443... connected.\n",
            "HTTP request sent, awaiting response... 200 OK\n",
            "Length: 13773305 (13M) [application/octet-stream]\n",
            "Saving to: ‘ngrok-stable-linux-amd64.zip’\n",
            "\n",
            "ngrok-stable-linux- 100%[===================>]  13.13M  14.0MB/s    in 0.9s    \n",
            "\n",
            "2020-01-18 15:54:35 (14.0 MB/s) - ‘ngrok-stable-linux-amd64.zip’ saved [13773305/13773305]\n",
            "\n",
            "Archive:  ngrok-stable-linux-amd64.zip\n",
            "  inflating: ngrok                   \n",
            "http://c40e0dd7.ngrok.io\n"
          ],
          "name": "stdout"
        }
      ]
    },
    {
      "cell_type": "code",
      "metadata": {
        "id": "5iWXJWJqEVRk",
        "colab_type": "code",
        "colab": {
          "base_uri": "https://localhost:8080/",
          "height": 51
        },
        "outputId": "7e7cf2df-8bdf-4077-d5c3-25f2274655bc"
      },
      "source": [
        "# dataset loading part\n",
        "# 데이터 파이프라인 부분 \n",
        "mnist = tf.keras.datasets.mnist\n",
        "\n",
        "(x_train, y_train), (x_test, y_test) = mnist.load_data()\n",
        "x_train, x_test = x_train / 255.0, x_test / 255.0\n",
        "\n",
        "input_shape = x_train.shape[1]\n",
        "print(x_train.shape)\n",
        "print(input_shape)\n",
        "# [batch, 28,28]"
      ],
      "execution_count": 6,
      "outputs": [
        {
          "output_type": "stream",
          "text": [
            "(60000, 28, 28)\n",
            "28\n"
          ],
          "name": "stdout"
        }
      ]
    },
    {
      "cell_type": "code",
      "metadata": {
        "id": "2_t5-zzWEcmi",
        "colab_type": "code",
        "colab": {}
      },
      "source": [
        "# model building and training setting part\n",
        "#  Y = f(X ; W)\n",
        "dropout_rate=0.1\n",
        "\n",
        "net_in = tf.keras.layers.Input(shape=(input_shape,input_shape))\n",
        "net = tf.keras.layers.SimpleRNN(units=150,activation='tanh',\n",
        "                                    return_sequences=True,\n",
        "                                    return_state=False)(net_in)\n",
        "net = tf.keras.layers.SimpleRNN(units=150,activation='tanh',\n",
        "                                    return_sequences=True,\n",
        "                                    return_state=False)(net)\n",
        "net = tf.keras.layers.GlobalAvgPool1D()(net) # shape = [ batch_size, feature]\n",
        "net = tf.keras.layers.Dropout(dropout_rate)(net)\n",
        "net = tf.keras.layers.Dense(units=50, activation='relu')(net)\n",
        "net = tf.keras.layers.Dense(units=10, activation='softmax')(net)\n",
        "model = tf.keras.models.Model(inputs=net_in,outputs=net)\n",
        "\n",
        "\n",
        "model.compile(optimizer='adam',\n",
        "              loss='sparse_categorical_crossentropy',\n",
        "              metrics=['accuracy'])\n",
        "\n",
        "tensorboard_callback = TensorBoard(log_dir=LOG_DIR, \n",
        "                           histogram_freq=1,\n",
        "                           write_graph=True,\n",
        "                           write_images=True)\n",
        "\n",
        "model.summary()"
      ],
      "execution_count": 0,
      "outputs": []
    },
    {
      "cell_type": "code",
      "metadata": {
        "id": "5ye_0E5-Enk6",
        "colab_type": "code",
        "colab": {}
      },
      "source": [
        "# model training and evaluation part\n",
        "model.fit(x_train, y_train, epochs=5)\n",
        "\n",
        "model.evaluate(x_test,  y_test, verbose=2)"
      ],
      "execution_count": 0,
      "outputs": []
    },
    {
      "cell_type": "code",
      "metadata": {
        "id": "cyLIRA2-LPR1",
        "colab_type": "code",
        "colab": {}
      },
      "source": [
        "# prediction \n",
        "\n",
        "test_input = x_test[300,:,:]\n",
        "pred_y = model.predict(test_input.reshape([1,28,28]))\n",
        "\n",
        "plt.figure(1)\n",
        "plt.imshow(test_input)\n",
        "plt.title(\"input\")\n",
        "print(\"model prediction = %s\"% pred_y.argmax())\n"
      ],
      "execution_count": 0,
      "outputs": []
    }
  ]
}