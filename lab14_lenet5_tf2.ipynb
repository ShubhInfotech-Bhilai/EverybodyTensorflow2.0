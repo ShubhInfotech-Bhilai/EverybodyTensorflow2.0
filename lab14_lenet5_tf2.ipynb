{
  "nbformat": 4,
  "nbformat_minor": 0,
  "metadata": {
    "colab": {
      "name": "lab14_lenet5_tf2.ipynb",
      "provenance": [],
      "include_colab_link": true
    },
    "kernelspec": {
      "name": "python3",
      "display_name": "Python 3"
    },
    "accelerator": "GPU"
  },
  "cells": [
    {
      "cell_type": "markdown",
      "metadata": {
        "id": "view-in-github",
        "colab_type": "text"
      },
      "source": [
        "<a href=\"https://colab.research.google.com/github/jwkanggist/EverybodyTensorflow2.0/blob/master/lab14_lenet5_tf2.ipynb\" target=\"_parent\"><img src=\"https://colab.research.google.com/assets/colab-badge.svg\" alt=\"Open In Colab\"/></a>"
      ]
    },
    {
      "cell_type": "markdown",
      "metadata": {
        "id": "aRFuS_UpsuIE",
        "colab_type": "text"
      },
      "source": [
        "#LAB14: LeNet5 Implementation\n",
        "\n",
        "가장 간단한 CNN인 LeNet5를 만들어 보자!\n",
        "\n",
        "- 표를 보고 직접 코딩해보자! \n",
        "- Activation 은 relu를 사용\n",
        "- Dropout batch_norm도 적용해보자!\n"
      ]
    },
    {
      "cell_type": "code",
      "metadata": {
        "id": "7eqAsq9nsp0P",
        "colab_type": "code",
        "outputId": "14502a31-9350-4fd7-c164-7fd7f2cfb33d",
        "colab": {
          "base_uri": "https://localhost:8080/",
          "height": 34
        }
      },
      "source": [
        "# preprocessor parts\n",
        "\n",
        "from __future__ import absolute_import, division, print_function, unicode_literals\n",
        "\n",
        "# Install TensorFlow\n",
        "try:\n",
        "  # %tensorflow_version only exists in Colab.\n",
        "  %tensorflow_version 2.x\n",
        "except Exception:\n",
        "  pass\n",
        "\n",
        "import tensorflow as tf\n",
        "from tensorflow.keras.callbacks import TensorBoard\n",
        "\n",
        "import numpy as np\n",
        "import pandas as pd\n",
        "\n",
        "from matplotlib import cm\n",
        "from matplotlib import gridspec\n",
        "import matplotlib.pyplot as plt\n",
        "\n",
        "from datetime import datetime"
      ],
      "execution_count": 1,
      "outputs": [
        {
          "output_type": "stream",
          "text": [
            "TensorFlow 2.x selected.\n"
          ],
          "name": "stdout"
        }
      ]
    },
    {
      "cell_type": "code",
      "metadata": {
        "id": "ES0hIsUdZMRc",
        "colab_type": "code",
        "outputId": "d0d61321-e100-4112-9963-1f459823d4a5",
        "colab": {
          "base_uri": "https://localhost:8080/",
          "height": 275
        }
      },
      "source": [
        "  # for Tensorboard use\n",
        "  LOG_DIR = 'drive/data/tb_logs'\n",
        "\t\n",
        "  !wget https://bin.equinox.io/c/4VmDzA7iaHb/ngrok-stable-linux-amd64.zip\n",
        "  !unzip ngrok-stable-linux-amd64.zip\n",
        "\t\n",
        "  import os\n",
        "  if not os.path.exists(LOG_DIR):\n",
        "    os.makedirs(LOG_DIR)\n",
        "\t  \n",
        "  get_ipython().system_raw(\n",
        "      'tensorboard --logdir {} --host 0.0.0.0 --port 6006 &'\n",
        "      .format(LOG_DIR))\n",
        "\t\n",
        "  get_ipython().system_raw('./ngrok http 6006 &')\n",
        "\t\n",
        "  !curl -s http://localhost:4040/api/tunnels | python3 -c \\\n",
        "      \"import sys, json; print(json.load(sys.stdin)['tunnels'][0]['public_url'])\""
      ],
      "execution_count": 2,
      "outputs": [
        {
          "output_type": "stream",
          "text": [
            "--2020-01-10 18:54:00--  https://bin.equinox.io/c/4VmDzA7iaHb/ngrok-stable-linux-amd64.zip\n",
            "Resolving bin.equinox.io (bin.equinox.io)... 52.3.157.51, 34.236.27.247, 35.168.165.30, ...\n",
            "Connecting to bin.equinox.io (bin.equinox.io)|52.3.157.51|:443... connected.\n",
            "HTTP request sent, awaiting response... 200 OK\n",
            "Length: 13773305 (13M) [application/octet-stream]\n",
            "Saving to: ‘ngrok-stable-linux-amd64.zip’\n",
            "\n",
            "ngrok-stable-linux- 100%[===================>]  13.13M  7.21MB/s    in 1.8s    \n",
            "\n",
            "2020-01-10 18:54:04 (7.21 MB/s) - ‘ngrok-stable-linux-amd64.zip’ saved [13773305/13773305]\n",
            "\n",
            "Archive:  ngrok-stable-linux-amd64.zip\n",
            "  inflating: ngrok                   \n",
            "http://dcaf6131.ngrok.io\n"
          ],
          "name": "stdout"
        }
      ]
    },
    {
      "cell_type": "code",
      "metadata": {
        "id": "FZR5Lp-Xs5OS",
        "colab_type": "code",
        "colab": {}
      },
      "source": [
        "# dataset loading part\n",
        "# 데이터 파이프라인 부분 \n",
        "\n",
        "mnist = tf.keras.datasets.mnist\n",
        "\n",
        "(x_train, y_train), (x_test, y_test) = mnist.load_data()\n",
        "x_train, x_test = x_train / 255.0, x_test / 255.0\n",
        "\n",
        "x_train = x_train.reshape([x_train.shape[0],\n",
        "                           x_train.shape[1],\n",
        "                           x_train.shape[2],1])\n",
        "\n",
        "x_test = x_test.reshape([x_test.shape[0],\n",
        "                           x_test.shape[1],\n",
        "                           x_test.shape[2],1])"
      ],
      "execution_count": 0,
      "outputs": []
    },
    {
      "cell_type": "code",
      "metadata": {
        "id": "SXOTDGtts570",
        "colab_type": "code",
        "colab": {}
      },
      "source": [
        "# Network Parameters\n",
        "\n",
        "model = tf.keras.models.Sequential([\n",
        "  tf.keras.layers.Conv2D(filters=6,kernel_size=(5,5),strides=(1,1),activation='relu'),\n",
        "  tf.keras.layers.AvgPool2D(pool_size=(2,2),strides=(1,1),padding='valid'),\n",
        "  tf.keras.layers.Conv2D(filters=16,kernel_size=(5,5),strides=(1,1),activation='relu'),\n",
        "  tf.keras.layers.AvgPool2D(pool_size=(2,2),strides=(1,1),padding='valid'),\n",
        "  tf.keras.layers.Conv2D(filters=120,kernel_size=(5,5),strides=(1,1),activation='relu'),\n",
        "  tf.keras.layers.Flatten(),\n",
        "  tf.keras.layers.Dense(units=84,activation='relu'),\n",
        "  tf.keras.layers.Dense(units=10,activation='softmax')\n",
        "])\n",
        "\n",
        "opt_fn = tf.keras.optimizers.Adam(learning_rate=1e-3,\n",
        "                                beta_1=0.9,\n",
        "                                beta_2=0.999)\n",
        "\n",
        "# 'sparse_categorical_crossentropy' is for integer labels\n",
        "model.compile(optimizer='adam',\n",
        "              loss='sparse_categorical_crossentropy',\n",
        "              metrics=['accuracy'])\n",
        "\n",
        "tensorboard_callback = TensorBoard(log_dir=LOG_DIR, \n",
        "                           histogram_freq=1,\n",
        "                           write_graph=True,\n",
        "                           write_images=True)"
      ],
      "execution_count": 0,
      "outputs": []
    },
    {
      "cell_type": "code",
      "metadata": {
        "id": "9IAXZUvis6Wq",
        "colab_type": "code",
        "outputId": "32cef75c-1be8-42c5-fd16-719171be95e7",
        "colab": {
          "base_uri": "https://localhost:8080/",
          "height": 428
        }
      },
      "source": [
        "# model training and evaluation part\n",
        "training_epochs = 10\n",
        "batch_size = 128\n",
        "\n",
        "model.fit(x_train, y_train, \n",
        "          epochs=training_epochs,\n",
        "          validation_data=(x_test, y_test),\n",
        "          batch_size=batch_size,\n",
        "          callbacks=[tensorboard_callback])\n",
        "model.evaluate(x_test,  y_test, verbose=2)"
      ],
      "execution_count": 36,
      "outputs": [
        {
          "output_type": "stream",
          "text": [
            "Train on 60000 samples, validate on 10000 samples\n",
            "Epoch 1/10\n",
            "60000/60000 [==============================] - 4s 72us/sample - loss: 0.1746 - accuracy: 0.9454 - val_loss: 0.0610 - val_accuracy: 0.9801\n",
            "Epoch 2/10\n",
            "60000/60000 [==============================] - 4s 65us/sample - loss: 0.0512 - accuracy: 0.9841 - val_loss: 0.0365 - val_accuracy: 0.9883\n",
            "Epoch 3/10\n",
            "60000/60000 [==============================] - 4s 62us/sample - loss: 0.0354 - accuracy: 0.9890 - val_loss: 0.0367 - val_accuracy: 0.9866\n",
            "Epoch 4/10\n",
            "60000/60000 [==============================] - 4s 63us/sample - loss: 0.0276 - accuracy: 0.9910 - val_loss: 0.0336 - val_accuracy: 0.9887\n",
            "Epoch 5/10\n",
            "60000/60000 [==============================] - 4s 63us/sample - loss: 0.0209 - accuracy: 0.9937 - val_loss: 0.0308 - val_accuracy: 0.9905\n",
            "Epoch 6/10\n",
            "60000/60000 [==============================] - 4s 63us/sample - loss: 0.0163 - accuracy: 0.9947 - val_loss: 0.0333 - val_accuracy: 0.9904\n",
            "Epoch 7/10\n",
            "60000/60000 [==============================] - 4s 62us/sample - loss: 0.0137 - accuracy: 0.9952 - val_loss: 0.0310 - val_accuracy: 0.9906\n",
            "Epoch 8/10\n",
            "60000/60000 [==============================] - 4s 63us/sample - loss: 0.0116 - accuracy: 0.9962 - val_loss: 0.0301 - val_accuracy: 0.9917\n",
            "Epoch 9/10\n",
            "60000/60000 [==============================] - 4s 63us/sample - loss: 0.0101 - accuracy: 0.9966 - val_loss: 0.0414 - val_accuracy: 0.9883\n",
            "Epoch 10/10\n",
            "60000/60000 [==============================] - 4s 63us/sample - loss: 0.0103 - accuracy: 0.9965 - val_loss: 0.0455 - val_accuracy: 0.9889\n",
            "10000/10000 - 1s - loss: 0.0455 - accuracy: 0.9889\n"
          ],
          "name": "stdout"
        },
        {
          "output_type": "execute_result",
          "data": {
            "text/plain": [
              "[0.04547713424958856, 0.9889]"
            ]
          },
          "metadata": {
            "tags": []
          },
          "execution_count": 36
        }
      ]
    },
    {
      "cell_type": "code",
      "metadata": {
        "id": "4Vr6A5y1t1FY",
        "colab_type": "code",
        "colab": {
          "base_uri": "https://localhost:8080/",
          "height": 298
        },
        "outputId": "a9f07bda-caa3-4f3a-ffe7-690a4efa09c3"
      },
      "source": [
        "# prediction \n",
        "\n",
        "test_input = x_test[300,:,:,:]\n",
        "pred_y = model.predict(test_input.reshape([1,28,28,1]))\n",
        "\n",
        "plt.figure(1)\n",
        "plt.imshow(test_input.reshape([28,28]))\n",
        "plt.title(\"input\")\n",
        "print(\"model prediction = %s\"% pred_y.argmax())\n"
      ],
      "execution_count": 37,
      "outputs": [
        {
          "output_type": "stream",
          "text": [
            "model prediction = 4\n"
          ],
          "name": "stdout"
        },
        {
          "output_type": "display_data",
          "data": {
            "image/png": "[encoded data removed]",
            "text/plain": [
              "<Figure size 432x288 with 1 Axes>"
            ]
          },
          "metadata": {
            "tags": []
          }
        }
      ]
    }
  ]
}