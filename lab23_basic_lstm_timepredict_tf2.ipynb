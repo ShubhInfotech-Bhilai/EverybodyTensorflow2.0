{
  "nbformat": 4,
  "nbformat_minor": 0,
  "metadata": {
    "colab": {
      "name": "lab23_basic_lstm_timepredict_tf2.ipynb",
      "provenance": [],
      "include_colab_link": true
    },
    "kernelspec": {
      "name": "python3",
      "display_name": "Python 3"
    }
  },
  "cells": [
    {
      "cell_type": "markdown",
      "metadata": {
        "id": "view-in-github",
        "colab_type": "text"
      },
      "source": [
        "<a href=\"https://colab.research.google.com/github/jwkanggist/EverybodyTensorflow2.0/blob/master/lab23_basic_lstm_timepredict_tf2.ipynb\" target=\"_parent\"><img src=\"https://colab.research.google.com/assets/colab-badge.svg\" alt=\"Open In Colab\"/></a>"
      ]
    },
    {
      "cell_type": "markdown",
      "metadata": {
        "id": "bHCxtfJc09Ca",
        "colab_type": "text"
      },
      "source": [
        "# LAB23: Basic LSTM to Predict Time Series\n",
        "- Train a basic LSTM to predict a time series (seq2seq)\n",
        "\n"
      ]
    },
    {
      "cell_type": "code",
      "metadata": {
        "id": "sMzQLBEX0BrF",
        "colab_type": "code",
        "outputId": "c08da27a-ff19-4405-cbde-f6f58d44f703",
        "colab": {
          "base_uri": "https://localhost:8080/",
          "height": 35
        }
      },
      "source": [
        "# preprocessor parts\n",
        "from __future__ import absolute_import, division, print_function, unicode_literals\n",
        "\n",
        "# Install TensorFlow\n",
        "try:\n",
        "  # %tensorflow_version only exists in Colab.\n",
        "  %tensorflow_version 2.x\n",
        "except Exception:\n",
        "  pass\n",
        "\n",
        "import tensorflow as tf\n",
        "import numpy as np\n",
        "from tensorflow.keras.callbacks import TensorBoard\n",
        "import matplotlib.pyplot as plt"
      ],
      "execution_count": 1,
      "outputs": [
        {
          "output_type": "stream",
          "text": [
            "TensorFlow 2.x selected.\n"
          ],
          "name": "stdout"
        }
      ]
    },
    {
      "cell_type": "code",
      "metadata": {
        "id": "P2snpnkPXKcD",
        "colab_type": "code",
        "outputId": "2cbd2ed2-f0f8-4a4f-b054-d0476dfd09a1",
        "colab": {
          "base_uri": "https://localhost:8080/",
          "height": 289
        }
      },
      "source": [
        " # for Tensorboard use\n",
        "  LOG_DIR = 'drive/data/tb_logs'\n",
        "\t\n",
        "  !wget https://bin.equinox.io/c/4VmDzA7iaHb/ngrok-stable-linux-amd64.zip\n",
        "  !unzip ngrok-stable-linux-amd64.zip\n",
        "\t\n",
        "  import os\n",
        "  if not os.path.exists(LOG_DIR):\n",
        "    os.makedirs(LOG_DIR)\n",
        "\t  \n",
        "  get_ipython().system_raw(\n",
        "      'tensorboard --logdir {} --host 0.0.0.0 --port 6006 &'\n",
        "      .format(LOG_DIR))\n",
        "\t\n",
        "  get_ipython().system_raw('./ngrok http 6006 &')\n",
        "\t\n",
        "  !curl -s http://localhost:4040/api/tunnels | python3 -c \\\n",
        "      \"import sys, json; print(json.load(sys.stdin)['tunnels'][0]['public_url'])\""
      ],
      "execution_count": 2,
      "outputs": [
        {
          "output_type": "stream",
          "text": [
            "--2020-01-19 06:24:34--  https://bin.equinox.io/c/4VmDzA7iaHb/ngrok-stable-linux-amd64.zip\n",
            "Resolving bin.equinox.io (bin.equinox.io)... 54.157.5.20, 52.203.65.11, 34.196.154.11, ...\n",
            "Connecting to bin.equinox.io (bin.equinox.io)|54.157.5.20|:443... connected.\n",
            "HTTP request sent, awaiting response... 200 OK\n",
            "Length: 13773305 (13M) [application/octet-stream]\n",
            "Saving to: ‘ngrok-stable-linux-amd64.zip’\n",
            "\n",
            "ngrok-stable-linux- 100%[===================>]  13.13M  14.0MB/s    in 0.9s    \n",
            "\n",
            "2020-01-19 06:24:35 (14.0 MB/s) - ‘ngrok-stable-linux-amd64.zip’ saved [13773305/13773305]\n",
            "\n",
            "Archive:  ngrok-stable-linux-amd64.zip\n",
            "  inflating: ngrok                   \n",
            "https://29ff5854.ngrok.io\n"
          ],
          "name": "stdout"
        }
      ]
    },
    {
      "cell_type": "code",
      "metadata": {
        "id": "WZZ2wj6QfRzt",
        "colab_type": "code",
        "colab": {}
      },
      "source": [
        "model_config = \\\n",
        "{\n",
        "    'n_input'   : 1,\n",
        "    'n_units' : 200,\n",
        "    'n_output':1,\n",
        "    'num_steps' : 30\n",
        " }\n"
      ],
      "execution_count": 0,
      "outputs": []
    },
    {
      "cell_type": "code",
      "metadata": {
        "id": "5iWXJWJqEVRk",
        "colab_type": "code",
        "outputId": "6a1c68ba-04a3-41f9-fd66-f8ba7abfbad5",
        "colab": {
          "base_uri": "https://localhost:8080/",
          "height": 145
        }
      },
      "source": [
        "# dataset loading part\n",
        "# 데이터 파이프라인 부분 \n",
        "\n",
        "\n",
        "def gen_seq_data(datanum,shift_sample,sqe_sample_length):\n",
        "\n",
        "    data_step = 0.1\n",
        "    start_n = np.random.random_integers(low=0, high=30,size=datanum)\n",
        "    tx = np.zeros(shape=(datanum,sqe_sample_length))\n",
        "    ty = np.zeros(shape=(datanum,sqe_sample_length))\n",
        "\n",
        "    x_batch = np.zeros(shape=(datanum,sqe_sample_length))\n",
        "    y_batch = np.zeros(shape=(datanum,sqe_sample_length))\n",
        "    for i in range(datanum):\n",
        "      n = start_n[i]\n",
        "      tx[i,:] = np.arange(start=n, stop=n + sqe_sample_length*data_step, step=data_step)\n",
        "      ty[i,:] = tx[i,:] + shift_sample * data_step\n",
        "\n",
        "      x_batch[i,:] = tx[i,:] * np.sin(tx[i,:]) / 3 + 2 * np.sin(5 * tx[i,:])\n",
        "      y_batch[i,:] = ty[i,:] * np.sin(ty[i,:]) / 3 + 2 * np.sin(5 * ty[i,:])\n",
        "\n",
        "    return x_batch, y_batch, tx, ty\n",
        "\n",
        "shift_sample =2\n",
        "datanum = 20000\n",
        "\n",
        "x_train,y_train,tx_train,ty_train =gen_seq_data(datanum,shift_sample=shift_sample,\n",
        "                                                sqe_sample_length = model_config['num_steps'])\n",
        "\n",
        "x_test, y_test, tx_test, ty_test = gen_seq_data(1000,shift_sample=shift_sample,\n",
        "                                                sqe_sample_length=model_config['num_steps'])\n",
        "x_train          = x_train.reshape((-1,\\\n",
        "                                  model_config['num_steps'],\n",
        "                                  model_config['n_input']))\n",
        "y_train          = y_train.reshape((-1, \\\n",
        "                                  model_config['num_steps'],\n",
        "                                  model_config['n_output']))\n",
        "\n",
        "x_test          = x_test.reshape((-1,\\\n",
        "                                  model_config['num_steps'],\n",
        "                                  model_config['n_input']))\n",
        "y_test          = y_test.reshape((-1, \\\n",
        "                                  model_config['num_steps'],\n",
        "                                  model_config['n_output']))\n",
        "\n",
        "\n",
        "print(\"x_train.shape = %s\" % str(x_train.shape))\n",
        "print(\"c.shape = %s\" % str(y_train.shape))\n",
        "\n",
        "print(\"x_test.shape = %s\" % str(x_test.shape))\n",
        "print(\"y_test.shape = %s\" % str(y_test.shape))\n"
      ],
      "execution_count": 5,
      "outputs": [
        {
          "output_type": "stream",
          "text": [
            "/usr/local/lib/python3.6/dist-packages/ipykernel_launcher.py:6: DeprecationWarning: This function is deprecated. Please call randint(0, 30 + 1) instead\n",
            "  \n"
          ],
          "name": "stderr"
        },
        {
          "output_type": "stream",
          "text": [
            "x_train.shape = (20000, 30, 1)\n",
            "c.shape = (20000, 30, 1)\n",
            "x_test.shape = (1000, 30, 1)\n",
            "y_test.shape = (1000, 30, 1)\n"
          ],
          "name": "stdout"
        }
      ]
    },
    {
      "cell_type": "code",
      "metadata": {
        "id": "2_t5-zzWEcmi",
        "colab_type": "code",
        "outputId": "d0311fd1-ec8b-410a-9410-4a856a5a610f",
        "colab": {
          "base_uri": "https://localhost:8080/",
          "height": 413
        }
      },
      "source": [
        "# model building and training setting part\n",
        "#  Y = f(X ; W)\n",
        "dropout_rate=0.1\n",
        "\n",
        "net_in = tf.keras.layers.Input(shape=(model_config['num_steps'],1))\n",
        "net = tf.keras.layers.LSTM(units=model_config['n_units'],\n",
        "                                    activation='tanh',\n",
        "                                    return_sequences=True,\n",
        "                                    return_state=False)(net_in)                                 \n",
        "net = tf.keras.layers.Conv1D(filters=1,kernel_size=1,activation='relu')(net)\n",
        "net = tf.reshape(net,shape=[-1,model_config['num_steps']])\n",
        "net = tf.keras.layers.Dense(units=model_config['num_steps'], activation='relu')(net)\n",
        "net = tf.keras.layers.Dropout(dropout_rate)(net)\n",
        "net = tf.keras.layers.Dense(units=model_config['num_steps'], activation=None)(net)\n",
        "model = tf.keras.models.Model(inputs=net_in,outputs=net)\n",
        "\n",
        "opt_fn = tf.keras.optimizers.Adam(learning_rate=1e-3,\n",
        "                                beta_1=0.9,\n",
        "                                beta_2=0.999)\n",
        "\n",
        "model.compile(optimizer=opt_fn,\n",
        "              loss='mse',\n",
        "              metrics=['mse'])\n",
        "\n",
        "tensorboard_callback = TensorBoard(log_dir=LOG_DIR, \n",
        "                           histogram_freq=1,\n",
        "                           write_graph=True,\n",
        "                           write_images=True)\n",
        "\n",
        "model.summary()"
      ],
      "execution_count": 6,
      "outputs": [
        {
          "output_type": "stream",
          "text": [
            "Model: \"model\"\n",
            "_________________________________________________________________\n",
            "Layer (type)                 Output Shape              Param #   \n",
            "=================================================================\n",
            "input_1 (InputLayer)         [(None, 30, 1)]           0         \n",
            "_________________________________________________________________\n",
            "lstm (LSTM)                  (None, 30, 200)           161600    \n",
            "_________________________________________________________________\n",
            "conv1d (Conv1D)              (None, 30, 1)             201       \n",
            "_________________________________________________________________\n",
            "tf_op_layer_Reshape (TensorF [(None, 30)]              0         \n",
            "_________________________________________________________________\n",
            "dense (Dense)                (None, 30)                930       \n",
            "_________________________________________________________________\n",
            "dropout (Dropout)            (None, 30)                0         \n",
            "_________________________________________________________________\n",
            "dense_1 (Dense)              (None, 30)                930       \n",
            "=================================================================\n",
            "Total params: 163,661\n",
            "Trainable params: 163,661\n",
            "Non-trainable params: 0\n",
            "_________________________________________________________________\n"
          ],
          "name": "stdout"
        }
      ]
    },
    {
      "cell_type": "code",
      "metadata": {
        "id": "5ye_0E5-Enk6",
        "colab_type": "code",
        "colab": {
          "base_uri": "https://localhost:8080/",
          "height": 1000
        },
        "outputId": "c05b0240-3cd0-418a-f2a4-a0ba05453b7a"
      },
      "source": [
        "# model training and evaluation part\n",
        "training_epochs = 30\n",
        "batch_size = 128\n",
        "\n",
        "model.fit(x_train, y_train, \n",
        "          epochs=training_epochs,\n",
        "          validation_data=(x_test, y_test),\n",
        "          batch_size=batch_size,\n",
        "          callbacks=[tensorboard_callback])\n",
        "\n",
        "model.evaluate(x_test,  y_test, verbose=2)"
      ],
      "execution_count": 7,
      "outputs": [
        {
          "output_type": "stream",
          "text": [
            "Train on 20000 samples, validate on 1000 samples\n",
            "Epoch 1/30\n",
            "20000/20000 [==============================] - 25s 1ms/sample - loss: 11.8438 - mse: 11.8438 - val_loss: 3.7100 - val_mse: 3.7100\n",
            "Epoch 2/30\n",
            "20000/20000 [==============================] - 23s 1ms/sample - loss: 2.6818 - mse: 2.6818 - val_loss: 0.7178 - val_mse: 0.7178\n",
            "Epoch 3/30\n",
            "20000/20000 [==============================] - 23s 1ms/sample - loss: 1.3901 - mse: 1.3901 - val_loss: 0.3530 - val_mse: 0.3530\n",
            "Epoch 4/30\n",
            "20000/20000 [==============================] - 23s 1ms/sample - loss: 1.0738 - mse: 1.0738 - val_loss: 0.2368 - val_mse: 0.2368\n",
            "Epoch 5/30\n",
            "20000/20000 [==============================] - 23s 1ms/sample - loss: 0.9139 - mse: 0.9139 - val_loss: 0.2056 - val_mse: 0.2056\n",
            "Epoch 6/30\n",
            "20000/20000 [==============================] - 23s 1ms/sample - loss: 0.8207 - mse: 0.8207 - val_loss: 0.2255 - val_mse: 0.2255\n",
            "Epoch 7/30\n",
            "20000/20000 [==============================] - 23s 1ms/sample - loss: 0.7596 - mse: 0.7596 - val_loss: 0.0600 - val_mse: 0.0600\n",
            "Epoch 8/30\n",
            "20000/20000 [==============================] - 23s 1ms/sample - loss: 0.7169 - mse: 0.7169 - val_loss: 0.0740 - val_mse: 0.0740\n",
            "Epoch 9/30\n",
            "20000/20000 [==============================] - 23s 1ms/sample - loss: 0.6917 - mse: 0.6917 - val_loss: 0.0723 - val_mse: 0.0723\n",
            "Epoch 10/30\n",
            "20000/20000 [==============================] - 23s 1ms/sample - loss: 0.6824 - mse: 0.6824 - val_loss: 0.0666 - val_mse: 0.0666\n",
            "Epoch 11/30\n",
            "20000/20000 [==============================] - 23s 1ms/sample - loss: 0.6631 - mse: 0.6631 - val_loss: 0.0560 - val_mse: 0.0560\n",
            "Epoch 12/30\n",
            "20000/20000 [==============================] - 23s 1ms/sample - loss: 0.6372 - mse: 0.6372 - val_loss: 0.0540 - val_mse: 0.0540\n",
            "Epoch 13/30\n",
            "20000/20000 [==============================] - 22s 1ms/sample - loss: 0.6298 - mse: 0.6298 - val_loss: 0.0600 - val_mse: 0.0600\n",
            "Epoch 14/30\n",
            "20000/20000 [==============================] - 23s 1ms/sample - loss: 0.6183 - mse: 0.6183 - val_loss: 0.0387 - val_mse: 0.0387\n",
            "Epoch 15/30\n",
            "20000/20000 [==============================] - 23s 1ms/sample - loss: 0.6140 - mse: 0.6140 - val_loss: 0.0782 - val_mse: 0.0782\n",
            "Epoch 16/30\n",
            "20000/20000 [==============================] - 23s 1ms/sample - loss: 0.5935 - mse: 0.5935 - val_loss: 0.0366 - val_mse: 0.0366\n",
            "Epoch 17/30\n",
            "20000/20000 [==============================] - 23s 1ms/sample - loss: 0.5851 - mse: 0.5851 - val_loss: 0.0405 - val_mse: 0.0405\n",
            "Epoch 18/30\n",
            "20000/20000 [==============================] - 23s 1ms/sample - loss: 0.5840 - mse: 0.5840 - val_loss: 0.1012 - val_mse: 0.1012\n",
            "Epoch 19/30\n",
            "20000/20000 [==============================] - 23s 1ms/sample - loss: 0.5875 - mse: 0.5875 - val_loss: 0.0358 - val_mse: 0.0358\n",
            "Epoch 20/30\n",
            "20000/20000 [==============================] - 23s 1ms/sample - loss: 0.5758 - mse: 0.5758 - val_loss: 0.1139 - val_mse: 0.1139\n",
            "Epoch 21/30\n",
            "20000/20000 [==============================] - 23s 1ms/sample - loss: 0.5953 - mse: 0.5953 - val_loss: 0.0412 - val_mse: 0.0412\n",
            "Epoch 22/30\n",
            "20000/20000 [==============================] - 23s 1ms/sample - loss: 0.5708 - mse: 0.5708 - val_loss: 0.0851 - val_mse: 0.0851\n",
            "Epoch 23/30\n",
            "20000/20000 [==============================] - 23s 1ms/sample - loss: 0.5742 - mse: 0.5742 - val_loss: 0.0324 - val_mse: 0.0324\n",
            "Epoch 24/30\n",
            "20000/20000 [==============================] - 23s 1ms/sample - loss: 0.5791 - mse: 0.5791 - val_loss: 0.0342 - val_mse: 0.0342\n",
            "Epoch 25/30\n",
            "20000/20000 [==============================] - 23s 1ms/sample - loss: 0.5704 - mse: 0.5704 - val_loss: 0.0373 - val_mse: 0.0373\n",
            "Epoch 26/30\n",
            "20000/20000 [==============================] - 22s 1ms/sample - loss: 0.5599 - mse: 0.5599 - val_loss: 0.0348 - val_mse: 0.0348\n",
            "Epoch 27/30\n",
            "20000/20000 [==============================] - 22s 1ms/sample - loss: 0.5568 - mse: 0.5568 - val_loss: 0.0362 - val_mse: 0.0362\n",
            "Epoch 28/30\n",
            "20000/20000 [==============================] - 22s 1ms/sample - loss: 0.5663 - mse: 0.5663 - val_loss: 0.0259 - val_mse: 0.0259\n",
            "Epoch 29/30\n",
            "20000/20000 [==============================] - 22s 1ms/sample - loss: 0.5677 - mse: 0.5677 - val_loss: 0.0501 - val_mse: 0.0501\n",
            "Epoch 30/30\n",
            "20000/20000 [==============================] - 23s 1ms/sample - loss: 0.5670 - mse: 0.5670 - val_loss: 0.0635 - val_mse: 0.0635\n",
            "1000/1000 - 1s - loss: 0.0635 - mse: 0.0635\n"
          ],
          "name": "stdout"
        },
        {
          "output_type": "execute_result",
          "data": {
            "text/plain": [
              "[0.06354530549049378, 0.06354531]"
            ]
          },
          "metadata": {
            "tags": []
          },
          "execution_count": 7
        }
      ]
    },
    {
      "cell_type": "code",
      "metadata": {
        "id": "cyLIRA2-LPR1",
        "colab_type": "code",
        "colab": {}
      },
      "source": [
        "# prediction \n",
        "test_index = 12\n",
        "\n",
        "pred_y_train  = model.predict(x_train[test_index,:,:].reshape((1,model_config['num_steps'],1)))\n",
        "pred_y_test   = model.predict(x_test[test_index,:,:].reshape((1,model_config['num_steps'],1)))\n",
        "\n",
        "x_train_reshaped         = x_train[test_index,:,:].reshape((model_config['num_steps']))\n",
        "y_train_reshaped         = y_train[test_index,:,:].reshape((model_config['num_steps']))\n",
        "pred_y_train    = pred_y_train.reshape((model_config['num_steps']))\n",
        "\n",
        "x_test_reshaped           = x_test[test_index,:,:].reshape((model_config['num_steps']))\n",
        "y_test_reshaped           = y_test[test_index,:,:].reshape((model_config['num_steps']))\n",
        "pred_y_test     = pred_y_test.reshape((model_config['num_steps']))\n",
        "\n",
        "\n",
        "print(tx_train.shape)\n",
        "\n",
        "plt.figure(1)\n",
        "plt.plot(tx_train[test_index,:],x_train_reshaped ,color='b',marker='o',label='train_input')\n",
        "plt.plot(ty_train[test_index,:],y_train_reshaped ,color='r',marker='x',label='train_output')\n",
        "plt.plot(ty_train[test_index,:],pred_y_train,color='m',marker='x',label='pred_output')\n",
        "plt.legend()\n",
        "\n",
        "plt.figure(2)\n",
        "plt.plot(tx_test[test_index,:],x_test_reshaped ,color='b',marker='o',label='test_input')\n",
        "plt.plot(ty_test[test_index,:],y_test_reshaped ,color='r',marker='x',label='test_output')\n",
        "plt.plot(ty_test[test_index,:],pred_y_test,color='m',marker='x',label='pred_output')\n",
        "plt.legend()\n",
        "plt.show()\n"
      ],
      "execution_count": 0,
      "outputs": []
    }
  ]
}